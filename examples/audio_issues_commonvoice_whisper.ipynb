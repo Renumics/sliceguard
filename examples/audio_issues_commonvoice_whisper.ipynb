{
 "cells": [
  {
   "cell_type": "markdown",
   "id": "3dc29882",
   "metadata": {},
   "source": [
    "# Detecting audio issues in the Common Voice dataset\n",
    "This notebook aims at showing how you can leverage sliceguard to detect issues in audio datasets, using the commonvoice dataset as an example. Focus will be on the basic workflow, as well as showing how to leverage different embedding models from the huggingface hub."
   ]
  },
  {
   "cell_type": "markdown",
   "id": "ada14102",
   "metadata": {},
   "source": [
    "In order to run this example you will need some **dependencies**. Install them as follows."
   ]
  },
  {
   "cell_type": "code",
   "execution_count": 32,
   "id": "3999c7a1",
   "metadata": {},
   "outputs": [
    {
     "name": "stdout",
     "output_type": "stream",
     "text": [
      "Requirement already satisfied: sliceguard in /home/daniel/code/sliceguard/.venv/lib/python3.8/site-packages (0.0.3)\n",
      "Requirement already satisfied: librosa in /home/daniel/code/sliceguard/.venv/lib/python3.8/site-packages (0.10.0.post2)\n",
      "Requirement already satisfied: soundfile in /home/daniel/code/sliceguard/.venv/lib/python3.8/site-packages (0.12.1)\n",
      "Requirement already satisfied: datasets in /home/daniel/code/sliceguard/.venv/lib/python3.8/site-packages (2.13.1)\n",
      "Requirement already satisfied: tqdm in /home/daniel/code/sliceguard/.venv/lib/python3.8/site-packages (4.65.0)\n",
      "Requirement already satisfied: jiwer in /home/daniel/code/sliceguard/.venv/lib/python3.8/site-packages (3.0.2)\n",
      "Requirement already satisfied: Pillow>=9.5.0 in /home/daniel/code/sliceguard/.venv/lib/python3.8/site-packages (from sliceguard) (10.0.0)\n",
      "Requirement already satisfied: fairlearn>=0.8.0 in /home/daniel/code/sliceguard/.venv/lib/python3.8/site-packages (from sliceguard) (0.8.0)\n",
      "Requirement already satisfied: numpy>=1.17.2 in /home/daniel/code/sliceguard/.venv/lib/python3.8/site-packages (from sliceguard) (1.22.4)\n",
      "Requirement already satisfied: renumics-spotlight>=1.3.0rc1 in /home/daniel/code/sliceguard/.venv/lib/python3.8/site-packages (from sliceguard) (1.3.0rc2)\n",
      "Requirement already satisfied: torchaudio>=2.0.2 in /home/daniel/code/sliceguard/.venv/lib/python3.8/site-packages (from sliceguard) (2.0.2)\n",
      "Requirement already satisfied: torch>=2.0.1 in /home/daniel/code/sliceguard/.venv/lib/python3.8/site-packages (from sliceguard) (2.0.1)\n",
      "Requirement already satisfied: sentence-transformers>=2.2.1 in /home/daniel/code/sliceguard/.venv/lib/python3.8/site-packages (from sliceguard) (2.2.2)\n",
      "Requirement already satisfied: umap-learn>=0.5.3 in /home/daniel/code/sliceguard/.venv/lib/python3.8/site-packages (from sliceguard) (0.5.3)\n",
      "Requirement already satisfied: hnne>=0.1.8 in /home/daniel/code/sliceguard/.venv/lib/python3.8/site-packages (from sliceguard) (0.1.9)\n",
      "Requirement already satisfied: scikit-learn>=1.2.2 in /home/daniel/code/sliceguard/.venv/lib/python3.8/site-packages (from sliceguard) (1.3.0)\n",
      "Requirement already satisfied: pandas>=2.0.0 in /home/daniel/code/sliceguard/.venv/lib/python3.8/site-packages (from sliceguard) (2.0.3)\n",
      "Requirement already satisfied: transformers>=4.30.2 in /home/daniel/code/sliceguard/.venv/lib/python3.8/site-packages (from sliceguard) (4.30.2)\n",
      "Requirement already satisfied: scipy>=1.2.0 in /home/daniel/code/sliceguard/.venv/lib/python3.8/site-packages (from librosa) (1.10.1)\n",
      "Requirement already satisfied: lazy-loader>=0.1 in /home/daniel/code/sliceguard/.venv/lib/python3.8/site-packages (from librosa) (0.3)\n",
      "Requirement already satisfied: typing-extensions>=4.1.1 in /home/daniel/code/sliceguard/.venv/lib/python3.8/site-packages (from librosa) (4.7.1)\n",
      "Requirement already satisfied: decorator>=4.3.0 in /home/daniel/code/sliceguard/.venv/lib/python3.8/site-packages (from librosa) (5.1.1)\n",
      "Requirement already satisfied: msgpack>=1.0 in /home/daniel/code/sliceguard/.venv/lib/python3.8/site-packages (from librosa) (1.0.5)\n",
      "Requirement already satisfied: pooch<1.7,>=1.0 in /home/daniel/code/sliceguard/.venv/lib/python3.8/site-packages (from librosa) (1.6.0)\n",
      "Requirement already satisfied: joblib>=0.14 in /home/daniel/code/sliceguard/.venv/lib/python3.8/site-packages (from librosa) (1.3.1)\n",
      "Requirement already satisfied: audioread>=2.1.9 in /home/daniel/code/sliceguard/.venv/lib/python3.8/site-packages (from librosa) (3.0.0)\n",
      "Requirement already satisfied: numba>=0.51.0 in /home/daniel/code/sliceguard/.venv/lib/python3.8/site-packages (from librosa) (0.57.1)\n",
      "Requirement already satisfied: soxr>=0.3.2 in /home/daniel/code/sliceguard/.venv/lib/python3.8/site-packages (from librosa) (0.3.5)\n",
      "Requirement already satisfied: cffi>=1.0 in /home/daniel/code/sliceguard/.venv/lib/python3.8/site-packages (from soundfile) (1.15.1)\n",
      "Requirement already satisfied: fsspec[http]>=2021.11.1 in /home/daniel/code/sliceguard/.venv/lib/python3.8/site-packages (from datasets) (2023.6.0)\n",
      "Requirement already satisfied: huggingface-hub<1.0.0,>=0.11.0 in /home/daniel/code/sliceguard/.venv/lib/python3.8/site-packages (from datasets) (0.15.1)\n",
      "Requirement already satisfied: multiprocess in /home/daniel/code/sliceguard/.venv/lib/python3.8/site-packages (from datasets) (0.70.14)\n",
      "Requirement already satisfied: packaging in /home/daniel/code/sliceguard/.venv/lib/python3.8/site-packages (from datasets) (23.1)\n",
      "Requirement already satisfied: dill<0.3.7,>=0.3.0 in /home/daniel/code/sliceguard/.venv/lib/python3.8/site-packages (from datasets) (0.3.6)\n",
      "Requirement already satisfied: pyyaml>=5.1 in /home/daniel/code/sliceguard/.venv/lib/python3.8/site-packages (from datasets) (6.0)\n",
      "Requirement already satisfied: requests>=2.19.0 in /home/daniel/code/sliceguard/.venv/lib/python3.8/site-packages (from datasets) (2.31.0)\n",
      "Requirement already satisfied: aiohttp in /home/daniel/code/sliceguard/.venv/lib/python3.8/site-packages (from datasets) (3.8.4)\n",
      "Requirement already satisfied: pyarrow>=8.0.0 in /home/daniel/code/sliceguard/.venv/lib/python3.8/site-packages (from datasets) (12.0.1)\n",
      "Requirement already satisfied: xxhash in /home/daniel/code/sliceguard/.venv/lib/python3.8/site-packages (from datasets) (3.2.0)\n",
      "Requirement already satisfied: click<9.0.0,>=8.1.3 in /home/daniel/code/sliceguard/.venv/lib/python3.8/site-packages (from jiwer) (8.1.3)\n",
      "Requirement already satisfied: rapidfuzz==2.13.7 in /home/daniel/code/sliceguard/.venv/lib/python3.8/site-packages (from jiwer) (2.13.7)\n",
      "Requirement already satisfied: pycparser in /home/daniel/code/sliceguard/.venv/lib/python3.8/site-packages (from cffi>=1.0->soundfile) (2.21)\n",
      "Requirement already satisfied: charset-normalizer<4.0,>=2.0 in /home/daniel/code/sliceguard/.venv/lib/python3.8/site-packages (from aiohttp->datasets) (3.1.0)\n",
      "Requirement already satisfied: yarl<2.0,>=1.0 in /home/daniel/code/sliceguard/.venv/lib/python3.8/site-packages (from aiohttp->datasets) (1.9.2)\n",
      "Requirement already satisfied: multidict<7.0,>=4.5 in /home/daniel/code/sliceguard/.venv/lib/python3.8/site-packages (from aiohttp->datasets) (6.0.4)\n",
      "Requirement already satisfied: frozenlist>=1.1.1 in /home/daniel/code/sliceguard/.venv/lib/python3.8/site-packages (from aiohttp->datasets) (1.3.3)\n",
      "Requirement already satisfied: aiosignal>=1.1.2 in /home/daniel/code/sliceguard/.venv/lib/python3.8/site-packages (from aiohttp->datasets) (1.3.1)\n",
      "Requirement already satisfied: async-timeout<5.0,>=4.0.0a3 in /home/daniel/code/sliceguard/.venv/lib/python3.8/site-packages (from aiohttp->datasets) (4.0.2)\n",
      "Requirement already satisfied: attrs>=17.3.0 in /home/daniel/code/sliceguard/.venv/lib/python3.8/site-packages (from aiohttp->datasets) (23.1.0)\n",
      "Requirement already satisfied: pynndescent in /home/daniel/code/sliceguard/.venv/lib/python3.8/site-packages (from hnne>=0.1.8->sliceguard) (0.5.10)\n",
      "Requirement already satisfied: cython in /home/daniel/code/sliceguard/.venv/lib/python3.8/site-packages (from hnne>=0.1.8->sliceguard) (0.29.36)\n",
      "Requirement already satisfied: typer in /home/daniel/code/sliceguard/.venv/lib/python3.8/site-packages (from hnne>=0.1.8->sliceguard) (0.9.0)\n",
      "Requirement already satisfied: filelock in /home/daniel/code/sliceguard/.venv/lib/python3.8/site-packages (from huggingface-hub<1.0.0,>=0.11.0->datasets) (3.12.2)\n",
      "Requirement already satisfied: importlib-metadata in /home/daniel/code/sliceguard/.venv/lib/python3.8/site-packages (from numba>=0.51.0->librosa) (6.7.0)\n",
      "Requirement already satisfied: llvmlite<0.41,>=0.40.0dev0 in /home/daniel/code/sliceguard/.venv/lib/python3.8/site-packages (from numba>=0.51.0->librosa) (0.40.1)\n",
      "Requirement already satisfied: pytz>=2020.1 in /home/daniel/code/sliceguard/.venv/lib/python3.8/site-packages (from pandas>=2.0.0->sliceguard) (2023.3)\n",
      "Requirement already satisfied: python-dateutil>=2.8.2 in /home/daniel/code/sliceguard/.venv/lib/python3.8/site-packages (from pandas>=2.0.0->sliceguard) (2.8.2)\n",
      "Requirement already satisfied: tzdata>=2022.1 in /home/daniel/code/sliceguard/.venv/lib/python3.8/site-packages (from pandas>=2.0.0->sliceguard) (2023.3)\n",
      "Requirement already satisfied: appdirs>=1.3.0 in /home/daniel/code/sliceguard/.venv/lib/python3.8/site-packages (from pooch<1.7,>=1.0->librosa) (1.4.4)\n"
     ]
    },
    {
     "name": "stdout",
     "output_type": "stream",
     "text": [
      "Requirement already satisfied: py-machineid<0.4.0,>=0.3.0 in /home/daniel/code/sliceguard/.venv/lib/python3.8/site-packages (from renumics-spotlight>=1.3.0rc1->sliceguard) (0.3.0)\n",
      "Requirement already satisfied: loguru in /home/daniel/code/sliceguard/.venv/lib/python3.8/site-packages (from renumics-spotlight>=1.3.0rc1->sliceguard) (0.7.0)\n",
      "Requirement already satisfied: filetype<2.0.0,>=1.2.0 in /home/daniel/code/sliceguard/.venv/lib/python3.8/site-packages (from renumics-spotlight>=1.3.0rc1->sliceguard) (1.2.0)\n",
      "Requirement already satisfied: pygltflib>=1.15.1 in /home/daniel/code/sliceguard/.venv/lib/python3.8/site-packages (from renumics-spotlight>=1.3.0rc1->sliceguard) (1.15.6)\n",
      "Requirement already satisfied: aiofiles in /home/daniel/code/sliceguard/.venv/lib/python3.8/site-packages (from renumics-spotlight>=1.3.0rc1->sliceguard) (23.1.0)\n",
      "Requirement already satisfied: importlib_resources<5.8.0 in /home/daniel/code/sliceguard/.venv/lib/python3.8/site-packages (from renumics-spotlight>=1.3.0rc1->sliceguard) (5.7.1)\n",
      "Requirement already satisfied: uvloop>=0.17.0 in /home/daniel/code/sliceguard/.venv/lib/python3.8/site-packages (from renumics-spotlight>=1.3.0rc1->sliceguard) (0.17.0)\n",
      "Requirement already satisfied: fastapi>=0.65.2 in /home/daniel/code/sliceguard/.venv/lib/python3.8/site-packages (from renumics-spotlight>=1.3.0rc1->sliceguard) (0.99.1)\n",
      "Requirement already satisfied: cleanvision<0.4.0,>=0.3.0 in /home/daniel/code/sliceguard/.venv/lib/python3.8/site-packages (from renumics-spotlight>=1.3.0rc1->sliceguard) (0.3.0)\n",
      "Requirement already satisfied: notebook in /home/daniel/code/sliceguard/.venv/lib/python3.8/site-packages (from renumics-spotlight>=1.3.0rc1->sliceguard) (6.5.4)\n",
      "Requirement already satisfied: ipywidgets in /home/daniel/code/sliceguard/.venv/lib/python3.8/site-packages (from renumics-spotlight>=1.3.0rc1->sliceguard) (8.0.7)\n",
      "Requirement already satisfied: pydantic in /home/daniel/code/sliceguard/.venv/lib/python3.8/site-packages (from renumics-spotlight>=1.3.0rc1->sliceguard) (1.10.11)\n",
      "Requirement already satisfied: httptools in /home/daniel/code/sliceguard/.venv/lib/python3.8/site-packages (from renumics-spotlight>=1.3.0rc1->sliceguard) (0.5.0)\n",
      "Requirement already satisfied: toml<0.11.0,>=0.10.2 in /home/daniel/code/sliceguard/.venv/lib/python3.8/site-packages (from renumics-spotlight>=1.3.0rc1->sliceguard) (0.10.2)\n",
      "Requirement already satisfied: databases[aiosqlite] in /home/daniel/code/sliceguard/.venv/lib/python3.8/site-packages (from renumics-spotlight>=1.3.0rc1->sliceguard) (0.7.0)\n",
      "Requirement already satisfied: jinja2<4.0.0,>=3.1.2 in /home/daniel/code/sliceguard/.venv/lib/python3.8/site-packages (from renumics-spotlight>=1.3.0rc1->sliceguard) (3.1.2)\n",
      "Requirement already satisfied: imageio>=2.18.0 in /home/daniel/code/sliceguard/.venv/lib/python3.8/site-packages (from renumics-spotlight>=1.3.0rc1->sliceguard) (2.31.1)\n",
      "Requirement already satisfied: websockets<12.0.0,>=11.0.3 in /home/daniel/code/sliceguard/.venv/lib/python3.8/site-packages (from renumics-spotlight>=1.3.0rc1->sliceguard) (11.0.3)\n",
      "Requirement already satisfied: diskcache in /home/daniel/code/sliceguard/.venv/lib/python3.8/site-packages (from renumics-spotlight>=1.3.0rc1->sliceguard) (5.6.1)\n",
      "Requirement already satisfied: imagecodecs in /home/daniel/code/sliceguard/.venv/lib/python3.8/site-packages (from renumics-spotlight>=1.3.0rc1->sliceguard) (2023.3.16)\n",
      "Requirement already satisfied: orjson in /home/daniel/code/sliceguard/.venv/lib/python3.8/site-packages (from renumics-spotlight>=1.3.0rc1->sliceguard) (3.9.1)\n",
      "Requirement already satisfied: rsa in /home/daniel/code/sliceguard/.venv/lib/python3.8/site-packages (from renumics-spotlight>=1.3.0rc1->sliceguard) (4.9)\n",
      "Requirement already satisfied: validators in /home/daniel/code/sliceguard/.venv/lib/python3.8/site-packages (from renumics-spotlight>=1.3.0rc1->sliceguard) (0.20.0)\n",
      "Requirement already satisfied: pycatch22 in /home/daniel/code/sliceguard/.venv/lib/python3.8/site-packages (from renumics-spotlight>=1.3.0rc1->sliceguard) (0.4.2)\n",
      "Requirement already satisfied: av in /home/daniel/code/sliceguard/.venv/lib/python3.8/site-packages (from renumics-spotlight>=1.3.0rc1->sliceguard) (10.0.0)\n",
      "Requirement already satisfied: uvicorn in /home/daniel/code/sliceguard/.venv/lib/python3.8/site-packages (from renumics-spotlight>=1.3.0rc1->sliceguard) (0.22.0)\n",
      "Requirement already satisfied: cleanlab<3.0.0,>=2.4.0 in /home/daniel/code/sliceguard/.venv/lib/python3.8/site-packages (from renumics-spotlight>=1.3.0rc1->sliceguard) (2.4.0)\n",
      "Requirement already satisfied: scikit-image in /home/daniel/code/sliceguard/.venv/lib/python3.8/site-packages (from renumics-spotlight>=1.3.0rc1->sliceguard) (0.21.0)\n",
      "Requirement already satisfied: h5py>3.0 in /home/daniel/code/sliceguard/.venv/lib/python3.8/site-packages (from renumics-spotlight>=1.3.0rc1->sliceguard) (3.9.0)\n",
      "Requirement already satisfied: prettytable in /home/daniel/code/sliceguard/.venv/lib/python3.8/site-packages (from renumics-spotlight>=1.3.0rc1->sliceguard) (3.8.0)\n",
      "Requirement already satisfied: trimesh in /home/daniel/code/sliceguard/.venv/lib/python3.8/site-packages (from renumics-spotlight>=1.3.0rc1->sliceguard) (3.22.3)\n",
      "Requirement already satisfied: networkx in /home/daniel/code/sliceguard/.venv/lib/python3.8/site-packages (from renumics-spotlight>=1.3.0rc1->sliceguard) (3.1)\n",
      "Requirement already satisfied: urllib3<3,>=1.21.1 in /home/daniel/code/sliceguard/.venv/lib/python3.8/site-packages (from requests>=2.19.0->datasets) (2.0.3)\n",
      "Requirement already satisfied: certifi>=2017.4.17 in /home/daniel/code/sliceguard/.venv/lib/python3.8/site-packages (from requests>=2.19.0->datasets) (2023.5.7)\n",
      "Requirement already satisfied: idna<4,>=2.5 in /home/daniel/code/sliceguard/.venv/lib/python3.8/site-packages (from requests>=2.19.0->datasets) (3.4)\n",
      "Requirement already satisfied: threadpoolctl>=2.0.0 in /home/daniel/code/sliceguard/.venv/lib/python3.8/site-packages (from scikit-learn>=1.2.2->sliceguard) (3.1.0)\n",
      "Requirement already satisfied: sentencepiece in /home/daniel/code/sliceguard/.venv/lib/python3.8/site-packages (from sentence-transformers>=2.2.1->sliceguard) (0.1.99)\n",
      "Requirement already satisfied: torchvision in /home/daniel/code/sliceguard/.venv/lib/python3.8/site-packages (from sentence-transformers>=2.2.1->sliceguard) (0.15.2)\n",
      "Requirement already satisfied: nltk in /home/daniel/code/sliceguard/.venv/lib/python3.8/site-packages (from sentence-transformers>=2.2.1->sliceguard) (3.8.1)\n",
      "Requirement already satisfied: nvidia-cuda-runtime-cu11==11.7.99 in /home/daniel/code/sliceguard/.venv/lib/python3.8/site-packages (from torch>=2.0.1->sliceguard) (11.7.99)\n",
      "Requirement already satisfied: nvidia-cufft-cu11==10.9.0.58 in /home/daniel/code/sliceguard/.venv/lib/python3.8/site-packages (from torch>=2.0.1->sliceguard) (10.9.0.58)\n",
      "Requirement already satisfied: sympy in /home/daniel/code/sliceguard/.venv/lib/python3.8/site-packages (from torch>=2.0.1->sliceguard) (1.12)\n",
      "Requirement already satisfied: nvidia-cuda-nvrtc-cu11==11.7.99 in /home/daniel/code/sliceguard/.venv/lib/python3.8/site-packages (from torch>=2.0.1->sliceguard) (11.7.99)\n",
      "Requirement already satisfied: nvidia-curand-cu11==10.2.10.91 in /home/daniel/code/sliceguard/.venv/lib/python3.8/site-packages (from torch>=2.0.1->sliceguard) (10.2.10.91)\n",
      "Requirement already satisfied: nvidia-cusolver-cu11==11.4.0.1 in /home/daniel/code/sliceguard/.venv/lib/python3.8/site-packages (from torch>=2.0.1->sliceguard) (11.4.0.1)\n",
      "Requirement already satisfied: nvidia-nvtx-cu11==11.7.91 in /home/daniel/code/sliceguard/.venv/lib/python3.8/site-packages (from torch>=2.0.1->sliceguard) (11.7.91)\n",
      "Requirement already satisfied: triton==2.0.0 in /home/daniel/code/sliceguard/.venv/lib/python3.8/site-packages (from torch>=2.0.1->sliceguard) (2.0.0)\n",
      "Requirement already satisfied: nvidia-cublas-cu11==11.10.3.66 in /home/daniel/code/sliceguard/.venv/lib/python3.8/site-packages (from torch>=2.0.1->sliceguard) (11.10.3.66)\n",
      "Requirement already satisfied: nvidia-cudnn-cu11==8.5.0.96 in /home/daniel/code/sliceguard/.venv/lib/python3.8/site-packages (from torch>=2.0.1->sliceguard) (8.5.0.96)\n",
      "Requirement already satisfied: nvidia-nccl-cu11==2.14.3 in /home/daniel/code/sliceguard/.venv/lib/python3.8/site-packages (from torch>=2.0.1->sliceguard) (2.14.3)\n",
      "Requirement already satisfied: nvidia-cusparse-cu11==11.7.4.91 in /home/daniel/code/sliceguard/.venv/lib/python3.8/site-packages (from torch>=2.0.1->sliceguard) (11.7.4.91)\n",
      "Requirement already satisfied: nvidia-cuda-cupti-cu11==11.7.101 in /home/daniel/code/sliceguard/.venv/lib/python3.8/site-packages (from torch>=2.0.1->sliceguard) (11.7.101)\n",
      "Requirement already satisfied: wheel in /home/daniel/code/sliceguard/.venv/lib/python3.8/site-packages (from nvidia-cublas-cu11==11.10.3.66->torch>=2.0.1->sliceguard) (0.40.0)\n",
      "Requirement already satisfied: setuptools in /home/daniel/code/sliceguard/.venv/lib/python3.8/site-packages (from nvidia-cublas-cu11==11.10.3.66->torch>=2.0.1->sliceguard) (56.0.0)\n"
     ]
    },
    {
     "name": "stdout",
     "output_type": "stream",
     "text": [
      "Requirement already satisfied: cmake in /home/daniel/code/sliceguard/.venv/lib/python3.8/site-packages (from triton==2.0.0->torch>=2.0.1->sliceguard) (3.26.4)\n",
      "Requirement already satisfied: lit in /home/daniel/code/sliceguard/.venv/lib/python3.8/site-packages (from triton==2.0.0->torch>=2.0.1->sliceguard) (16.0.6)\n",
      "Requirement already satisfied: tokenizers!=0.11.3,<0.14,>=0.11.1 in /home/daniel/code/sliceguard/.venv/lib/python3.8/site-packages (from transformers>=4.30.2->sliceguard) (0.13.3)\n",
      "Requirement already satisfied: safetensors>=0.3.1 in /home/daniel/code/sliceguard/.venv/lib/python3.8/site-packages (from transformers>=4.30.2->sliceguard) (0.3.1)\n",
      "Requirement already satisfied: regex!=2019.12.17 in /home/daniel/code/sliceguard/.venv/lib/python3.8/site-packages (from transformers>=4.30.2->sliceguard) (2023.6.3)\n",
      "Requirement already satisfied: termcolor>=2.0.0 in /home/daniel/code/sliceguard/.venv/lib/python3.8/site-packages (from cleanlab<3.0.0,>=2.4.0->renumics-spotlight>=1.3.0rc1->sliceguard) (2.3.0)\n",
      "Requirement already satisfied: matplotlib>=3.4 in /home/daniel/code/sliceguard/.venv/lib/python3.8/site-packages (from cleanvision<0.4.0,>=0.3.0->renumics-spotlight>=1.3.0rc1->sliceguard) (3.7.1)\n",
      "Requirement already satisfied: tabulate>=0.8.3 in /home/daniel/code/sliceguard/.venv/lib/python3.8/site-packages (from cleanvision<0.4.0,>=0.3.0->renumics-spotlight>=1.3.0rc1->sliceguard) (0.9.0)\n",
      "Requirement already satisfied: imagehash>=4.2.0 in /home/daniel/code/sliceguard/.venv/lib/python3.8/site-packages (from cleanvision<0.4.0,>=0.3.0->renumics-spotlight>=1.3.0rc1->sliceguard) (4.3.1)\n",
      "Requirement already satisfied: starlette<0.28.0,>=0.27.0 in /home/daniel/code/sliceguard/.venv/lib/python3.8/site-packages (from fastapi>=0.65.2->renumics-spotlight>=1.3.0rc1->sliceguard) (0.27.0)\n",
      "Requirement already satisfied: zipp>=3.1.0 in /home/daniel/code/sliceguard/.venv/lib/python3.8/site-packages (from importlib_resources<5.8.0->renumics-spotlight>=1.3.0rc1->sliceguard) (3.15.0)\n",
      "Requirement already satisfied: MarkupSafe>=2.0 in /home/daniel/code/sliceguard/.venv/lib/python3.8/site-packages (from jinja2<4.0.0,>=3.1.2->renumics-spotlight>=1.3.0rc1->sliceguard) (2.1.3)\n",
      "Requirement already satisfied: winregistry in /home/daniel/code/sliceguard/.venv/lib/python3.8/site-packages (from py-machineid<0.4.0,>=0.3.0->renumics-spotlight>=1.3.0rc1->sliceguard) (1.1.1)\n",
      "Requirement already satisfied: deprecated in /home/daniel/code/sliceguard/.venv/lib/python3.8/site-packages (from pygltflib>=1.15.1->renumics-spotlight>=1.3.0rc1->sliceguard) (1.2.14)\n",
      "Requirement already satisfied: dataclasses-json>=0.0.25 in /home/daniel/code/sliceguard/.venv/lib/python3.8/site-packages (from pygltflib>=1.15.1->renumics-spotlight>=1.3.0rc1->sliceguard) (0.5.9)\n",
      "Requirement already satisfied: six>=1.5 in /home/daniel/code/sliceguard/.venv/lib/python3.8/site-packages (from python-dateutil>=2.8.2->pandas>=2.0.0->sliceguard) (1.16.0)\n",
      "Requirement already satisfied: sqlalchemy<1.5,>=1.4.42 in /home/daniel/code/sliceguard/.venv/lib/python3.8/site-packages (from databases[aiosqlite]->renumics-spotlight>=1.3.0rc1->sliceguard) (1.4.48)\n",
      "Requirement already satisfied: aiosqlite in /home/daniel/code/sliceguard/.venv/lib/python3.8/site-packages (from databases[aiosqlite]->renumics-spotlight>=1.3.0rc1->sliceguard) (0.19.0)\n",
      "Requirement already satisfied: traitlets>=4.3.1 in /home/daniel/code/sliceguard/.venv/lib/python3.8/site-packages (from ipywidgets->renumics-spotlight>=1.3.0rc1->sliceguard) (5.9.0)\n",
      "Requirement already satisfied: ipykernel>=4.5.1 in /home/daniel/code/sliceguard/.venv/lib/python3.8/site-packages (from ipywidgets->renumics-spotlight>=1.3.0rc1->sliceguard) (6.24.0)\n",
      "Requirement already satisfied: widgetsnbextension~=4.0.7 in /home/daniel/code/sliceguard/.venv/lib/python3.8/site-packages (from ipywidgets->renumics-spotlight>=1.3.0rc1->sliceguard) (4.0.8)\n",
      "Requirement already satisfied: ipython>=6.1.0 in /home/daniel/code/sliceguard/.venv/lib/python3.8/site-packages (from ipywidgets->renumics-spotlight>=1.3.0rc1->sliceguard) (8.12.2)\n",
      "Requirement already satisfied: jupyterlab-widgets~=3.0.7 in /home/daniel/code/sliceguard/.venv/lib/python3.8/site-packages (from ipywidgets->renumics-spotlight>=1.3.0rc1->sliceguard) (3.0.8)\n",
      "Requirement already satisfied: nbclassic>=0.4.7 in /home/daniel/code/sliceguard/.venv/lib/python3.8/site-packages (from notebook->renumics-spotlight>=1.3.0rc1->sliceguard) (1.0.0)\n",
      "Requirement already satisfied: nbformat in /home/daniel/code/sliceguard/.venv/lib/python3.8/site-packages (from notebook->renumics-spotlight>=1.3.0rc1->sliceguard) (5.9.0)\n",
      "Requirement already satisfied: ipython-genutils in /home/daniel/code/sliceguard/.venv/lib/python3.8/site-packages (from notebook->renumics-spotlight>=1.3.0rc1->sliceguard) (0.2.0)\n",
      "Requirement already satisfied: nbconvert>=5 in /home/daniel/code/sliceguard/.venv/lib/python3.8/site-packages (from notebook->renumics-spotlight>=1.3.0rc1->sliceguard) (7.6.0)\n",
      "Requirement already satisfied: tornado>=6.1 in /home/daniel/code/sliceguard/.venv/lib/python3.8/site-packages (from notebook->renumics-spotlight>=1.3.0rc1->sliceguard) (6.3.2)\n",
      "Requirement already satisfied: jupyter-client>=5.3.4 in /home/daniel/code/sliceguard/.venv/lib/python3.8/site-packages (from notebook->renumics-spotlight>=1.3.0rc1->sliceguard) (8.3.0)\n",
      "Requirement already satisfied: jupyter-core>=4.6.1 in /home/daniel/code/sliceguard/.venv/lib/python3.8/site-packages (from notebook->renumics-spotlight>=1.3.0rc1->sliceguard) (5.3.1)\n",
      "Requirement already satisfied: terminado>=0.8.3 in /home/daniel/code/sliceguard/.venv/lib/python3.8/site-packages (from notebook->renumics-spotlight>=1.3.0rc1->sliceguard) (0.17.1)\n",
      "Requirement already satisfied: pyzmq>=17 in /home/daniel/code/sliceguard/.venv/lib/python3.8/site-packages (from notebook->renumics-spotlight>=1.3.0rc1->sliceguard) (25.1.0)\n",
      "Requirement already satisfied: nest-asyncio>=1.5 in /home/daniel/code/sliceguard/.venv/lib/python3.8/site-packages (from notebook->renumics-spotlight>=1.3.0rc1->sliceguard) (1.5.6)\n",
      "Requirement already satisfied: Send2Trash>=1.8.0 in /home/daniel/code/sliceguard/.venv/lib/python3.8/site-packages (from notebook->renumics-spotlight>=1.3.0rc1->sliceguard) (1.8.2)\n",
      "Requirement already satisfied: prometheus-client in /home/daniel/code/sliceguard/.venv/lib/python3.8/site-packages (from notebook->renumics-spotlight>=1.3.0rc1->sliceguard) (0.17.0)\n",
      "Requirement already satisfied: argon2-cffi in /home/daniel/code/sliceguard/.venv/lib/python3.8/site-packages (from notebook->renumics-spotlight>=1.3.0rc1->sliceguard) (21.3.0)\n",
      "Requirement already satisfied: wcwidth in /home/daniel/code/sliceguard/.venv/lib/python3.8/site-packages (from prettytable->renumics-spotlight>=1.3.0rc1->sliceguard) (0.2.6)\n",
      "Requirement already satisfied: pyasn1>=0.1.3 in /home/daniel/code/sliceguard/.venv/lib/python3.8/site-packages (from rsa->renumics-spotlight>=1.3.0rc1->sliceguard) (0.5.0)\n",
      "Requirement already satisfied: tifffile>=2022.8.12 in /home/daniel/code/sliceguard/.venv/lib/python3.8/site-packages (from scikit-image->renumics-spotlight>=1.3.0rc1->sliceguard) (2023.7.4)\n",
      "Requirement already satisfied: PyWavelets>=1.1.1 in /home/daniel/code/sliceguard/.venv/lib/python3.8/site-packages (from scikit-image->renumics-spotlight>=1.3.0rc1->sliceguard) (1.4.1)\n",
      "Requirement already satisfied: mpmath>=0.19 in /home/daniel/code/sliceguard/.venv/lib/python3.8/site-packages (from sympy->torch>=2.0.1->sliceguard) (1.3.0)\n",
      "Requirement already satisfied: h11>=0.8 in /home/daniel/code/sliceguard/.venv/lib/python3.8/site-packages (from uvicorn->renumics-spotlight>=1.3.0rc1->sliceguard) (0.14.0)\n",
      "Requirement already satisfied: marshmallow-enum<2.0.0,>=1.5.1 in /home/daniel/code/sliceguard/.venv/lib/python3.8/site-packages (from dataclasses-json>=0.0.25->pygltflib>=1.15.1->renumics-spotlight>=1.3.0rc1->sliceguard) (1.5.1)\n",
      "Requirement already satisfied: marshmallow<4.0.0,>=3.3.0 in /home/daniel/code/sliceguard/.venv/lib/python3.8/site-packages (from dataclasses-json>=0.0.25->pygltflib>=1.15.1->renumics-spotlight>=1.3.0rc1->sliceguard) (3.19.0)\n",
      "Requirement already satisfied: typing-inspect>=0.4.0 in /home/daniel/code/sliceguard/.venv/lib/python3.8/site-packages (from dataclasses-json>=0.0.25->pygltflib>=1.15.1->renumics-spotlight>=1.3.0rc1->sliceguard) (0.9.0)\n",
      "Requirement already satisfied: matplotlib-inline>=0.1 in /home/daniel/code/sliceguard/.venv/lib/python3.8/site-packages (from ipykernel>=4.5.1->ipywidgets->renumics-spotlight>=1.3.0rc1->sliceguard) (0.1.6)\n",
      "Requirement already satisfied: psutil in /home/daniel/code/sliceguard/.venv/lib/python3.8/site-packages (from ipykernel>=4.5.1->ipywidgets->renumics-spotlight>=1.3.0rc1->sliceguard) (5.9.5)\n",
      "Requirement already satisfied: comm>=0.1.1 in /home/daniel/code/sliceguard/.venv/lib/python3.8/site-packages (from ipykernel>=4.5.1->ipywidgets->renumics-spotlight>=1.3.0rc1->sliceguard) (0.1.3)\n",
      "Requirement already satisfied: debugpy>=1.6.5 in /home/daniel/code/sliceguard/.venv/lib/python3.8/site-packages (from ipykernel>=4.5.1->ipywidgets->renumics-spotlight>=1.3.0rc1->sliceguard) (1.6.7)\n"
     ]
    },
    {
     "name": "stdout",
     "output_type": "stream",
     "text": [
      "Requirement already satisfied: pexpect>4.3 in /home/daniel/code/sliceguard/.venv/lib/python3.8/site-packages (from ipython>=6.1.0->ipywidgets->renumics-spotlight>=1.3.0rc1->sliceguard) (4.8.0)\n",
      "Requirement already satisfied: pygments>=2.4.0 in /home/daniel/code/sliceguard/.venv/lib/python3.8/site-packages (from ipython>=6.1.0->ipywidgets->renumics-spotlight>=1.3.0rc1->sliceguard) (2.15.1)\n",
      "Requirement already satisfied: backcall in /home/daniel/code/sliceguard/.venv/lib/python3.8/site-packages (from ipython>=6.1.0->ipywidgets->renumics-spotlight>=1.3.0rc1->sliceguard) (0.2.0)\n",
      "Requirement already satisfied: stack-data in /home/daniel/code/sliceguard/.venv/lib/python3.8/site-packages (from ipython>=6.1.0->ipywidgets->renumics-spotlight>=1.3.0rc1->sliceguard) (0.6.2)\n",
      "Requirement already satisfied: prompt-toolkit!=3.0.37,<3.1.0,>=3.0.30 in /home/daniel/code/sliceguard/.venv/lib/python3.8/site-packages (from ipython>=6.1.0->ipywidgets->renumics-spotlight>=1.3.0rc1->sliceguard) (3.0.39)\n",
      "Requirement already satisfied: pickleshare in /home/daniel/code/sliceguard/.venv/lib/python3.8/site-packages (from ipython>=6.1.0->ipywidgets->renumics-spotlight>=1.3.0rc1->sliceguard) (0.7.5)\n",
      "Requirement already satisfied: jedi>=0.16 in /home/daniel/code/sliceguard/.venv/lib/python3.8/site-packages (from ipython>=6.1.0->ipywidgets->renumics-spotlight>=1.3.0rc1->sliceguard) (0.18.2)\n",
      "Requirement already satisfied: platformdirs>=2.5 in /home/daniel/code/sliceguard/.venv/lib/python3.8/site-packages (from jupyter-core>=4.6.1->notebook->renumics-spotlight>=1.3.0rc1->sliceguard) (3.8.0)\n",
      "Requirement already satisfied: cycler>=0.10 in /home/daniel/code/sliceguard/.venv/lib/python3.8/site-packages (from matplotlib>=3.4->cleanvision<0.4.0,>=0.3.0->renumics-spotlight>=1.3.0rc1->sliceguard) (0.11.0)\n",
      "Requirement already satisfied: kiwisolver>=1.0.1 in /home/daniel/code/sliceguard/.venv/lib/python3.8/site-packages (from matplotlib>=3.4->cleanvision<0.4.0,>=0.3.0->renumics-spotlight>=1.3.0rc1->sliceguard) (1.4.4)\n",
      "Requirement already satisfied: pyparsing>=2.3.1 in /home/daniel/code/sliceguard/.venv/lib/python3.8/site-packages (from matplotlib>=3.4->cleanvision<0.4.0,>=0.3.0->renumics-spotlight>=1.3.0rc1->sliceguard) (3.1.0)\n",
      "Requirement already satisfied: fonttools>=4.22.0 in /home/daniel/code/sliceguard/.venv/lib/python3.8/site-packages (from matplotlib>=3.4->cleanvision<0.4.0,>=0.3.0->renumics-spotlight>=1.3.0rc1->sliceguard) (4.40.0)\n",
      "Requirement already satisfied: contourpy>=1.0.1 in /home/daniel/code/sliceguard/.venv/lib/python3.8/site-packages (from matplotlib>=3.4->cleanvision<0.4.0,>=0.3.0->renumics-spotlight>=1.3.0rc1->sliceguard) (1.1.0)\n",
      "Requirement already satisfied: jupyter-server>=1.8 in /home/daniel/code/sliceguard/.venv/lib/python3.8/site-packages (from nbclassic>=0.4.7->notebook->renumics-spotlight>=1.3.0rc1->sliceguard) (2.7.0)\n",
      "Requirement already satisfied: notebook-shim>=0.2.3 in /home/daniel/code/sliceguard/.venv/lib/python3.8/site-packages (from nbclassic>=0.4.7->notebook->renumics-spotlight>=1.3.0rc1->sliceguard) (0.2.3)\n",
      "Requirement already satisfied: defusedxml in /home/daniel/code/sliceguard/.venv/lib/python3.8/site-packages (from nbconvert>=5->notebook->renumics-spotlight>=1.3.0rc1->sliceguard) (0.7.1)\n",
      "Requirement already satisfied: jupyterlab-pygments in /home/daniel/code/sliceguard/.venv/lib/python3.8/site-packages (from nbconvert>=5->notebook->renumics-spotlight>=1.3.0rc1->sliceguard) (0.2.2)\n",
      "Requirement already satisfied: nbclient>=0.5.0 in /home/daniel/code/sliceguard/.venv/lib/python3.8/site-packages (from nbconvert>=5->notebook->renumics-spotlight>=1.3.0rc1->sliceguard) (0.8.0)\n",
      "Requirement already satisfied: tinycss2 in /home/daniel/code/sliceguard/.venv/lib/python3.8/site-packages (from nbconvert>=5->notebook->renumics-spotlight>=1.3.0rc1->sliceguard) (1.2.1)\n",
      "Requirement already satisfied: bleach!=5.0.0 in /home/daniel/code/sliceguard/.venv/lib/python3.8/site-packages (from nbconvert>=5->notebook->renumics-spotlight>=1.3.0rc1->sliceguard) (6.0.0)\n",
      "Requirement already satisfied: pandocfilters>=1.4.1 in /home/daniel/code/sliceguard/.venv/lib/python3.8/site-packages (from nbconvert>=5->notebook->renumics-spotlight>=1.3.0rc1->sliceguard) (1.5.0)\n",
      "Requirement already satisfied: mistune<4,>=2.0.3 in /home/daniel/code/sliceguard/.venv/lib/python3.8/site-packages (from nbconvert>=5->notebook->renumics-spotlight>=1.3.0rc1->sliceguard) (3.0.1)\n",
      "Requirement already satisfied: beautifulsoup4 in /home/daniel/code/sliceguard/.venv/lib/python3.8/site-packages (from nbconvert>=5->notebook->renumics-spotlight>=1.3.0rc1->sliceguard) (4.12.2)\n",
      "Requirement already satisfied: jsonschema>=2.6 in /home/daniel/code/sliceguard/.venv/lib/python3.8/site-packages (from nbformat->notebook->renumics-spotlight>=1.3.0rc1->sliceguard) (4.17.3)\n",
      "Requirement already satisfied: fastjsonschema in /home/daniel/code/sliceguard/.venv/lib/python3.8/site-packages (from nbformat->notebook->renumics-spotlight>=1.3.0rc1->sliceguard) (2.17.1)\n",
      "Requirement already satisfied: greenlet!=0.4.17 in /home/daniel/code/sliceguard/.venv/lib/python3.8/site-packages (from sqlalchemy<1.5,>=1.4.42->databases[aiosqlite]->renumics-spotlight>=1.3.0rc1->sliceguard) (2.0.2)\n",
      "Requirement already satisfied: anyio<5,>=3.4.0 in /home/daniel/code/sliceguard/.venv/lib/python3.8/site-packages (from starlette<0.28.0,>=0.27.0->fastapi>=0.65.2->renumics-spotlight>=1.3.0rc1->sliceguard) (3.7.0)\n",
      "Requirement already satisfied: ptyprocess in /home/daniel/code/sliceguard/.venv/lib/python3.8/site-packages (from terminado>=0.8.3->notebook->renumics-spotlight>=1.3.0rc1->sliceguard) (0.7.0)\n",
      "Requirement already satisfied: argon2-cffi-bindings in /home/daniel/code/sliceguard/.venv/lib/python3.8/site-packages (from argon2-cffi->notebook->renumics-spotlight>=1.3.0rc1->sliceguard) (21.2.0)\n",
      "Requirement already satisfied: wrapt<2,>=1.10 in /home/daniel/code/sliceguard/.venv/lib/python3.8/site-packages (from deprecated->pygltflib>=1.15.1->renumics-spotlight>=1.3.0rc1->sliceguard) (1.15.0)\n",
      "Requirement already satisfied: sniffio>=1.1 in /home/daniel/code/sliceguard/.venv/lib/python3.8/site-packages (from anyio<5,>=3.4.0->starlette<0.28.0,>=0.27.0->fastapi>=0.65.2->renumics-spotlight>=1.3.0rc1->sliceguard) (1.3.0)\n",
      "Requirement already satisfied: exceptiongroup in /home/daniel/code/sliceguard/.venv/lib/python3.8/site-packages (from anyio<5,>=3.4.0->starlette<0.28.0,>=0.27.0->fastapi>=0.65.2->renumics-spotlight>=1.3.0rc1->sliceguard) (1.1.2)\n",
      "Requirement already satisfied: webencodings in /home/daniel/code/sliceguard/.venv/lib/python3.8/site-packages (from bleach!=5.0.0->nbconvert>=5->notebook->renumics-spotlight>=1.3.0rc1->sliceguard) (0.5.1)\n",
      "Requirement already satisfied: parso<0.9.0,>=0.8.0 in /home/daniel/code/sliceguard/.venv/lib/python3.8/site-packages (from jedi>=0.16->ipython>=6.1.0->ipywidgets->renumics-spotlight>=1.3.0rc1->sliceguard) (0.8.3)\n",
      "Requirement already satisfied: pkgutil-resolve-name>=1.3.10 in /home/daniel/code/sliceguard/.venv/lib/python3.8/site-packages (from jsonschema>=2.6->nbformat->notebook->renumics-spotlight>=1.3.0rc1->sliceguard) (1.3.10)\n",
      "Requirement already satisfied: pyrsistent!=0.17.0,!=0.17.1,!=0.17.2,>=0.14.0 in /home/daniel/code/sliceguard/.venv/lib/python3.8/site-packages (from jsonschema>=2.6->nbformat->notebook->renumics-spotlight>=1.3.0rc1->sliceguard) (0.19.3)\n",
      "Requirement already satisfied: websocket-client in /home/daniel/code/sliceguard/.venv/lib/python3.8/site-packages (from jupyter-server>=1.8->nbclassic>=0.4.7->notebook->renumics-spotlight>=1.3.0rc1->sliceguard) (1.6.1)\n",
      "Requirement already satisfied: jupyter-events>=0.6.0 in /home/daniel/code/sliceguard/.venv/lib/python3.8/site-packages (from jupyter-server>=1.8->nbclassic>=0.4.7->notebook->renumics-spotlight>=1.3.0rc1->sliceguard) (0.6.3)\n",
      "Requirement already satisfied: overrides in /home/daniel/code/sliceguard/.venv/lib/python3.8/site-packages (from jupyter-server>=1.8->nbclassic>=0.4.7->notebook->renumics-spotlight>=1.3.0rc1->sliceguard) (7.3.1)\n",
      "Requirement already satisfied: jupyter-server-terminals in /home/daniel/code/sliceguard/.venv/lib/python3.8/site-packages (from jupyter-server>=1.8->nbclassic>=0.4.7->notebook->renumics-spotlight>=1.3.0rc1->sliceguard) (0.4.4)\n"
     ]
    },
    {
     "name": "stdout",
     "output_type": "stream",
     "text": [
      "Requirement already satisfied: mypy-extensions>=0.3.0 in /home/daniel/code/sliceguard/.venv/lib/python3.8/site-packages (from typing-inspect>=0.4.0->dataclasses-json>=0.0.25->pygltflib>=1.15.1->renumics-spotlight>=1.3.0rc1->sliceguard) (1.0.0)\n",
      "Requirement already satisfied: soupsieve>1.2 in /home/daniel/code/sliceguard/.venv/lib/python3.8/site-packages (from beautifulsoup4->nbconvert>=5->notebook->renumics-spotlight>=1.3.0rc1->sliceguard) (2.4.1)\n",
      "Requirement already satisfied: executing>=1.2.0 in /home/daniel/code/sliceguard/.venv/lib/python3.8/site-packages (from stack-data->ipython>=6.1.0->ipywidgets->renumics-spotlight>=1.3.0rc1->sliceguard) (1.2.0)\n",
      "Requirement already satisfied: pure-eval in /home/daniel/code/sliceguard/.venv/lib/python3.8/site-packages (from stack-data->ipython>=6.1.0->ipywidgets->renumics-spotlight>=1.3.0rc1->sliceguard) (0.2.2)\n",
      "Requirement already satisfied: asttokens>=2.1.0 in /home/daniel/code/sliceguard/.venv/lib/python3.8/site-packages (from stack-data->ipython>=6.1.0->ipywidgets->renumics-spotlight>=1.3.0rc1->sliceguard) (2.2.1)\n",
      "Requirement already satisfied: rfc3339-validator in /home/daniel/code/sliceguard/.venv/lib/python3.8/site-packages (from jupyter-events>=0.6.0->jupyter-server>=1.8->nbclassic>=0.4.7->notebook->renumics-spotlight>=1.3.0rc1->sliceguard) (0.1.4)\n",
      "Requirement already satisfied: python-json-logger>=2.0.4 in /home/daniel/code/sliceguard/.venv/lib/python3.8/site-packages (from jupyter-events>=0.6.0->jupyter-server>=1.8->nbclassic>=0.4.7->notebook->renumics-spotlight>=1.3.0rc1->sliceguard) (2.0.7)\n",
      "Requirement already satisfied: rfc3986-validator>=0.1.1 in /home/daniel/code/sliceguard/.venv/lib/python3.8/site-packages (from jupyter-events>=0.6.0->jupyter-server>=1.8->nbclassic>=0.4.7->notebook->renumics-spotlight>=1.3.0rc1->sliceguard) (0.1.1)\n",
      "Requirement already satisfied: isoduration in /home/daniel/code/sliceguard/.venv/lib/python3.8/site-packages (from jsonschema>=2.6->nbformat->notebook->renumics-spotlight>=1.3.0rc1->sliceguard) (20.11.0)\n",
      "Requirement already satisfied: uri-template in /home/daniel/code/sliceguard/.venv/lib/python3.8/site-packages (from jsonschema>=2.6->nbformat->notebook->renumics-spotlight>=1.3.0rc1->sliceguard) (1.3.0)\n",
      "Requirement already satisfied: webcolors>=1.11 in /home/daniel/code/sliceguard/.venv/lib/python3.8/site-packages (from jsonschema>=2.6->nbformat->notebook->renumics-spotlight>=1.3.0rc1->sliceguard) (1.13)\n",
      "Requirement already satisfied: jsonpointer>1.13 in /home/daniel/code/sliceguard/.venv/lib/python3.8/site-packages (from jsonschema>=2.6->nbformat->notebook->renumics-spotlight>=1.3.0rc1->sliceguard) (2.4)\n",
      "Requirement already satisfied: fqdn in /home/daniel/code/sliceguard/.venv/lib/python3.8/site-packages (from jsonschema>=2.6->nbformat->notebook->renumics-spotlight>=1.3.0rc1->sliceguard) (1.5.1)\n",
      "Requirement already satisfied: arrow>=0.15.0 in /home/daniel/code/sliceguard/.venv/lib/python3.8/site-packages (from isoduration->jsonschema>=2.6->nbformat->notebook->renumics-spotlight>=1.3.0rc1->sliceguard) (1.2.3)\n",
      "\u001b[33mWARNING: You are using pip version 22.0.4; however, version 23.1.2 is available.\n",
      "You should consider upgrading via the '/home/daniel/code/sliceguard/.venv/bin/python -m pip install --upgrade pip' command.\u001b[0m\u001b[33m\n",
      "\u001b[0m"
     ]
    }
   ],
   "source": [
    "!pip install sliceguard librosa soundfile datasets tqdm jiwer"
   ]
  },
  {
   "cell_type": "markdown",
   "id": "d8385885",
   "metadata": {},
   "source": [
    "## Step 1: Generate predictions for the Common Voice dataset"
   ]
  },
  {
   "cell_type": "markdown",
   "id": "ced433ff",
   "metadata": {},
   "source": [
    "**IMPORTANT NOTE**: In order to access the commonvoice dataset you have to accept certain terms and conditions. To do this, create a huggingface account and accept the terms and conditions [HERE](https://huggingface.co/datasets/mozilla-foundation/common_voice_13_0). You then need to **create an access token** to access your datasets programmatically. Follow the steps for configuring one [HERE](https://huggingface.co/docs/hub/security-tokens). It is just a matter of few minutes. Just paste your access token into a file called **access_token.txt** and place it in the same directory as this notebook."
   ]
  },
  {
   "cell_type": "code",
   "execution_count": 1,
   "id": "d9478724",
   "metadata": {},
   "outputs": [],
   "source": [
    "# Configure this example here.\n",
    "# Like this it is optimized for fast execution only using whisper tiny.\n",
    "HF_MODEL = \"openai/whisper-tiny\"\n",
    "ACCESS_TOKEN_FILE = \"access_token.txt\"\n",
    "AUDIO_SAVE_DIR = \"audios\"\n",
    "NUM_SAMPLES = 500"
   ]
  },
  {
   "cell_type": "code",
   "execution_count": 33,
   "id": "00dc6079",
   "metadata": {},
   "outputs": [],
   "source": [
    "# Some imports your will need to execute this\n",
    "import uuid\n",
    "import shutil\n",
    "from pathlib import Path\n",
    "import pandas as pd\n",
    "from tqdm import tqdm\n",
    "import torch\n",
    "import librosa\n",
    "import soundfile as sf\n",
    "from jiwer import wer\n",
    "from datasets import load_dataset, Audio\n",
    "from transformers import pipeline\n",
    "from transformers import WhisperProcessor, WhisperFeatureExtractor, WhisperTokenizer, WhisperForConditionalGeneration"
   ]
  },
  {
   "cell_type": "code",
   "execution_count": 15,
   "id": "15373734",
   "metadata": {},
   "outputs": [],
   "source": [
    "# Read the acces token for downloading the dataset\n",
    "access_token = Path(ACCESS_TOKEN_FILE).read_text()\n",
    "cv_13 = load_dataset(\"mozilla-foundation/common_voice_13_0\", \"en\", use_auth_token=access_token, streaming=True)"
   ]
  },
  {
   "cell_type": "code",
   "execution_count": 19,
   "id": "254cd94c",
   "metadata": {},
   "outputs": [],
   "source": [
    "# Instantiate an ASR pipeline with the configured model\n",
    "device = \"cuda:0\" if torch.cuda.is_available() else \"cpu\"\n",
    "\n",
    "feature_extractor = WhisperFeatureExtractor.from_pretrained(HF_MODEL)\n",
    "tokenizer = WhisperTokenizer.from_pretrained(HF_MODEL, language=\"en\", task=\"transcribe\")\n",
    "model = WhisperForConditionalGeneration.from_pretrained(HF_MODEL).to(device)\n",
    "\n",
    "model.config.forced_decoder_ids = tokenizer.get_decoder_prompt_ids() # Specify the task as we always want to use german and transcribe\n",
    "model.config.language = \"<|en|>\"\n",
    "model.config.task = \"transcribe\"\n",
    "\n",
    "pipe = pipeline(\"automatic-speech-recognition\", model=model, tokenizer=tokenizer, feature_extractor=feature_extractor, device=device)"
   ]
  },
  {
   "cell_type": "code",
   "execution_count": 37,
   "id": "7af43e84",
   "metadata": {},
   "outputs": [
    {
     "name": "stderr",
     "output_type": "stream",
     "text": [
      "  0%|                                                   | 0/500 [00:00<?, ?it/s]\n",
      "Reading metadata...: 0it [00:00, ?it/s]\u001b[A\n",
      "Reading metadata...: 1it [00:00,  1.52it/s]\u001b[A\n",
      "Reading metadata...: 22068it [00:01, 18803.64it/s]\u001b[A\n",
      "Reading metadata...: 23887it [00:02, 11889.38it/s]\u001b[A\n",
      "Reading metadata...: 43987it [00:02, 18799.91it/s]\u001b[A\n",
      "Reading metadata...: 65891it [00:03, 23312.51it/s]\u001b[A\n",
      "Reading metadata...: 87679it [00:04, 25927.66it/s]\u001b[A\n",
      "Reading metadata...: 109202it [00:04, 27477.84it/s]\u001b[A\n",
      "Reading metadata...: 130629it [00:05, 28525.90it/s]\u001b[A\n",
      "Reading metadata...: 151866it [00:06, 29016.60it/s]\u001b[A\n",
      "Reading metadata...: 172914it [00:06, 29380.31it/s]\u001b[A\n",
      "Reading metadata...: 193877it [00:07, 29536.68it/s]\u001b[A\n",
      "Reading metadata...: 214827it [00:08, 29528.14it/s]\u001b[A\n",
      "Reading metadata...: 235814it [00:09, 29619.24it/s]\u001b[A\n",
      "Reading metadata...: 256646it [00:09, 29176.88it/s]\u001b[A\n",
      "Reading metadata...: 277374it [00:10, 29162.39it/s]\u001b[A\n",
      "Reading metadata...: 298001it [00:11, 29137.92it/s]\u001b[A\n",
      "Reading metadata...: 318600it [00:11, 29210.91it/s]\u001b[A\n",
      "Reading metadata...: 339251it [00:12, 29252.18it/s]\u001b[A\n",
      "Reading metadata...: 359782it [00:13, 29261.39it/s]\u001b[A\n",
      "Reading metadata...: 380133it [00:13, 29291.34it/s]\u001b[A\n",
      "Reading metadata...: 400471it [00:14, 29272.41it/s]\u001b[A\n",
      "Reading metadata...: 420910it [00:15, 26806.08it/s]\u001b[A\n",
      "Reading metadata...: 441177it [00:16, 27499.45it/s]\u001b[A\n",
      "Reading metadata...: 461316it [00:16, 27937.90it/s]\u001b[A\n",
      "Reading metadata...: 481495it [00:17, 26128.60it/s]\u001b[A\n",
      "Reading metadata...: 501749it [00:18, 27000.77it/s]\u001b[A\n",
      "Reading metadata...: 522193it [00:19, 27686.89it/s]\u001b[A\n",
      "Reading metadata...: 542606it [00:20, 25704.38it/s]\u001b[A\n",
      "Reading metadata...: 562807it [00:21, 24701.47it/s]\u001b[A\n",
      "Reading metadata...: 583309it [00:22, 23239.61it/s]\u001b[A\n",
      "Reading metadata...: 603316it [00:22, 24590.04it/s]\u001b[A\n",
      "Reading metadata...: 623105it [00:23, 25036.72it/s]\u001b[A\n",
      "Reading metadata...: 643438it [00:24, 26187.29it/s]\u001b[A\n",
      "Reading metadata...: 663514it [00:24, 26837.89it/s]\u001b[A\n",
      "Reading metadata...: 683919it [00:25, 27360.88it/s]\u001b[A\n",
      "Reading metadata...: 703916it [00:26, 27456.23it/s]\u001b[A\n",
      "Reading metadata...: 723878it [00:27, 25628.68it/s]\u001b[A\n",
      "Reading metadata...: 743723it [00:27, 26365.00it/s]\u001b[A\n",
      "Reading metadata...: 763579it [00:28, 24899.43it/s]\u001b[A\n",
      "Reading metadata...: 782814it [00:29, 25525.97it/s]\u001b[A\n",
      "Reading metadata...: 802101it [00:30, 26046.71it/s]\u001b[A\n",
      "Reading metadata...: 822227it [00:30, 26665.66it/s]\u001b[A\n",
      "Reading metadata...: 842810it [00:31, 27290.09it/s]\u001b[A\n",
      "Reading metadata...: 861426it [00:32, 26617.64it/s]\u001b[A\n",
      "Reading metadata...: 881166it [00:33, 26973.21it/s]\u001b[A\n",
      "Reading metadata...: 901724it [00:33, 27564.41it/s]\u001b[A\n",
      "Reading metadata...: 922547it [00:34, 27801.24it/s]\u001b[A\n",
      "Reading metadata...: 942272it [00:35, 27572.62it/s]\u001b[A\n",
      "Reading metadata...: 962459it [00:36, 27568.74it/s]\u001b[A\n",
      "Reading metadata...: 981676it [00:36, 27437.43it/s]\u001b[A\n",
      "Reading metadata...: 1013968it [00:37, 27097.70it/s]\u001b[A\n",
      "100%|█████████████████████████████████████████| 500/500 [01:51<00:00,  4.48it/s]\n"
     ]
    }
   ],
   "source": [
    "keys_to_save = [\"sentence\", \"up_votes\", \"down_votes\", \"age\", \"gender\", \"accent\", \"locale\", \"segment\", \"variant\"]\n",
    "\n",
    "audio_save_dir = Path(AUDIO_SAVE_DIR)\n",
    "if  not audio_save_dir.is_dir():\n",
    "    audio_save_dir.mkdir()\n",
    "else:\n",
    "    shutil.rmtree(audio_save_dir)\n",
    "    audio_save_dir.mkdir()\n",
    "\n",
    "num_samples = 0\n",
    "data = []\n",
    "for sample in tqdm(cv_13[\"train\"], total=NUM_SAMPLES):\n",
    "    new_audio = librosa.resample(sample[\"audio\"][\"array\"], orig_sr=sample[\"audio\"][\"sampling_rate\"], target_sr=16000)\n",
    "    file_stem = str(uuid.uuid4())\n",
    "    cur_data = {}\n",
    "    for k in keys_to_save:\n",
    "        cur_data[k] = sample[k]\n",
    "    prediction = pipe(new_audio)[\"text\"]\n",
    "    cur_data[\"prediction\"] = prediction\n",
    "    \n",
    "    sample_wer = wer(sample[\"sentence\"], prediction)\n",
    "    cur_data[\"wer\"] = sample_wer\n",
    "    \n",
    "    target_path = audio_save_dir / (file_stem + \".wav\")\n",
    "    cur_data[\"audio\"] = target_path\n",
    "    sf.write(target_path, new_audio, 16000)\n",
    "    data.append(cur_data)\n",
    "    num_samples += 1\n",
    "    if num_samples > NUM_SAMPLES:\n",
    "        break"
   ]
  },
  {
   "cell_type": "code",
   "execution_count": 38,
   "id": "c5d9d684",
   "metadata": {},
   "outputs": [],
   "source": [
    "df = pd.DataFrame(data)\n",
    "df[\"audio\"] = df[\"audio\"].astype(\"string\") # otherwise overflow in serializing json\n",
    "df.to_json(\"dataset.json\", orient=\"records\")"
   ]
  },
  {
   "cell_type": "markdown",
   "id": "deab58d8",
   "metadata": {},
   "source": [
    "## Step 2: Detect issues caused by environmental noise\n",
    "First check we want to do is checking wether there are audio recordings that are somehow so different from the rest of the data that they cannot be properly transcribed. Here we mostly target general audio properties and environmental noise such as background noises.\n",
    "\n",
    "In order to do this, we leverage general purpose audio embeddings of a model trained on Audioset."
   ]
  },
  {
   "cell_type": "code",
   "execution_count": 42,
   "id": "9ddc05d0",
   "metadata": {},
   "outputs": [
    {
     "ename": "ModuleNotFoundError",
     "evalue": "No module named 'html.parser'",
     "output_type": "error",
     "traceback": [
      "\u001b[0;31m---------------------------------------------------------------------------\u001b[0m",
      "\u001b[0;31mModuleNotFoundError\u001b[0m                       Traceback (most recent call last)",
      "Cell \u001b[0;32mIn[42], line 1\u001b[0m\n\u001b[0;32m----> 1\u001b[0m \u001b[38;5;28;01mfrom\u001b[39;00m \u001b[38;5;21;01msliceguard\u001b[39;00m \u001b[38;5;28;01mimport\u001b[39;00m SliceGuard\n",
      "File \u001b[0;32m~/code/sliceguard/sliceguard/__init__.py:1\u001b[0m\n\u001b[0;32m----> 1\u001b[0m \u001b[38;5;28;01mfrom\u001b[39;00m \u001b[38;5;21;01msliceguard\u001b[39;00m\u001b[38;5;21;01m.\u001b[39;00m\u001b[38;5;21;01msliceguard\u001b[39;00m \u001b[38;5;28;01mimport\u001b[39;00m SliceGuard\n",
      "File \u001b[0;32m~/code/sliceguard/sliceguard/sliceguard.py:14\u001b[0m\n\u001b[1;32m     11\u001b[0m \u001b[38;5;28;01mimport\u001b[39;00m \u001b[38;5;21;01mnumpy\u001b[39;00m \u001b[38;5;28;01mas\u001b[39;00m \u001b[38;5;21;01mnp\u001b[39;00m\n\u001b[1;32m     12\u001b[0m \u001b[38;5;28;01mimport\u001b[39;00m \u001b[38;5;21;01mplotly\u001b[39;00m\u001b[38;5;21;01m.\u001b[39;00m\u001b[38;5;21;01mexpress\u001b[39;00m \u001b[38;5;28;01mas\u001b[39;00m \u001b[38;5;21;01mpx\u001b[39;00m\n\u001b[0;32m---> 14\u001b[0m \u001b[38;5;28;01mfrom\u001b[39;00m \u001b[38;5;21;01mrenumics\u001b[39;00m \u001b[38;5;28;01mimport\u001b[39;00m spotlight\n\u001b[1;32m     15\u001b[0m \u001b[38;5;28;01mfrom\u001b[39;00m \u001b[38;5;21;01mrenumics\u001b[39;00m\u001b[38;5;21;01m.\u001b[39;00m\u001b[38;5;21;01mspotlight\u001b[39;00m\u001b[38;5;21;01m.\u001b[39;00m\u001b[38;5;21;01manalysis\u001b[39;00m\u001b[38;5;21;01m.\u001b[39;00m\u001b[38;5;21;01mtyping\u001b[39;00m \u001b[38;5;28;01mimport\u001b[39;00m DataIssue\n\u001b[1;32m     16\u001b[0m \u001b[38;5;28;01mfrom\u001b[39;00m \u001b[38;5;21;01mrenumics\u001b[39;00m\u001b[38;5;21;01m.\u001b[39;00m\u001b[38;5;21;01mspotlight\u001b[39;00m \u001b[38;5;28;01mimport\u001b[39;00m layout\n",
      "File \u001b[0;32m~/code/sliceguard/.venv/lib/python3.8/site-packages/renumics/spotlight/__init__.py:7\u001b[0m\n\u001b[1;32m      5\u001b[0m \u001b[38;5;28;01mfrom\u001b[39;00m \u001b[38;5;21;01mloguru\u001b[39;00m \u001b[38;5;28;01mimport\u001b[39;00m logger\n\u001b[1;32m      6\u001b[0m \u001b[38;5;28;01mfrom\u001b[39;00m \u001b[38;5;21;01m.\u001b[39;00m\u001b[38;5;21;01m__version__\u001b[39;00m \u001b[38;5;28;01mimport\u001b[39;00m __version__\n\u001b[0;32m----> 7\u001b[0m \u001b[38;5;28;01mfrom\u001b[39;00m \u001b[38;5;21;01m.\u001b[39;00m\u001b[38;5;21;01mdataset\u001b[39;00m \u001b[38;5;28;01mimport\u001b[39;00m Dataset\n\u001b[1;32m      8\u001b[0m \u001b[38;5;28;01mfrom\u001b[39;00m \u001b[38;5;21;01m.\u001b[39;00m\u001b[38;5;21;01mdtypes\u001b[39;00m \u001b[38;5;28;01mimport\u001b[39;00m (\n\u001b[1;32m      9\u001b[0m     Audio,\n\u001b[1;32m     10\u001b[0m     Category,\n\u001b[0;32m   (...)\u001b[0m\n\u001b[1;32m     16\u001b[0m     Window,\n\u001b[1;32m     17\u001b[0m )\n\u001b[1;32m     18\u001b[0m \u001b[38;5;28;01mfrom\u001b[39;00m \u001b[38;5;21;01m.\u001b[39;00m\u001b[38;5;21;01mviewer\u001b[39;00m \u001b[38;5;28;01mimport\u001b[39;00m Viewer, close, viewers, show\n",
      "File \u001b[0;32m~/code/sliceguard/.venv/lib/python3.8/site-packages/renumics/spotlight/dataset/__init__.py:28\u001b[0m\n\u001b[1;32m     26\u001b[0m \u001b[38;5;28;01mimport\u001b[39;00m \u001b[38;5;21;01mnumpy\u001b[39;00m \u001b[38;5;28;01mas\u001b[39;00m \u001b[38;5;21;01mnp\u001b[39;00m\n\u001b[1;32m     27\u001b[0m \u001b[38;5;28;01mimport\u001b[39;00m \u001b[38;5;21;01mpandas\u001b[39;00m \u001b[38;5;28;01mas\u001b[39;00m \u001b[38;5;21;01mpd\u001b[39;00m\n\u001b[0;32m---> 28\u001b[0m \u001b[38;5;28;01mimport\u001b[39;00m \u001b[38;5;21;01mprettytable\u001b[39;00m\n\u001b[1;32m     29\u001b[0m \u001b[38;5;28;01mimport\u001b[39;00m \u001b[38;5;21;01mtrimesh\u001b[39;00m\n\u001b[1;32m     30\u001b[0m \u001b[38;5;28;01mimport\u001b[39;00m \u001b[38;5;21;01mvalidators\u001b[39;00m\n",
      "File \u001b[0;32m~/code/sliceguard/.venv/lib/python3.8/site-packages/prettytable/__init__.py:3\u001b[0m\n\u001b[1;32m      1\u001b[0m \u001b[38;5;28;01mfrom\u001b[39;00m \u001b[38;5;21;01m__future__\u001b[39;00m \u001b[38;5;28;01mimport\u001b[39;00m annotations\n\u001b[0;32m----> 3\u001b[0m \u001b[38;5;28;01mfrom\u001b[39;00m \u001b[38;5;21;01m.\u001b[39;00m\u001b[38;5;21;01mprettytable\u001b[39;00m \u001b[38;5;28;01mimport\u001b[39;00m (\n\u001b[1;32m      4\u001b[0m     ALL,\n\u001b[1;32m      5\u001b[0m     DEFAULT,\n\u001b[1;32m      6\u001b[0m     DOUBLE_BORDER,\n\u001b[1;32m      7\u001b[0m     FRAME,\n\u001b[1;32m      8\u001b[0m     HEADER,\n\u001b[1;32m      9\u001b[0m     MARKDOWN,\n\u001b[1;32m     10\u001b[0m     MSWORD_FRIENDLY,\n\u001b[1;32m     11\u001b[0m     NONE,\n\u001b[1;32m     12\u001b[0m     ORGMODE,\n\u001b[1;32m     13\u001b[0m     PLAIN_COLUMNS,\n\u001b[1;32m     14\u001b[0m     RANDOM,\n\u001b[1;32m     15\u001b[0m     SINGLE_BORDER,\n\u001b[1;32m     16\u001b[0m     PrettyTable,\n\u001b[1;32m     17\u001b[0m     TableHandler,\n\u001b[1;32m     18\u001b[0m     from_csv,\n\u001b[1;32m     19\u001b[0m     from_db_cursor,\n\u001b[1;32m     20\u001b[0m     from_html,\n\u001b[1;32m     21\u001b[0m     from_html_one,\n\u001b[1;32m     22\u001b[0m     from_json,\n\u001b[1;32m     23\u001b[0m )\n\u001b[1;32m     25\u001b[0m __all__ \u001b[38;5;241m=\u001b[39m [\n\u001b[1;32m     26\u001b[0m     \u001b[38;5;124m\"\u001b[39m\u001b[38;5;124mALL\u001b[39m\u001b[38;5;124m\"\u001b[39m,\n\u001b[1;32m     27\u001b[0m     \u001b[38;5;124m\"\u001b[39m\u001b[38;5;124mDEFAULT\u001b[39m\u001b[38;5;124m\"\u001b[39m,\n\u001b[0;32m   (...)\u001b[0m\n\u001b[1;32m     44\u001b[0m     \u001b[38;5;124m\"\u001b[39m\u001b[38;5;124mfrom_json\u001b[39m\u001b[38;5;124m\"\u001b[39m,\n\u001b[1;32m     45\u001b[0m ]\n\u001b[1;32m     47\u001b[0m \u001b[38;5;28;01mimport\u001b[39;00m \u001b[38;5;21;01mimportlib\u001b[39;00m\u001b[38;5;21;01m.\u001b[39;00m\u001b[38;5;21;01mmetadata\u001b[39;00m\n",
      "File \u001b[0;32m~/code/sliceguard/.venv/lib/python3.8/site-packages/prettytable/prettytable.py:45\u001b[0m\n\u001b[1;32m     43\u001b[0m \u001b[38;5;28;01mimport\u001b[39;00m \u001b[38;5;21;01mtextwrap\u001b[39;00m\n\u001b[1;32m     44\u001b[0m \u001b[38;5;28;01mfrom\u001b[39;00m \u001b[38;5;21;01mhtml\u001b[39;00m \u001b[38;5;28;01mimport\u001b[39;00m escape\n\u001b[0;32m---> 45\u001b[0m \u001b[38;5;28;01mfrom\u001b[39;00m \u001b[38;5;21;01mhtml\u001b[39;00m\u001b[38;5;21;01m.\u001b[39;00m\u001b[38;5;21;01mparser\u001b[39;00m \u001b[38;5;28;01mimport\u001b[39;00m HTMLParser\n\u001b[1;32m     46\u001b[0m \u001b[38;5;28;01mfrom\u001b[39;00m \u001b[38;5;21;01mtyping\u001b[39;00m \u001b[38;5;28;01mimport\u001b[39;00m Any\n\u001b[1;32m     48\u001b[0m \u001b[38;5;28;01mimport\u001b[39;00m \u001b[38;5;21;01mwcwidth\u001b[39;00m  \u001b[38;5;66;03m# type: ignore\u001b[39;00m\n",
      "\u001b[0;31mModuleNotFoundError\u001b[0m: No module named 'html.parser'"
     ]
    }
   ],
   "source": [
    "from sliceguard import SliceGuard"
   ]
  },
  {
   "cell_type": "code",
   "execution_count": 40,
   "id": "1a41fbff",
   "metadata": {},
   "outputs": [],
   "source": [
    "df = pd.read_json(\"dataset.json\")"
   ]
  },
  {
   "cell_type": "code",
   "execution_count": 41,
   "id": "8b131b55",
   "metadata": {},
   "outputs": [
    {
     "data": {
      "text/plain": [
       "Index(['sentence', 'up_votes', 'down_votes', 'age', 'gender', 'accent',\n",
       "       'locale', 'segment', 'variant', 'prediction', 'wer', 'audio'],\n",
       "      dtype='object')"
      ]
     },
     "execution_count": 41,
     "metadata": {},
     "output_type": "execute_result"
    }
   ],
   "source": [
    "issue_df = sg.find_issues(\n",
    "        df,\n",
    "        [\"path\"],\n",
    "        \"label\",\n",
    "        \"class\",\n",
    "        accuracy_score,\n",
    "        metric_mode=\"max\",\n",
    "        # feature_types={\"age\": \"ordinal\"},\n",
    "        # feature_orders={\"age\": [\"\", \"teens\", \"twenties\", \"thirties\", \"fourties\", \"fifties\", \"sixties\", \"seventies\", \"eighties\", \"nineties\"]},\n",
    "        embedding_models={\"path\": \"superb/wav2vec2-base-superb-sid\"},\n",
    "        min_support=5,\n",
    "        min_drop=0.1,\n",
    "    )"
   ]
  },
  {
   "cell_type": "markdown",
   "id": "e8b6d287",
   "metadata": {},
   "source": [
    "## Step 3: Detect issues caused by (uncommon) speakers"
   ]
  },
  {
   "cell_type": "code",
   "execution_count": null,
   "id": "408a0fb7",
   "metadata": {},
   "outputs": [],
   "source": []
  }
 ],
 "metadata": {
  "kernelspec": {
   "display_name": "Python 3 (ipykernel)",
   "language": "python",
   "name": "python3"
  },
  "language_info": {
   "codemirror_mode": {
    "name": "ipython",
    "version": 3
   },
   "file_extension": ".py",
   "mimetype": "text/x-python",
   "name": "python",
   "nbconvert_exporter": "python",
   "pygments_lexer": "ipython3",
   "version": "3.8.13"
  }
 },
 "nbformat": 4,
 "nbformat_minor": 5
}
