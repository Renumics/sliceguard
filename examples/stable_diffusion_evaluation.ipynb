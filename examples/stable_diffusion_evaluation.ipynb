{
 "cells": [
  {
   "cell_type": "code",
   "execution_count": 1,
   "id": "3cdbd239",
   "metadata": {},
   "outputs": [],
   "source": [
    "%load_ext autoreload\n",
    "%autoreload 2"
   ]
  },
  {
   "cell_type": "code",
   "execution_count": 33,
   "id": "f4ff8981",
   "metadata": {},
   "outputs": [
    {
     "name": "stdout",
     "output_type": "stream",
     "text": [
      "Requirement already satisfied: diffusers[torch] in /home/daniel/code/sliceguard/.venv/lib/python3.8/site-packages (0.18.2)\n",
      "Requirement already satisfied: datasets in /home/daniel/code/sliceguard/.venv/lib/python3.8/site-packages (2.13.1)\n",
      "Requirement already satisfied: invisible_watermark in /home/daniel/code/sliceguard/.venv/lib/python3.8/site-packages (0.2.0)\n",
      "Requirement already satisfied: transformers in /home/daniel/code/sliceguard/.venv/lib/python3.8/site-packages (4.30.2)\n",
      "Requirement already satisfied: accelerate in /home/daniel/code/sliceguard/.venv/lib/python3.8/site-packages (0.21.0)\n",
      "Requirement already satisfied: safetensors in /home/daniel/code/sliceguard/.venv/lib/python3.8/site-packages (0.3.1)\n",
      "Requirement already satisfied: torchmetrics in /home/daniel/code/sliceguard/.venv/lib/python3.8/site-packages (1.0.1)\n",
      "Requirement already satisfied: Pillow in /home/daniel/code/sliceguard/.venv/lib/python3.8/site-packages (10.0.0)\n",
      "Requirement already satisfied: numpy in /home/daniel/code/sliceguard/.venv/lib/python3.8/site-packages (from diffusers[torch]) (1.22.4)\n",
      "Requirement already satisfied: requests in /home/daniel/code/sliceguard/.venv/lib/python3.8/site-packages (from diffusers[torch]) (2.31.0)\n",
      "Requirement already satisfied: importlib-metadata in /home/daniel/code/sliceguard/.venv/lib/python3.8/site-packages (from diffusers[torch]) (6.8.0)\n",
      "Requirement already satisfied: huggingface-hub>=0.13.2 in /home/daniel/code/sliceguard/.venv/lib/python3.8/site-packages (from diffusers[torch]) (0.16.4)\n",
      "Requirement already satisfied: regex!=2019.12.17 in /home/daniel/code/sliceguard/.venv/lib/python3.8/site-packages (from diffusers[torch]) (2023.6.3)\n",
      "Requirement already satisfied: filelock in /home/daniel/code/sliceguard/.venv/lib/python3.8/site-packages (from diffusers[torch]) (3.12.2)\n",
      "Requirement already satisfied: torch>=1.4 in /home/daniel/code/sliceguard/.venv/lib/python3.8/site-packages (from diffusers[torch]) (2.0.1)\n",
      "Requirement already satisfied: multiprocess in /home/daniel/code/sliceguard/.venv/lib/python3.8/site-packages (from datasets) (0.70.14)\n",
      "Requirement already satisfied: pyyaml>=5.1 in /home/daniel/code/sliceguard/.venv/lib/python3.8/site-packages (from datasets) (6.0)\n",
      "Requirement already satisfied: pandas in /home/daniel/code/sliceguard/.venv/lib/python3.8/site-packages (from datasets) (2.0.3)\n",
      "Requirement already satisfied: dill<0.3.7,>=0.3.0 in /home/daniel/code/sliceguard/.venv/lib/python3.8/site-packages (from datasets) (0.3.6)\n",
      "Requirement already satisfied: tqdm>=4.62.1 in /home/daniel/code/sliceguard/.venv/lib/python3.8/site-packages (from datasets) (4.65.0)\n",
      "Requirement already satisfied: packaging in /home/daniel/code/sliceguard/.venv/lib/python3.8/site-packages (from datasets) (23.1)\n",
      "Requirement already satisfied: pyarrow>=8.0.0 in /home/daniel/code/sliceguard/.venv/lib/python3.8/site-packages (from datasets) (12.0.1)\n",
      "Requirement already satisfied: xxhash in /home/daniel/code/sliceguard/.venv/lib/python3.8/site-packages (from datasets) (3.2.0)\n",
      "Requirement already satisfied: aiohttp in /home/daniel/code/sliceguard/.venv/lib/python3.8/site-packages (from datasets) (3.8.4)\n",
      "Requirement already satisfied: fsspec[http]>=2021.11.1 in /home/daniel/code/sliceguard/.venv/lib/python3.8/site-packages (from datasets) (2023.6.0)\n",
      "Requirement already satisfied: opencv-python>=4.1.0.25 in /home/daniel/code/sliceguard/.venv/lib/python3.8/site-packages (from invisible_watermark) (4.8.0.74)\n",
      "Requirement already satisfied: PyWavelets>=1.1.1 in /home/daniel/code/sliceguard/.venv/lib/python3.8/site-packages (from invisible_watermark) (1.4.1)\n",
      "Requirement already satisfied: tokenizers!=0.11.3,<0.14,>=0.11.1 in /home/daniel/code/sliceguard/.venv/lib/python3.8/site-packages (from transformers) (0.13.3)\n",
      "Requirement already satisfied: psutil in /home/daniel/code/sliceguard/.venv/lib/python3.8/site-packages (from accelerate) (5.9.5)\n",
      "Requirement already satisfied: typing-extensions in /home/daniel/code/sliceguard/.venv/lib/python3.8/site-packages (from torchmetrics) (4.7.1)\n",
      "Requirement already satisfied: lightning-utilities>=0.7.0 in /home/daniel/code/sliceguard/.venv/lib/python3.8/site-packages (from torchmetrics) (0.9.0)\n",
      "Requirement already satisfied: aiosignal>=1.1.2 in /home/daniel/code/sliceguard/.venv/lib/python3.8/site-packages (from aiohttp->datasets) (1.3.1)\n",
      "Requirement already satisfied: frozenlist>=1.1.1 in /home/daniel/code/sliceguard/.venv/lib/python3.8/site-packages (from aiohttp->datasets) (1.3.3)\n",
      "Requirement already satisfied: multidict<7.0,>=4.5 in /home/daniel/code/sliceguard/.venv/lib/python3.8/site-packages (from aiohttp->datasets) (6.0.4)\n",
      "Requirement already satisfied: charset-normalizer<4.0,>=2.0 in /home/daniel/code/sliceguard/.venv/lib/python3.8/site-packages (from aiohttp->datasets) (3.2.0)\n",
      "Requirement already satisfied: async-timeout<5.0,>=4.0.0a3 in /home/daniel/code/sliceguard/.venv/lib/python3.8/site-packages (from aiohttp->datasets) (4.0.2)\n",
      "Requirement already satisfied: yarl<2.0,>=1.0 in /home/daniel/code/sliceguard/.venv/lib/python3.8/site-packages (from aiohttp->datasets) (1.9.2)\n",
      "Requirement already satisfied: attrs>=17.3.0 in /home/daniel/code/sliceguard/.venv/lib/python3.8/site-packages (from aiohttp->datasets) (23.1.0)\n",
      "Requirement already satisfied: urllib3<3,>=1.21.1 in /home/daniel/code/sliceguard/.venv/lib/python3.8/site-packages (from requests->diffusers[torch]) (2.0.3)\n",
      "Requirement already satisfied: idna<4,>=2.5 in /home/daniel/code/sliceguard/.venv/lib/python3.8/site-packages (from requests->diffusers[torch]) (3.4)\n",
      "Requirement already satisfied: certifi>=2017.4.17 in /home/daniel/code/sliceguard/.venv/lib/python3.8/site-packages (from requests->diffusers[torch]) (2023.5.7)\n",
      "Requirement already satisfied: nvidia-cufft-cu11==10.9.0.58 in /home/daniel/code/sliceguard/.venv/lib/python3.8/site-packages (from torch>=1.4->diffusers[torch]) (10.9.0.58)\n",
      "Requirement already satisfied: nvidia-curand-cu11==10.2.10.91 in /home/daniel/code/sliceguard/.venv/lib/python3.8/site-packages (from torch>=1.4->diffusers[torch]) (10.2.10.91)\n",
      "Requirement already satisfied: nvidia-nccl-cu11==2.14.3 in /home/daniel/code/sliceguard/.venv/lib/python3.8/site-packages (from torch>=1.4->diffusers[torch]) (2.14.3)\n",
      "Requirement already satisfied: nvidia-cuda-nvrtc-cu11==11.7.99 in /home/daniel/code/sliceguard/.venv/lib/python3.8/site-packages (from torch>=1.4->diffusers[torch]) (11.7.99)\n",
      "Requirement already satisfied: nvidia-cublas-cu11==11.10.3.66 in /home/daniel/code/sliceguard/.venv/lib/python3.8/site-packages (from torch>=1.4->diffusers[torch]) (11.10.3.66)\n",
      "Requirement already satisfied: nvidia-cudnn-cu11==8.5.0.96 in /home/daniel/code/sliceguard/.venv/lib/python3.8/site-packages (from torch>=1.4->diffusers[torch]) (8.5.0.96)\n",
      "Requirement already satisfied: nvidia-cuda-runtime-cu11==11.7.99 in /home/daniel/code/sliceguard/.venv/lib/python3.8/site-packages (from torch>=1.4->diffusers[torch]) (11.7.99)\n",
      "Requirement already satisfied: nvidia-cusolver-cu11==11.4.0.1 in /home/daniel/code/sliceguard/.venv/lib/python3.8/site-packages (from torch>=1.4->diffusers[torch]) (11.4.0.1)\n",
      "Requirement already satisfied: nvidia-cusparse-cu11==11.7.4.91 in /home/daniel/code/sliceguard/.venv/lib/python3.8/site-packages (from torch>=1.4->diffusers[torch]) (11.7.4.91)\n",
      "Requirement already satisfied: triton==2.0.0 in /home/daniel/code/sliceguard/.venv/lib/python3.8/site-packages (from torch>=1.4->diffusers[torch]) (2.0.0)\n",
      "Requirement already satisfied: jinja2 in /home/daniel/code/sliceguard/.venv/lib/python3.8/site-packages (from torch>=1.4->diffusers[torch]) (3.1.2)\n",
      "Requirement already satisfied: sympy in /home/daniel/code/sliceguard/.venv/lib/python3.8/site-packages (from torch>=1.4->diffusers[torch]) (1.12)\n",
      "Requirement already satisfied: networkx in /home/daniel/code/sliceguard/.venv/lib/python3.8/site-packages (from torch>=1.4->diffusers[torch]) (3.1)\n",
      "Requirement already satisfied: nvidia-cuda-cupti-cu11==11.7.101 in /home/daniel/code/sliceguard/.venv/lib/python3.8/site-packages (from torch>=1.4->diffusers[torch]) (11.7.101)\n",
      "Requirement already satisfied: nvidia-nvtx-cu11==11.7.91 in /home/daniel/code/sliceguard/.venv/lib/python3.8/site-packages (from torch>=1.4->diffusers[torch]) (11.7.91)\n",
      "Requirement already satisfied: setuptools in /home/daniel/code/sliceguard/.venv/lib/python3.8/site-packages (from nvidia-cublas-cu11==11.10.3.66->torch>=1.4->diffusers[torch]) (56.0.0)\n",
      "Requirement already satisfied: wheel in /home/daniel/code/sliceguard/.venv/lib/python3.8/site-packages (from nvidia-cublas-cu11==11.10.3.66->torch>=1.4->diffusers[torch]) (0.40.0)\n"
     ]
    },
    {
     "name": "stdout",
     "output_type": "stream",
     "text": [
      "Requirement already satisfied: lit in /home/daniel/code/sliceguard/.venv/lib/python3.8/site-packages (from triton==2.0.0->torch>=1.4->diffusers[torch]) (16.0.6)\n",
      "Requirement already satisfied: cmake in /home/daniel/code/sliceguard/.venv/lib/python3.8/site-packages (from triton==2.0.0->torch>=1.4->diffusers[torch]) (3.26.4)\n",
      "Requirement already satisfied: zipp>=0.5 in /home/daniel/code/sliceguard/.venv/lib/python3.8/site-packages (from importlib-metadata->diffusers[torch]) (3.16.0)\n",
      "Requirement already satisfied: pytz>=2020.1 in /home/daniel/code/sliceguard/.venv/lib/python3.8/site-packages (from pandas->datasets) (2023.3)\n",
      "Requirement already satisfied: python-dateutil>=2.8.2 in /home/daniel/code/sliceguard/.venv/lib/python3.8/site-packages (from pandas->datasets) (2.8.2)\n",
      "Requirement already satisfied: tzdata>=2022.1 in /home/daniel/code/sliceguard/.venv/lib/python3.8/site-packages (from pandas->datasets) (2023.3)\n",
      "Requirement already satisfied: six>=1.5 in /home/daniel/code/sliceguard/.venv/lib/python3.8/site-packages (from python-dateutil>=2.8.2->pandas->datasets) (1.16.0)\n",
      "Requirement already satisfied: MarkupSafe>=2.0 in /home/daniel/code/sliceguard/.venv/lib/python3.8/site-packages (from jinja2->torch>=1.4->diffusers[torch]) (2.1.3)\n",
      "Requirement already satisfied: mpmath>=0.19 in /home/daniel/code/sliceguard/.venv/lib/python3.8/site-packages (from sympy->torch>=1.4->diffusers[torch]) (1.3.0)\n",
      "\n",
      "\u001b[1m[\u001b[0m\u001b[34;49mnotice\u001b[0m\u001b[1;39;49m]\u001b[0m\u001b[39;49m A new release of pip is available: \u001b[0m\u001b[31;49m23.0.1\u001b[0m\u001b[39;49m -> \u001b[0m\u001b[32;49m23.1.2\u001b[0m\n",
      "\u001b[1m[\u001b[0m\u001b[34;49mnotice\u001b[0m\u001b[1;39;49m]\u001b[0m\u001b[39;49m To update, run: \u001b[0m\u001b[32;49mpip install --upgrade pip\u001b[0m\n"
     ]
    }
   ],
   "source": [
    "!pip install --upgrade diffusers[torch] datasets invisible_watermark transformers accelerate safetensors torchmetrics Pillow"
   ]
  },
  {
   "cell_type": "markdown",
   "id": "969cf840",
   "metadata": {},
   "source": [
    "# Step 1: Generate Stable Diffusion Images"
   ]
  },
  {
   "cell_type": "code",
   "execution_count": 1,
   "id": "25e07f3f",
   "metadata": {},
   "outputs": [],
   "source": [
    "from pathlib import Path\n",
    "import shutil\n",
    "import uuid\n",
    "from diffusers import DiffusionPipeline\n",
    "import torch\n",
    "import datasets\n",
    "import pandas as pd"
   ]
  },
  {
   "cell_type": "code",
   "execution_count": 3,
   "id": "6ada6deb",
   "metadata": {},
   "outputs": [
    {
     "name": "stderr",
     "output_type": "stream",
     "text": [
      "Found cached dataset parquet (/home/daniel/.cache/huggingface/datasets/Gustavosta___parquet/Gustavosta--Stable-Diffusion-Prompts-eb720eed369c61bb/0.0.0/14a00e99c0d15a23649d0db8944380ac81082d4b021f398733dd84f3a6c569a7)\n"
     ]
    },
    {
     "data": {
      "application/vnd.jupyter.widget-view+json": {
       "model_id": "65c56b86134f4524844531aa7cdddca0",
       "version_major": 2,
       "version_minor": 0
      },
      "text/plain": [
       "  0%|          | 0/2 [00:00<?, ?it/s]"
      ]
     },
     "metadata": {},
     "output_type": "display_data"
    }
   ],
   "source": [
    "prompt_dataset = datasets.load_dataset(\"Gustavosta/Stable-Diffusion-Prompts\")"
   ]
  },
  {
   "cell_type": "code",
   "execution_count": 2,
   "id": "44dd5334",
   "metadata": {},
   "outputs": [],
   "source": [
    "pipe = DiffusionPipeline.from_pretrained(\"stabilityai/stable-diffusion-xl-base-0.9\", torch_dtype=torch.float16)\n",
    "pipe.enable_model_cpu_offload()\n",
    "\n",
    "rf_pipe = DiffusionPipeline.from_pretrained(\"stabilityai/stable-diffusion-xl-refiner-0.9\", torch_dtype=torch.float16, use_safetensors=True, variant=\"fp16\")\n",
    "rf_pipe.enable_model_cpu_offload()"
   ]
  },
  {
   "cell_type": "code",
   "execution_count": null,
   "id": "5b76af86",
   "metadata": {},
   "outputs": [],
   "source": [
    "target_dir = Path(\"images\")\n",
    "if not target_dir.is_dir():\n",
    "    target_dir.mkdir()\n",
    "else:\n",
    "    shutil.rmtree(target_dir)\n",
    "    target_dir.mkdir()\n",
    "\n",
    "prompts = []\n",
    "generated_images = []\n",
    "for prompt in prompt_dataset[\"train\"]:\n",
    "    try:\n",
    "        prompt = prompt[\"Prompt\"]\n",
    "        image = pipe(prompt, output_type=\"latent\").images\n",
    "\n",
    "        image = rf_pipe(prompt=prompt, image=image).images[0]\n",
    "\n",
    "        image_name = f\"{str(uuid.uuid4())}.png\"\n",
    "        image_path = target_dir / image_name\n",
    "        image.save(image_path)\n",
    "        prompts.append(prompt)\n",
    "        generated_images.append(str(image_path))\n",
    "\n",
    "        df = pd.DataFrame(data={\"image\": generated_images, \"prompt\": prompts})\n",
    "        df.to_json(\"sd_dataset.json\", orient=\"records\") # save this after every generation to not loose progress in case of crashing\n",
    "    except:\n",
    "        print(\"An error occured while generating image.\")"
   ]
  },
  {
   "cell_type": "markdown",
   "id": "bdd03908",
   "metadata": {},
   "source": [
    "# Step 2: Generate CLIP Scores for all the examples"
   ]
  },
  {
   "cell_type": "code",
   "execution_count": 1,
   "id": "6e0c1875",
   "metadata": {},
   "outputs": [],
   "source": [
    "import pandas as pd\n",
    "from torchmetrics.multimodal.clip_score import CLIPScore\n",
    "import PIL\n",
    "import numpy as np\n",
    "import torch\n",
    "from tqdm import tqdm"
   ]
  },
  {
   "cell_type": "code",
   "execution_count": 2,
   "id": "9888184a",
   "metadata": {},
   "outputs": [
    {
     "name": "stderr",
     "output_type": "stream",
     "text": [
      "`text_config_dict` is provided which will be used to initialize `CLIPTextConfig`. The value `text_config[\"id2label\"]` will be overriden.\n"
     ]
    }
   ],
   "source": [
    "metric = CLIPScore(model_name_or_path=\"openai/clip-vit-large-patch14\") # openai/clip-vit-base-patch16"
   ]
  },
  {
   "cell_type": "code",
   "execution_count": 3,
   "id": "087ca4b1",
   "metadata": {},
   "outputs": [],
   "source": [
    "metric = metric.to(\"cuda\")"
   ]
  },
  {
   "cell_type": "code",
   "execution_count": 4,
   "id": "f3482caa",
   "metadata": {},
   "outputs": [],
   "source": [
    "df = pd.read_json(\"sd_dataset.json\")"
   ]
  },
  {
   "cell_type": "code",
   "execution_count": 9,
   "id": "fc59c783",
   "metadata": {},
   "outputs": [
    {
     "name": "stderr",
     "output_type": "stream",
     "text": [
      "  0%|                                               | 1/1431 [00:00<02:43,  8.76it/s]"
     ]
    },
    {
     "name": "stdout",
     "output_type": "stream",
     "text": [
      "The size of tensor a (101) must match the size of tensor b (77) at non-singleton dimension 1\n",
      "The size of tensor a (81) must match the size of tensor b (77) at non-singleton dimension 1\n"
     ]
    },
    {
     "name": "stderr",
     "output_type": "stream",
     "text": [
      "  1%|▌                                             | 17/1431 [00:02<03:32,  6.65it/s]"
     ]
    },
    {
     "name": "stdout",
     "output_type": "stream",
     "text": [
      "The size of tensor a (96) must match the size of tensor b (77) at non-singleton dimension 1\n"
     ]
    },
    {
     "name": "stderr",
     "output_type": "stream",
     "text": [
      "  2%|▉                                             | 29/1431 [00:04<03:30,  6.68it/s]"
     ]
    },
    {
     "name": "stdout",
     "output_type": "stream",
     "text": [
      "The size of tensor a (112) must match the size of tensor b (77) at non-singleton dimension 1\n"
     ]
    },
    {
     "name": "stderr",
     "output_type": "stream",
     "text": [
      "  3%|█▌                                            | 49/1431 [00:07<03:26,  6.69it/s]"
     ]
    },
    {
     "name": "stdout",
     "output_type": "stream",
     "text": [
      "The size of tensor a (98) must match the size of tensor b (77) at non-singleton dimension 1\n"
     ]
    },
    {
     "name": "stderr",
     "output_type": "stream",
     "text": [
      "  4%|█▋                                            | 52/1431 [00:08<03:18,  6.94it/s]"
     ]
    },
    {
     "name": "stdout",
     "output_type": "stream",
     "text": [
      "The size of tensor a (87) must match the size of tensor b (77) at non-singleton dimension 1\n"
     ]
    },
    {
     "name": "stderr",
     "output_type": "stream",
     "text": [
      "  4%|█▉                                            | 60/1431 [00:09<03:21,  6.80it/s]"
     ]
    },
    {
     "name": "stdout",
     "output_type": "stream",
     "text": [
      "The size of tensor a (110) must match the size of tensor b (77) at non-singleton dimension 1\n"
     ]
    },
    {
     "name": "stderr",
     "output_type": "stream",
     "text": [
      "  5%|██▎                                           | 70/1431 [00:11<03:22,  6.73it/s]"
     ]
    },
    {
     "name": "stdout",
     "output_type": "stream",
     "text": [
      "The size of tensor a (92) must match the size of tensor b (77) at non-singleton dimension 1\n"
     ]
    },
    {
     "name": "stderr",
     "output_type": "stream",
     "text": [
      "  5%|██▍                                           | 77/1431 [00:12<03:20,  6.75it/s]"
     ]
    },
    {
     "name": "stdout",
     "output_type": "stream",
     "text": [
      "The size of tensor a (78) must match the size of tensor b (77) at non-singleton dimension 1\n"
     ]
    },
    {
     "name": "stderr",
     "output_type": "stream",
     "text": [
      "  6%|██▋                                           | 84/1431 [00:13<03:20,  6.72it/s]"
     ]
    },
    {
     "name": "stdout",
     "output_type": "stream",
     "text": [
      "The size of tensor a (99) must match the size of tensor b (77) at non-singleton dimension 1\n"
     ]
    },
    {
     "name": "stderr",
     "output_type": "stream",
     "text": [
      "  6%|██▊                                           | 89/1431 [00:14<03:17,  6.80it/s]"
     ]
    },
    {
     "name": "stdout",
     "output_type": "stream",
     "text": [
      "The size of tensor a (78) must match the size of tensor b (77) at non-singleton dimension 1\n"
     ]
    },
    {
     "name": "stderr",
     "output_type": "stream",
     "text": [
      " 11%|█████                                        | 159/1431 [00:25<02:51,  7.41it/s]"
     ]
    },
    {
     "name": "stdout",
     "output_type": "stream",
     "text": [
      "The size of tensor a (98) must match the size of tensor b (77) at non-singleton dimension 1\n",
      "The size of tensor a (88) must match the size of tensor b (77) at non-singleton dimension 1\n"
     ]
    },
    {
     "name": "stderr",
     "output_type": "stream",
     "text": [
      " 11%|█████                                        | 162/1431 [00:26<02:56,  7.18it/s]"
     ]
    },
    {
     "name": "stdout",
     "output_type": "stream",
     "text": [
      "The size of tensor a (120) must match the size of tensor b (77) at non-singleton dimension 1\n"
     ]
    },
    {
     "name": "stderr",
     "output_type": "stream",
     "text": [
      " 12%|█████▏                                       | 166/1431 [00:26<03:03,  6.89it/s]"
     ]
    },
    {
     "name": "stdout",
     "output_type": "stream",
     "text": [
      "The size of tensor a (114) must match the size of tensor b (77) at non-singleton dimension 1\n"
     ]
    },
    {
     "name": "stderr",
     "output_type": "stream",
     "text": [
      " 12%|█████▍                                       | 173/1431 [00:27<03:08,  6.68it/s]"
     ]
    },
    {
     "name": "stdout",
     "output_type": "stream",
     "text": [
      "The size of tensor a (96) must match the size of tensor b (77) at non-singleton dimension 1\n"
     ]
    },
    {
     "name": "stderr",
     "output_type": "stream",
     "text": [
      " 12%|█████▌                                       | 176/1431 [00:28<03:02,  6.87it/s]"
     ]
    },
    {
     "name": "stdout",
     "output_type": "stream",
     "text": [
      "The size of tensor a (101) must match the size of tensor b (77) at non-singleton dimension 1\n"
     ]
    },
    {
     "name": "stderr",
     "output_type": "stream",
     "text": [
      "\r",
      " 12%|█████▌                                       | 178/1431 [00:28<02:56,  7.11it/s]"
     ]
    },
    {
     "name": "stdout",
     "output_type": "stream",
     "text": [
      "The size of tensor a (94) must match the size of tensor b (77) at non-singleton dimension 1\n"
     ]
    },
    {
     "name": "stderr",
     "output_type": "stream",
     "text": [
      " 13%|█████▊                                       | 185/1431 [00:29<03:05,  6.73it/s]"
     ]
    },
    {
     "name": "stdout",
     "output_type": "stream",
     "text": [
      "The size of tensor a (114) must match the size of tensor b (77) at non-singleton dimension 1\n"
     ]
    },
    {
     "name": "stderr",
     "output_type": "stream",
     "text": [
      " 13%|█████▉                                       | 188/1431 [00:30<03:00,  6.88it/s]"
     ]
    },
    {
     "name": "stdout",
     "output_type": "stream",
     "text": [
      "The size of tensor a (89) must match the size of tensor b (77) at non-singleton dimension 1\n"
     ]
    },
    {
     "name": "stderr",
     "output_type": "stream",
     "text": [
      " 14%|██████▎                                      | 202/1431 [00:32<03:05,  6.62it/s]"
     ]
    },
    {
     "name": "stdout",
     "output_type": "stream",
     "text": [
      "The size of tensor a (91) must match the size of tensor b (77) at non-singleton dimension 1\n"
     ]
    },
    {
     "name": "stderr",
     "output_type": "stream",
     "text": [
      "\r",
      " 14%|██████▍                                      | 204/1431 [00:32<02:55,  6.98it/s]"
     ]
    },
    {
     "name": "stdout",
     "output_type": "stream",
     "text": [
      "The size of tensor a (101) must match the size of tensor b (77) at non-singleton dimension 1\n"
     ]
    },
    {
     "name": "stderr",
     "output_type": "stream",
     "text": [
      " 15%|██████▌                                      | 208/1431 [00:33<02:57,  6.88it/s]"
     ]
    },
    {
     "name": "stdout",
     "output_type": "stream",
     "text": [
      "The size of tensor a (89) must match the size of tensor b (77) at non-singleton dimension 1\n"
     ]
    },
    {
     "name": "stderr",
     "output_type": "stream",
     "text": [
      " 15%|██████▋                                      | 214/1431 [00:34<03:02,  6.69it/s]"
     ]
    },
    {
     "name": "stdout",
     "output_type": "stream",
     "text": [
      "The size of tensor a (109) must match the size of tensor b (77) at non-singleton dimension 1\n"
     ]
    },
    {
     "name": "stderr",
     "output_type": "stream",
     "text": [
      " 15%|██████▊                                      | 217/1431 [00:34<02:56,  6.87it/s]"
     ]
    },
    {
     "name": "stdout",
     "output_type": "stream",
     "text": [
      "The size of tensor a (81) must match the size of tensor b (77) at non-singleton dimension 1\n"
     ]
    },
    {
     "name": "stderr",
     "output_type": "stream",
     "text": [
      " 15%|██████▉                                      | 220/1431 [00:35<02:53,  6.97it/s]"
     ]
    },
    {
     "name": "stdout",
     "output_type": "stream",
     "text": [
      "The size of tensor a (86) must match the size of tensor b (77) at non-singleton dimension 1\n"
     ]
    },
    {
     "name": "stderr",
     "output_type": "stream",
     "text": [
      " 16%|███████▏                                     | 227/1431 [00:36<03:00,  6.67it/s]"
     ]
    },
    {
     "name": "stdout",
     "output_type": "stream",
     "text": [
      "The size of tensor a (175) must match the size of tensor b (77) at non-singleton dimension 1\n"
     ]
    },
    {
     "name": "stderr",
     "output_type": "stream",
     "text": [
      " 17%|███████▊                                     | 248/1431 [00:39<03:00,  6.54it/s]"
     ]
    },
    {
     "name": "stdout",
     "output_type": "stream",
     "text": [
      "The size of tensor a (93) must match the size of tensor b (77) at non-singleton dimension 1\n"
     ]
    },
    {
     "name": "stderr",
     "output_type": "stream",
     "text": [
      " 18%|███████▉                                     | 253/1431 [00:40<02:55,  6.70it/s]"
     ]
    },
    {
     "name": "stdout",
     "output_type": "stream",
     "text": [
      "The size of tensor a (78) must match the size of tensor b (77) at non-singleton dimension 1\n"
     ]
    },
    {
     "name": "stderr",
     "output_type": "stream",
     "text": [
      " 18%|████████                                     | 257/1431 [00:41<02:52,  6.79it/s]"
     ]
    },
    {
     "name": "stdout",
     "output_type": "stream",
     "text": [
      "The size of tensor a (101) must match the size of tensor b (77) at non-singleton dimension 1\n"
     ]
    },
    {
     "name": "stderr",
     "output_type": "stream",
     "text": [
      " 19%|████████▌                                    | 272/1431 [00:43<02:56,  6.56it/s]"
     ]
    },
    {
     "name": "stdout",
     "output_type": "stream",
     "text": [
      "The size of tensor a (100) must match the size of tensor b (77) at non-singleton dimension 1\n"
     ]
    },
    {
     "name": "stderr",
     "output_type": "stream",
     "text": [
      " 19%|████████▋                                    | 278/1431 [00:44<02:52,  6.69it/s]"
     ]
    },
    {
     "name": "stdout",
     "output_type": "stream",
     "text": [
      "The size of tensor a (83) must match the size of tensor b (77) at non-singleton dimension 1\n"
     ]
    },
    {
     "name": "stderr",
     "output_type": "stream",
     "text": [
      " 20%|█████████▏                                   | 291/1431 [00:46<02:53,  6.58it/s]"
     ]
    },
    {
     "name": "stdout",
     "output_type": "stream",
     "text": [
      "The size of tensor a (80) must match the size of tensor b (77) at non-singleton dimension 1\n"
     ]
    },
    {
     "name": "stderr",
     "output_type": "stream",
     "text": [
      " 21%|█████████▍                                   | 300/1431 [00:48<02:51,  6.58it/s]"
     ]
    },
    {
     "name": "stdout",
     "output_type": "stream",
     "text": [
      "The size of tensor a (84) must match the size of tensor b (77) at non-singleton dimension 1\n"
     ]
    },
    {
     "name": "stderr",
     "output_type": "stream",
     "text": [
      " 21%|█████████▌                                   | 305/1431 [00:48<02:29,  7.51it/s]"
     ]
    },
    {
     "name": "stdout",
     "output_type": "stream",
     "text": [
      "The size of tensor a (132) must match the size of tensor b (77) at non-singleton dimension 1\n",
      "The size of tensor a (87) must match the size of tensor b (77) at non-singleton dimension 1\n"
     ]
    },
    {
     "name": "stderr",
     "output_type": "stream",
     "text": [
      " 22%|█████████▉                                   | 315/1431 [00:50<02:49,  6.60it/s]"
     ]
    },
    {
     "name": "stdout",
     "output_type": "stream",
     "text": [
      "The size of tensor a (84) must match the size of tensor b (77) at non-singleton dimension 1\n"
     ]
    },
    {
     "name": "stderr",
     "output_type": "stream",
     "text": [
      " 23%|██████████▏                                  | 322/1431 [00:51<02:46,  6.66it/s]"
     ]
    },
    {
     "name": "stdout",
     "output_type": "stream",
     "text": [
      "The size of tensor a (83) must match the size of tensor b (77) at non-singleton dimension 1\n"
     ]
    },
    {
     "name": "stderr",
     "output_type": "stream",
     "text": [
      " 23%|██████████▏                                  | 325/1431 [00:52<02:40,  6.88it/s]"
     ]
    },
    {
     "name": "stdout",
     "output_type": "stream",
     "text": [
      "The size of tensor a (92) must match the size of tensor b (77) at non-singleton dimension 1\n"
     ]
    },
    {
     "name": "stderr",
     "output_type": "stream",
     "text": [
      " 24%|██████████▉                                  | 347/1431 [00:55<02:45,  6.56it/s]"
     ]
    },
    {
     "name": "stdout",
     "output_type": "stream",
     "text": [
      "The size of tensor a (82) must match the size of tensor b (77) at non-singleton dimension 1\n"
     ]
    },
    {
     "name": "stderr",
     "output_type": "stream",
     "text": [
      " 25%|███████████                                  | 351/1431 [00:56<02:23,  7.53it/s]"
     ]
    },
    {
     "name": "stdout",
     "output_type": "stream",
     "text": [
      "The size of tensor a (78) must match the size of tensor b (77) at non-singleton dimension 1\n",
      "The size of tensor a (94) must match the size of tensor b (77) at non-singleton dimension 1\n"
     ]
    },
    {
     "name": "stderr",
     "output_type": "stream",
     "text": [
      " 25%|███████████▍                                 | 362/1431 [00:57<02:41,  6.64it/s]"
     ]
    },
    {
     "name": "stdout",
     "output_type": "stream",
     "text": [
      "The size of tensor a (83) must match the size of tensor b (77) at non-singleton dimension 1\n"
     ]
    },
    {
     "name": "stderr",
     "output_type": "stream",
     "text": [
      " 26%|███████████▍                                 | 365/1431 [00:58<02:18,  7.69it/s]"
     ]
    },
    {
     "name": "stdout",
     "output_type": "stream",
     "text": [
      "The size of tensor a (84) must match the size of tensor b (77) at non-singleton dimension 1\n",
      "The size of tensor a (80) must match the size of tensor b (77) at non-singleton dimension 1\n",
      "The size of tensor a (145) must match the size of tensor b (77) at non-singleton dimension 1\n"
     ]
    },
    {
     "name": "stderr",
     "output_type": "stream",
     "text": [
      " 26%|███████████▌                                 | 369/1431 [00:58<02:19,  7.60it/s]"
     ]
    },
    {
     "name": "stdout",
     "output_type": "stream",
     "text": [
      "The size of tensor a (125) must match the size of tensor b (77) at non-singleton dimension 1\n"
     ]
    },
    {
     "name": "stderr",
     "output_type": "stream",
     "text": [
      " 26%|███████████▊                                 | 376/1431 [00:59<02:36,  6.74it/s]"
     ]
    },
    {
     "name": "stdout",
     "output_type": "stream",
     "text": [
      "The size of tensor a (92) must match the size of tensor b (77) at non-singleton dimension 1\n"
     ]
    },
    {
     "name": "stderr",
     "output_type": "stream",
     "text": [
      " 27%|████████████▏                                | 387/1431 [01:01<02:39,  6.57it/s]"
     ]
    },
    {
     "name": "stdout",
     "output_type": "stream",
     "text": [
      "The size of tensor a (79) must match the size of tensor b (77) at non-singleton dimension 1\n"
     ]
    },
    {
     "name": "stderr",
     "output_type": "stream",
     "text": [
      " 27%|████████████▎                                | 391/1431 [01:02<02:34,  6.74it/s]"
     ]
    },
    {
     "name": "stdout",
     "output_type": "stream",
     "text": [
      "The size of tensor a (86) must match the size of tensor b (77) at non-singleton dimension 1\n"
     ]
    },
    {
     "name": "stderr",
     "output_type": "stream",
     "text": [
      " 28%|████████████▌                                | 401/1431 [01:04<02:35,  6.60it/s]"
     ]
    },
    {
     "name": "stdout",
     "output_type": "stream",
     "text": [
      "The size of tensor a (123) must match the size of tensor b (77) at non-singleton dimension 1\n"
     ]
    },
    {
     "name": "stderr",
     "output_type": "stream",
     "text": [
      " 29%|█████████████                                | 414/1431 [01:06<02:37,  6.47it/s]"
     ]
    },
    {
     "name": "stdout",
     "output_type": "stream",
     "text": [
      "The size of tensor a (78) must match the size of tensor b (77) at non-singleton dimension 1\n"
     ]
    },
    {
     "name": "stderr",
     "output_type": "stream",
     "text": [
      " 30%|█████████████▎                               | 424/1431 [01:07<02:32,  6.59it/s]"
     ]
    },
    {
     "name": "stdout",
     "output_type": "stream",
     "text": [
      "The size of tensor a (114) must match the size of tensor b (77) at non-singleton dimension 1\n"
     ]
    },
    {
     "name": "stderr",
     "output_type": "stream",
     "text": [
      " 30%|█████████████▍                               | 429/1431 [01:08<02:28,  6.74it/s]"
     ]
    },
    {
     "name": "stdout",
     "output_type": "stream",
     "text": [
      "The size of tensor a (88) must match the size of tensor b (77) at non-singleton dimension 1\n"
     ]
    },
    {
     "name": "stderr",
     "output_type": "stream",
     "text": [
      " 31%|█████████████▉                               | 445/1431 [01:11<02:28,  6.65it/s]"
     ]
    },
    {
     "name": "stdout",
     "output_type": "stream",
     "text": [
      "The size of tensor a (95) must match the size of tensor b (77) at non-singleton dimension 1\n"
     ]
    },
    {
     "name": "stderr",
     "output_type": "stream",
     "text": [
      " 32%|██████████████▎                              | 455/1431 [01:12<02:27,  6.61it/s]"
     ]
    },
    {
     "name": "stdout",
     "output_type": "stream",
     "text": [
      "The size of tensor a (80) must match the size of tensor b (77) at non-singleton dimension 1\n"
     ]
    },
    {
     "name": "stderr",
     "output_type": "stream",
     "text": [
      " 32%|██████████████▍                              | 461/1431 [01:13<02:25,  6.66it/s]"
     ]
    },
    {
     "name": "stdout",
     "output_type": "stream",
     "text": [
      "The size of tensor a (82) must match the size of tensor b (77) at non-singleton dimension 1\n"
     ]
    },
    {
     "name": "stderr",
     "output_type": "stream",
     "text": [
      " 33%|██████████████▊                              | 473/1431 [01:15<02:26,  6.55it/s]"
     ]
    },
    {
     "name": "stdout",
     "output_type": "stream",
     "text": [
      "The size of tensor a (115) must match the size of tensor b (77) at non-singleton dimension 1\n"
     ]
    },
    {
     "name": "stderr",
     "output_type": "stream",
     "text": [
      " 33%|██████████████▉                              | 476/1431 [01:16<02:20,  6.79it/s]"
     ]
    },
    {
     "name": "stdout",
     "output_type": "stream",
     "text": [
      "The size of tensor a (111) must match the size of tensor b (77) at non-singleton dimension 1\n"
     ]
    },
    {
     "name": "stderr",
     "output_type": "stream",
     "text": [
      " 34%|███████████████▏                             | 484/1431 [01:17<02:22,  6.63it/s]"
     ]
    },
    {
     "name": "stdout",
     "output_type": "stream",
     "text": [
      "The size of tensor a (79) must match the size of tensor b (77) at non-singleton dimension 1\n"
     ]
    },
    {
     "name": "stderr",
     "output_type": "stream",
     "text": [
      " 35%|███████████████▌                             | 494/1431 [01:19<02:21,  6.61it/s]"
     ]
    },
    {
     "name": "stdout",
     "output_type": "stream",
     "text": [
      "The size of tensor a (89) must match the size of tensor b (77) at non-singleton dimension 1\n"
     ]
    },
    {
     "name": "stderr",
     "output_type": "stream",
     "text": [
      " 35%|███████████████▋                             | 497/1431 [01:19<02:16,  6.84it/s]"
     ]
    },
    {
     "name": "stdout",
     "output_type": "stream",
     "text": [
      "The size of tensor a (89) must match the size of tensor b (77) at non-singleton dimension 1\n"
     ]
    },
    {
     "name": "stderr",
     "output_type": "stream",
     "text": [
      " 35%|███████████████▊                             | 502/1431 [01:20<02:17,  6.77it/s]"
     ]
    },
    {
     "name": "stdout",
     "output_type": "stream",
     "text": [
      "The size of tensor a (96) must match the size of tensor b (77) at non-singleton dimension 1\n"
     ]
    },
    {
     "name": "stderr",
     "output_type": "stream",
     "text": [
      " 35%|███████████████▉                             | 505/1431 [01:20<02:13,  6.94it/s]"
     ]
    },
    {
     "name": "stdout",
     "output_type": "stream",
     "text": [
      "The size of tensor a (81) must match the size of tensor b (77) at non-singleton dimension 1\n"
     ]
    },
    {
     "name": "stderr",
     "output_type": "stream",
     "text": [
      " 36%|████████████████▎                            | 517/1431 [01:22<02:19,  6.53it/s]"
     ]
    },
    {
     "name": "stdout",
     "output_type": "stream",
     "text": [
      "The size of tensor a (82) must match the size of tensor b (77) at non-singleton dimension 1\n"
     ]
    },
    {
     "name": "stderr",
     "output_type": "stream",
     "text": [
      " 38%|█████████████████                            | 544/1431 [01:27<02:16,  6.48it/s]"
     ]
    },
    {
     "name": "stdout",
     "output_type": "stream",
     "text": [
      "The size of tensor a (85) must match the size of tensor b (77) at non-singleton dimension 1\n"
     ]
    },
    {
     "name": "stderr",
     "output_type": "stream",
     "text": [
      " 39%|█████████████████▎                           | 551/1431 [01:28<02:12,  6.65it/s]"
     ]
    },
    {
     "name": "stdout",
     "output_type": "stream",
     "text": [
      "The size of tensor a (127) must match the size of tensor b (77) at non-singleton dimension 1\n"
     ]
    },
    {
     "name": "stderr",
     "output_type": "stream",
     "text": [
      " 40%|█████████████████▊                           | 567/1431 [01:30<02:12,  6.54it/s]"
     ]
    },
    {
     "name": "stdout",
     "output_type": "stream",
     "text": [
      "The size of tensor a (94) must match the size of tensor b (77) at non-singleton dimension 1\n"
     ]
    },
    {
     "name": "stderr",
     "output_type": "stream",
     "text": [
      " 41%|██████████████████▎                          | 584/1431 [01:33<02:09,  6.52it/s]"
     ]
    },
    {
     "name": "stdout",
     "output_type": "stream",
     "text": [
      "The size of tensor a (128) must match the size of tensor b (77) at non-singleton dimension 1\n"
     ]
    },
    {
     "name": "stderr",
     "output_type": "stream",
     "text": [
      " 42%|██████████████████▊                          | 599/1431 [01:36<02:07,  6.53it/s]"
     ]
    },
    {
     "name": "stdout",
     "output_type": "stream",
     "text": [
      "The size of tensor a (113) must match the size of tensor b (77) at non-singleton dimension 1\n"
     ]
    },
    {
     "name": "stderr",
     "output_type": "stream",
     "text": [
      " 42%|██████████████████▉                          | 602/1431 [01:36<02:01,  6.81it/s]"
     ]
    },
    {
     "name": "stdout",
     "output_type": "stream",
     "text": [
      "The size of tensor a (85) must match the size of tensor b (77) at non-singleton dimension 1\n"
     ]
    },
    {
     "name": "stderr",
     "output_type": "stream",
     "text": [
      " 43%|███████████████████▍                         | 619/1431 [01:39<02:08,  6.34it/s]"
     ]
    },
    {
     "name": "stdout",
     "output_type": "stream",
     "text": [
      "The size of tensor a (84) must match the size of tensor b (77) at non-singleton dimension 1\n"
     ]
    },
    {
     "name": "stderr",
     "output_type": "stream",
     "text": [
      " 44%|███████████████████▉                         | 633/1431 [01:41<02:02,  6.50it/s]"
     ]
    },
    {
     "name": "stdout",
     "output_type": "stream",
     "text": [
      "The size of tensor a (79) must match the size of tensor b (77) at non-singleton dimension 1\n"
     ]
    },
    {
     "name": "stderr",
     "output_type": "stream",
     "text": [
      " 45%|████████████████████▎                        | 644/1431 [01:43<02:00,  6.53it/s]"
     ]
    },
    {
     "name": "stdout",
     "output_type": "stream",
     "text": [
      "The size of tensor a (137) must match the size of tensor b (77) at non-singleton dimension 1\n"
     ]
    },
    {
     "name": "stderr",
     "output_type": "stream",
     "text": [
      " 46%|████████████████████▋                        | 657/1431 [01:45<01:57,  6.59it/s]"
     ]
    },
    {
     "name": "stdout",
     "output_type": "stream",
     "text": [
      "The size of tensor a (83) must match the size of tensor b (77) at non-singleton dimension 1\n"
     ]
    },
    {
     "name": "stderr",
     "output_type": "stream",
     "text": [
      " 46%|████████████████████▊                        | 660/1431 [01:46<01:52,  6.85it/s]"
     ]
    },
    {
     "name": "stdout",
     "output_type": "stream",
     "text": [
      "The size of tensor a (115) must match the size of tensor b (77) at non-singleton dimension 1\n"
     ]
    },
    {
     "name": "stderr",
     "output_type": "stream",
     "text": [
      " 48%|█████████████████████▍                       | 681/1431 [01:49<01:54,  6.55it/s]"
     ]
    },
    {
     "name": "stdout",
     "output_type": "stream",
     "text": [
      "The size of tensor a (80) must match the size of tensor b (77) at non-singleton dimension 1\n"
     ]
    },
    {
     "name": "stderr",
     "output_type": "stream",
     "text": [
      " 48%|█████████████████████▌                       | 686/1431 [01:50<01:52,  6.64it/s]"
     ]
    },
    {
     "name": "stdout",
     "output_type": "stream",
     "text": [
      "The size of tensor a (80) must match the size of tensor b (77) at non-singleton dimension 1\n"
     ]
    },
    {
     "name": "stderr",
     "output_type": "stream",
     "text": [
      " 48%|█████████████████████▋                       | 690/1431 [01:51<01:48,  6.83it/s]"
     ]
    },
    {
     "name": "stdout",
     "output_type": "stream",
     "text": [
      "The size of tensor a (78) must match the size of tensor b (77) at non-singleton dimension 1\n"
     ]
    },
    {
     "name": "stderr",
     "output_type": "stream",
     "text": [
      " 49%|█████████████████████▉                       | 698/1431 [01:52<01:52,  6.54it/s]"
     ]
    },
    {
     "name": "stdout",
     "output_type": "stream",
     "text": [
      "The size of tensor a (108) must match the size of tensor b (77) at non-singleton dimension 1\n"
     ]
    },
    {
     "name": "stderr",
     "output_type": "stream",
     "text": [
      " 49%|██████████████████████                       | 703/1431 [01:53<01:49,  6.64it/s]"
     ]
    },
    {
     "name": "stdout",
     "output_type": "stream",
     "text": [
      "The size of tensor a (78) must match the size of tensor b (77) at non-singleton dimension 1\n"
     ]
    },
    {
     "name": "stderr",
     "output_type": "stream",
     "text": [
      " 50%|██████████████████████▎                      | 709/1431 [01:54<01:49,  6.60it/s]"
     ]
    },
    {
     "name": "stdout",
     "output_type": "stream",
     "text": [
      "The size of tensor a (121) must match the size of tensor b (77) at non-singleton dimension 1\n"
     ]
    },
    {
     "name": "stderr",
     "output_type": "stream",
     "text": [
      " 51%|██████████████████████▋                      | 723/1431 [01:56<01:49,  6.44it/s]"
     ]
    },
    {
     "name": "stdout",
     "output_type": "stream",
     "text": [
      "The size of tensor a (100) must match the size of tensor b (77) at non-singleton dimension 1\n"
     ]
    },
    {
     "name": "stderr",
     "output_type": "stream",
     "text": [
      " 52%|███████████████████████▏                     | 738/1431 [01:59<01:47,  6.44it/s]"
     ]
    },
    {
     "name": "stdout",
     "output_type": "stream",
     "text": [
      "The size of tensor a (80) must match the size of tensor b (77) at non-singleton dimension 1\n"
     ]
    },
    {
     "name": "stderr",
     "output_type": "stream",
     "text": [
      "\r",
      " 52%|███████████████████████▏                     | 739/1431 [01:59<01:38,  7.06it/s]"
     ]
    },
    {
     "name": "stdout",
     "output_type": "stream",
     "text": [
      "The size of tensor a (79) must match the size of tensor b (77) at non-singleton dimension 1\n",
      "The size of tensor a (125) must match the size of tensor b (77) at non-singleton dimension 1\n"
     ]
    },
    {
     "name": "stderr",
     "output_type": "stream",
     "text": [
      " 52%|███████████████████████▎                     | 743/1431 [01:59<01:33,  7.37it/s]"
     ]
    },
    {
     "name": "stdout",
     "output_type": "stream",
     "text": [
      "The size of tensor a (89) must match the size of tensor b (77) at non-singleton dimension 1\n"
     ]
    },
    {
     "name": "stderr",
     "output_type": "stream",
     "text": [
      " 53%|███████████████████████▊                     | 759/1431 [02:02<01:41,  6.59it/s]"
     ]
    },
    {
     "name": "stdout",
     "output_type": "stream",
     "text": [
      "The size of tensor a (101) must match the size of tensor b (77) at non-singleton dimension 1\n"
     ]
    },
    {
     "name": "stderr",
     "output_type": "stream",
     "text": [
      " 54%|████████████████████████                     | 767/1431 [02:03<01:42,  6.47it/s]"
     ]
    },
    {
     "name": "stdout",
     "output_type": "stream",
     "text": [
      "The size of tensor a (88) must match the size of tensor b (77) at non-singleton dimension 1\n"
     ]
    },
    {
     "name": "stderr",
     "output_type": "stream",
     "text": [
      " 54%|████████████████████████▎                    | 773/1431 [02:04<01:39,  6.58it/s]"
     ]
    },
    {
     "name": "stdout",
     "output_type": "stream",
     "text": [
      "The size of tensor a (174) must match the size of tensor b (77) at non-singleton dimension 1\n"
     ]
    },
    {
     "name": "stderr",
     "output_type": "stream",
     "text": [
      " 55%|████████████████████████▌                    | 781/1431 [02:05<01:38,  6.58it/s]"
     ]
    },
    {
     "name": "stdout",
     "output_type": "stream",
     "text": [
      "The size of tensor a (104) must match the size of tensor b (77) at non-singleton dimension 1\n"
     ]
    },
    {
     "name": "stderr",
     "output_type": "stream",
     "text": [
      " 55%|████████████████████████▋                    | 785/1431 [02:06<01:37,  6.64it/s]"
     ]
    },
    {
     "name": "stdout",
     "output_type": "stream",
     "text": [
      "The size of tensor a (80) must match the size of tensor b (77) at non-singleton dimension 1\n"
     ]
    },
    {
     "name": "stderr",
     "output_type": "stream",
     "text": [
      "\r",
      " 55%|████████████████████████▋                    | 787/1431 [02:06<01:32,  6.94it/s]"
     ]
    },
    {
     "name": "stdout",
     "output_type": "stream",
     "text": [
      "The size of tensor a (130) must match the size of tensor b (77) at non-singleton dimension 1\n"
     ]
    },
    {
     "name": "stderr",
     "output_type": "stream",
     "text": [
      " 55%|████████████████████████▊                    | 791/1431 [02:07<01:32,  6.92it/s]"
     ]
    },
    {
     "name": "stdout",
     "output_type": "stream",
     "text": [
      "The size of tensor a (83) must match the size of tensor b (77) at non-singleton dimension 1\n"
     ]
    },
    {
     "name": "stderr",
     "output_type": "stream",
     "text": [
      " 56%|█████████████████████████                    | 798/1431 [02:08<01:35,  6.66it/s]"
     ]
    },
    {
     "name": "stdout",
     "output_type": "stream",
     "text": [
      "The size of tensor a (92) must match the size of tensor b (77) at non-singleton dimension 1\n"
     ]
    },
    {
     "name": "stderr",
     "output_type": "stream",
     "text": [
      " 56%|█████████████████████████▎                   | 805/1431 [02:09<01:23,  7.49it/s]"
     ]
    },
    {
     "name": "stdout",
     "output_type": "stream",
     "text": [
      "The size of tensor a (155) must match the size of tensor b (77) at non-singleton dimension 1\n",
      "The size of tensor a (104) must match the size of tensor b (77) at non-singleton dimension 1\n"
     ]
    },
    {
     "name": "stderr",
     "output_type": "stream",
     "text": [
      " 57%|█████████████████████████▍                   | 809/1431 [02:10<01:29,  6.99it/s]"
     ]
    },
    {
     "name": "stdout",
     "output_type": "stream",
     "text": [
      "The size of tensor a (79) must match the size of tensor b (77) at non-singleton dimension 1\n"
     ]
    },
    {
     "name": "stderr",
     "output_type": "stream",
     "text": [
      "\r",
      " 57%|█████████████████████████▌                   | 811/1431 [02:10<01:26,  7.21it/s]"
     ]
    },
    {
     "name": "stdout",
     "output_type": "stream",
     "text": [
      "The size of tensor a (83) must match the size of tensor b (77) at non-singleton dimension 1\n"
     ]
    },
    {
     "name": "stderr",
     "output_type": "stream",
     "text": [
      " 57%|█████████████████████████▋                   | 815/1431 [02:10<01:28,  6.97it/s]"
     ]
    },
    {
     "name": "stdout",
     "output_type": "stream",
     "text": [
      "The size of tensor a (81) must match the size of tensor b (77) at non-singleton dimension 1\n"
     ]
    },
    {
     "name": "stderr",
     "output_type": "stream",
     "text": [
      " 57%|█████████████████████████▊                   | 821/1431 [02:11<01:30,  6.76it/s]"
     ]
    },
    {
     "name": "stdout",
     "output_type": "stream",
     "text": [
      "The size of tensor a (78) must match the size of tensor b (77) at non-singleton dimension 1\n"
     ]
    },
    {
     "name": "stderr",
     "output_type": "stream",
     "text": [
      " 58%|██████████████████████████                   | 828/1431 [02:12<01:31,  6.59it/s]"
     ]
    },
    {
     "name": "stdout",
     "output_type": "stream",
     "text": [
      "The size of tensor a (81) must match the size of tensor b (77) at non-singleton dimension 1\n"
     ]
    },
    {
     "name": "stderr",
     "output_type": "stream",
     "text": [
      " 58%|██████████████████████████▏                  | 834/1431 [02:13<01:29,  6.68it/s]"
     ]
    },
    {
     "name": "stdout",
     "output_type": "stream",
     "text": [
      "The size of tensor a (80) must match the size of tensor b (77) at non-singleton dimension 1\n"
     ]
    },
    {
     "name": "stderr",
     "output_type": "stream",
     "text": [
      " 59%|██████████████████████████▌                  | 846/1431 [02:15<01:29,  6.54it/s]"
     ]
    },
    {
     "name": "stdout",
     "output_type": "stream",
     "text": [
      "The size of tensor a (81) must match the size of tensor b (77) at non-singleton dimension 1\n"
     ]
    },
    {
     "name": "stderr",
     "output_type": "stream",
     "text": [
      " 61%|███████████████████████████▎                 | 867/1431 [02:19<01:27,  6.47it/s]"
     ]
    },
    {
     "name": "stdout",
     "output_type": "stream",
     "text": [
      "The size of tensor a (88) must match the size of tensor b (77) at non-singleton dimension 1\n"
     ]
    },
    {
     "name": "stderr",
     "output_type": "stream",
     "text": [
      " 62%|███████████████████████████▋                 | 882/1431 [02:21<01:23,  6.55it/s]"
     ]
    },
    {
     "name": "stdout",
     "output_type": "stream",
     "text": [
      "The size of tensor a (97) must match the size of tensor b (77) at non-singleton dimension 1\n"
     ]
    },
    {
     "name": "stderr",
     "output_type": "stream",
     "text": [
      " 62%|███████████████████████████▉                 | 888/1431 [02:22<01:21,  6.65it/s]"
     ]
    },
    {
     "name": "stdout",
     "output_type": "stream",
     "text": [
      "The size of tensor a (99) must match the size of tensor b (77) at non-singleton dimension 1\n"
     ]
    },
    {
     "name": "stderr",
     "output_type": "stream",
     "text": [
      " 62%|████████████████████████████                 | 894/1431 [02:23<01:20,  6.69it/s]"
     ]
    },
    {
     "name": "stdout",
     "output_type": "stream",
     "text": [
      "The size of tensor a (97) must match the size of tensor b (77) at non-singleton dimension 1\n"
     ]
    },
    {
     "name": "stderr",
     "output_type": "stream",
     "text": [
      " 63%|████████████████████████████▍                | 905/1431 [02:25<01:19,  6.61it/s]"
     ]
    },
    {
     "name": "stdout",
     "output_type": "stream",
     "text": [
      "The size of tensor a (102) must match the size of tensor b (77) at non-singleton dimension 1\n"
     ]
    },
    {
     "name": "stderr",
     "output_type": "stream",
     "text": [
      " 63%|████████████████████████████▌                | 908/1431 [02:26<01:16,  6.81it/s]"
     ]
    },
    {
     "name": "stdout",
     "output_type": "stream",
     "text": [
      "The size of tensor a (96) must match the size of tensor b (77) at non-singleton dimension 1\n"
     ]
    },
    {
     "name": "stderr",
     "output_type": "stream",
     "text": [
      " 64%|████████████████████████████▊                | 915/1431 [02:27<01:17,  6.65it/s]"
     ]
    },
    {
     "name": "stdout",
     "output_type": "stream",
     "text": [
      "The size of tensor a (114) must match the size of tensor b (77) at non-singleton dimension 1\n"
     ]
    },
    {
     "name": "stderr",
     "output_type": "stream",
     "text": [
      " 65%|█████████████████████████████                | 925/1431 [02:28<01:16,  6.58it/s]"
     ]
    },
    {
     "name": "stdout",
     "output_type": "stream",
     "text": [
      "The size of tensor a (80) must match the size of tensor b (77) at non-singleton dimension 1\n"
     ]
    },
    {
     "name": "stderr",
     "output_type": "stream",
     "text": [
      " 65%|█████████████████████████████▏               | 930/1431 [02:29<01:15,  6.65it/s]"
     ]
    },
    {
     "name": "stdout",
     "output_type": "stream",
     "text": [
      "The size of tensor a (137) must match the size of tensor b (77) at non-singleton dimension 1\n"
     ]
    },
    {
     "name": "stderr",
     "output_type": "stream",
     "text": [
      " 65%|█████████████████████████████▎               | 934/1431 [02:30<01:13,  6.76it/s]"
     ]
    },
    {
     "name": "stdout",
     "output_type": "stream",
     "text": [
      "The size of tensor a (79) must match the size of tensor b (77) at non-singleton dimension 1\n"
     ]
    },
    {
     "name": "stderr",
     "output_type": "stream",
     "text": [
      " 66%|█████████████████████████████▌               | 941/1431 [02:31<01:14,  6.62it/s]"
     ]
    },
    {
     "name": "stdout",
     "output_type": "stream",
     "text": [
      "The size of tensor a (79) must match the size of tensor b (77) at non-singleton dimension 1\n"
     ]
    },
    {
     "name": "stderr",
     "output_type": "stream",
     "text": [
      "\r",
      " 66%|█████████████████████████████▋               | 943/1431 [02:31<01:10,  6.96it/s]"
     ]
    },
    {
     "name": "stdout",
     "output_type": "stream",
     "text": [
      "The size of tensor a (83) must match the size of tensor b (77) at non-singleton dimension 1\n"
     ]
    },
    {
     "name": "stderr",
     "output_type": "stream",
     "text": [
      " 67%|██████████████████████████████               | 955/1431 [02:33<01:04,  7.43it/s]"
     ]
    },
    {
     "name": "stdout",
     "output_type": "stream",
     "text": [
      "The size of tensor a (89) must match the size of tensor b (77) at non-singleton dimension 1\n",
      "The size of tensor a (144) must match the size of tensor b (77) at non-singleton dimension 1\n"
     ]
    },
    {
     "name": "stderr",
     "output_type": "stream",
     "text": [
      " 67%|██████████████████████████████▏              | 958/1431 [02:33<00:58,  8.13it/s]"
     ]
    },
    {
     "name": "stdout",
     "output_type": "stream",
     "text": [
      "The size of tensor a (86) must match the size of tensor b (77) at non-singleton dimension 1\n",
      "The size of tensor a (78) must match the size of tensor b (77) at non-singleton dimension 1\n"
     ]
    },
    {
     "name": "stderr",
     "output_type": "stream",
     "text": [
      " 68%|██████████████████████████████▍              | 966/1431 [02:35<01:08,  6.75it/s]"
     ]
    },
    {
     "name": "stdout",
     "output_type": "stream",
     "text": [
      "The size of tensor a (93) must match the size of tensor b (77) at non-singleton dimension 1\n"
     ]
    },
    {
     "name": "stderr",
     "output_type": "stream",
     "text": [
      " 68%|██████████████████████████████▌              | 971/1431 [02:35<01:08,  6.75it/s]"
     ]
    },
    {
     "name": "stdout",
     "output_type": "stream",
     "text": [
      "The size of tensor a (78) must match the size of tensor b (77) at non-singleton dimension 1\n"
     ]
    },
    {
     "name": "stderr",
     "output_type": "stream",
     "text": [
      " 68%|██████████████████████████████▊              | 980/1431 [02:37<01:07,  6.64it/s]"
     ]
    },
    {
     "name": "stdout",
     "output_type": "stream",
     "text": [
      "The size of tensor a (96) must match the size of tensor b (77) at non-singleton dimension 1\n"
     ]
    },
    {
     "name": "stderr",
     "output_type": "stream",
     "text": [
      " 69%|███████████████████████████████▎             | 994/1431 [02:39<01:06,  6.59it/s]"
     ]
    },
    {
     "name": "stdout",
     "output_type": "stream",
     "text": [
      "The size of tensor a (80) must match the size of tensor b (77) at non-singleton dimension 1\n"
     ]
    },
    {
     "name": "stderr",
     "output_type": "stream",
     "text": [
      "\r",
      " 70%|███████████████████████████████▎             | 996/1431 [02:39<01:02,  6.96it/s]"
     ]
    },
    {
     "name": "stdout",
     "output_type": "stream",
     "text": [
      "The size of tensor a (86) must match the size of tensor b (77) at non-singleton dimension 1\n"
     ]
    },
    {
     "name": "stderr",
     "output_type": "stream",
     "text": [
      "\r",
      " 70%|███████████████████████████████▍             | 998/1431 [02:40<01:00,  7.16it/s]"
     ]
    },
    {
     "name": "stdout",
     "output_type": "stream",
     "text": [
      "The size of tensor a (153) must match the size of tensor b (77) at non-singleton dimension 1\n"
     ]
    },
    {
     "name": "stderr",
     "output_type": "stream",
     "text": [
      " 70%|██████████████████████████████▉             | 1008/1431 [02:41<01:03,  6.65it/s]"
     ]
    },
    {
     "name": "stdout",
     "output_type": "stream",
     "text": [
      "The size of tensor a (116) must match the size of tensor b (77) at non-singleton dimension 1\n"
     ]
    },
    {
     "name": "stderr",
     "output_type": "stream",
     "text": [
      " 72%|███████████████████████████████▉            | 1037/1431 [02:46<00:59,  6.61it/s]"
     ]
    },
    {
     "name": "stdout",
     "output_type": "stream",
     "text": [
      "The size of tensor a (83) must match the size of tensor b (77) at non-singleton dimension 1\n"
     ]
    },
    {
     "name": "stderr",
     "output_type": "stream",
     "text": [
      " 73%|████████████████████████████████▏           | 1048/1431 [02:48<00:57,  6.62it/s]"
     ]
    },
    {
     "name": "stdout",
     "output_type": "stream",
     "text": [
      "The size of tensor a (82) must match the size of tensor b (77) at non-singleton dimension 1\n"
     ]
    },
    {
     "name": "stderr",
     "output_type": "stream",
     "text": [
      " 74%|████████████████████████████████▍           | 1056/1431 [02:49<00:56,  6.60it/s]"
     ]
    },
    {
     "name": "stdout",
     "output_type": "stream",
     "text": [
      "The size of tensor a (81) must match the size of tensor b (77) at non-singleton dimension 1\n"
     ]
    },
    {
     "name": "stderr",
     "output_type": "stream",
     "text": [
      " 74%|████████████████████████████████▌           | 1060/1431 [02:50<00:56,  6.61it/s]"
     ]
    },
    {
     "name": "stdout",
     "output_type": "stream",
     "text": [
      "The size of tensor a (100) must match the size of tensor b (77) at non-singleton dimension 1\n"
     ]
    },
    {
     "name": "stderr",
     "output_type": "stream",
     "text": [
      " 75%|████████████████████████████████▊           | 1069/1431 [02:51<00:54,  6.61it/s]"
     ]
    },
    {
     "name": "stdout",
     "output_type": "stream",
     "text": [
      "The size of tensor a (89) must match the size of tensor b (77) at non-singleton dimension 1\n"
     ]
    },
    {
     "name": "stderr",
     "output_type": "stream",
     "text": [
      " 75%|█████████████████████████████████           | 1075/1431 [02:52<00:53,  6.68it/s]"
     ]
    },
    {
     "name": "stdout",
     "output_type": "stream",
     "text": [
      "The size of tensor a (85) must match the size of tensor b (77) at non-singleton dimension 1\n"
     ]
    },
    {
     "name": "stderr",
     "output_type": "stream",
     "text": [
      " 77%|█████████████████████████████████▊          | 1101/1431 [02:56<00:50,  6.54it/s]"
     ]
    },
    {
     "name": "stdout",
     "output_type": "stream",
     "text": [
      "The size of tensor a (110) must match the size of tensor b (77) at non-singleton dimension 1\n"
     ]
    },
    {
     "name": "stderr",
     "output_type": "stream",
     "text": [
      " 77%|█████████████████████████████████▉          | 1105/1431 [02:57<00:48,  6.73it/s]"
     ]
    },
    {
     "name": "stdout",
     "output_type": "stream",
     "text": [
      "The size of tensor a (91) must match the size of tensor b (77) at non-singleton dimension 1\n"
     ]
    },
    {
     "name": "stderr",
     "output_type": "stream",
     "text": [
      "\r",
      " 77%|██████████████████████████████████          | 1107/1431 [02:57<00:45,  7.06it/s]"
     ]
    },
    {
     "name": "stdout",
     "output_type": "stream",
     "text": [
      "The size of tensor a (79) must match the size of tensor b (77) at non-singleton dimension 1\n"
     ]
    },
    {
     "name": "stderr",
     "output_type": "stream",
     "text": [
      "\r",
      " 77%|██████████████████████████████████          | 1109/1431 [02:58<00:44,  7.21it/s]"
     ]
    },
    {
     "name": "stdout",
     "output_type": "stream",
     "text": [
      "The size of tensor a (94) must match the size of tensor b (77) at non-singleton dimension 1\n"
     ]
    },
    {
     "name": "stderr",
     "output_type": "stream",
     "text": [
      " 78%|██████████████████████████████████▎         | 1116/1431 [02:59<00:47,  6.70it/s]"
     ]
    },
    {
     "name": "stdout",
     "output_type": "stream",
     "text": [
      "The size of tensor a (107) must match the size of tensor b (77) at non-singleton dimension 1\n"
     ]
    },
    {
     "name": "stderr",
     "output_type": "stream",
     "text": [
      " 79%|██████████████████████████████████▋         | 1127/1431 [03:01<00:46,  6.56it/s]"
     ]
    },
    {
     "name": "stdout",
     "output_type": "stream",
     "text": [
      "The size of tensor a (104) must match the size of tensor b (77) at non-singleton dimension 1\n"
     ]
    },
    {
     "name": "stderr",
     "output_type": "stream",
     "text": [
      " 79%|██████████████████████████████████▊         | 1131/1431 [03:01<00:39,  7.58it/s]"
     ]
    },
    {
     "name": "stdout",
     "output_type": "stream",
     "text": [
      "The size of tensor a (82) must match the size of tensor b (77) at non-singleton dimension 1\n",
      "The size of tensor a (126) must match the size of tensor b (77) at non-singleton dimension 1\n"
     ]
    },
    {
     "name": "stderr",
     "output_type": "stream",
     "text": [
      " 79%|██████████████████████████████████▉         | 1137/1431 [03:02<00:43,  6.82it/s]"
     ]
    },
    {
     "name": "stdout",
     "output_type": "stream",
     "text": [
      "The size of tensor a (83) must match the size of tensor b (77) at non-singleton dimension 1\n"
     ]
    },
    {
     "name": "stderr",
     "output_type": "stream",
     "text": [
      " 80%|███████████████████████████████████         | 1140/1431 [03:02<00:41,  6.94it/s]"
     ]
    },
    {
     "name": "stdout",
     "output_type": "stream",
     "text": [
      "The size of tensor a (84) must match the size of tensor b (77) at non-singleton dimension 1\n"
     ]
    },
    {
     "name": "stderr",
     "output_type": "stream",
     "text": [
      " 82%|███████████████████████████████████▉        | 1169/1431 [03:07<00:35,  7.45it/s]"
     ]
    },
    {
     "name": "stdout",
     "output_type": "stream",
     "text": [
      "The size of tensor a (94) must match the size of tensor b (77) at non-singleton dimension 1\n",
      "The size of tensor a (79) must match the size of tensor b (77) at non-singleton dimension 1\n"
     ]
    },
    {
     "name": "stderr",
     "output_type": "stream",
     "text": [
      " 82%|████████████████████████████████████        | 1173/1431 [03:08<00:36,  7.04it/s]"
     ]
    },
    {
     "name": "stdout",
     "output_type": "stream",
     "text": [
      "The size of tensor a (91) must match the size of tensor b (77) at non-singleton dimension 1\n"
     ]
    },
    {
     "name": "stderr",
     "output_type": "stream",
     "text": [
      " 82%|████████████████████████████████████▏       | 1176/1431 [03:08<00:36,  7.06it/s]"
     ]
    },
    {
     "name": "stdout",
     "output_type": "stream",
     "text": [
      "The size of tensor a (80) must match the size of tensor b (77) at non-singleton dimension 1\n"
     ]
    },
    {
     "name": "stderr",
     "output_type": "stream",
     "text": [
      " 83%|████████████████████████████████████▍       | 1185/1431 [03:10<00:36,  6.65it/s]"
     ]
    },
    {
     "name": "stdout",
     "output_type": "stream",
     "text": [
      "The size of tensor a (85) must match the size of tensor b (77) at non-singleton dimension 1\n"
     ]
    },
    {
     "name": "stderr",
     "output_type": "stream",
     "text": [
      " 84%|█████████████████████████████████████▏      | 1208/1431 [03:13<00:33,  6.57it/s]"
     ]
    },
    {
     "name": "stdout",
     "output_type": "stream",
     "text": [
      "The size of tensor a (89) must match the size of tensor b (77) at non-singleton dimension 1\n"
     ]
    },
    {
     "name": "stderr",
     "output_type": "stream",
     "text": [
      " 85%|█████████████████████████████████████▍      | 1216/1431 [03:15<00:32,  6.57it/s]"
     ]
    },
    {
     "name": "stdout",
     "output_type": "stream",
     "text": [
      "The size of tensor a (78) must match the size of tensor b (77) at non-singleton dimension 1\n"
     ]
    },
    {
     "name": "stderr",
     "output_type": "stream",
     "text": [
      " 86%|█████████████████████████████████████▋      | 1227/1431 [03:17<00:31,  6.51it/s]"
     ]
    },
    {
     "name": "stdout",
     "output_type": "stream",
     "text": [
      "The size of tensor a (89) must match the size of tensor b (77) at non-singleton dimension 1\n"
     ]
    },
    {
     "name": "stderr",
     "output_type": "stream",
     "text": [
      " 86%|█████████████████████████████████████▉      | 1233/1431 [03:18<00:29,  6.65it/s]"
     ]
    },
    {
     "name": "stdout",
     "output_type": "stream",
     "text": [
      "The size of tensor a (108) must match the size of tensor b (77) at non-singleton dimension 1\n"
     ]
    },
    {
     "name": "stderr",
     "output_type": "stream",
     "text": [
      " 87%|██████████████████████████████████████      | 1238/1431 [03:18<00:28,  6.69it/s]"
     ]
    },
    {
     "name": "stdout",
     "output_type": "stream",
     "text": [
      "The size of tensor a (109) must match the size of tensor b (77) at non-singleton dimension 1\n"
     ]
    },
    {
     "name": "stderr",
     "output_type": "stream",
     "text": [
      " 87%|██████████████████████████████████████▏     | 1241/1431 [03:19<00:27,  6.89it/s]"
     ]
    },
    {
     "name": "stdout",
     "output_type": "stream",
     "text": [
      "The size of tensor a (78) must match the size of tensor b (77) at non-singleton dimension 1\n"
     ]
    },
    {
     "name": "stderr",
     "output_type": "stream",
     "text": [
      " 87%|██████████████████████████████████████▎     | 1246/1431 [03:19<00:24,  7.61it/s]"
     ]
    },
    {
     "name": "stdout",
     "output_type": "stream",
     "text": [
      "The size of tensor a (101) must match the size of tensor b (77) at non-singleton dimension 1\n",
      "The size of tensor a (102) must match the size of tensor b (77) at non-singleton dimension 1\n"
     ]
    },
    {
     "name": "stderr",
     "output_type": "stream",
     "text": [
      " 87%|██████████████████████████████████████▍     | 1249/1431 [03:20<00:24,  7.31it/s]"
     ]
    },
    {
     "name": "stdout",
     "output_type": "stream",
     "text": [
      "The size of tensor a (94) must match the size of tensor b (77) at non-singleton dimension 1\n"
     ]
    },
    {
     "name": "stderr",
     "output_type": "stream",
     "text": [
      "\r",
      " 87%|██████████████████████████████████████▍     | 1251/1431 [03:20<00:24,  7.38it/s]"
     ]
    },
    {
     "name": "stdout",
     "output_type": "stream",
     "text": [
      "The size of tensor a (236) must match the size of tensor b (77) at non-singleton dimension 1\n"
     ]
    },
    {
     "name": "stderr",
     "output_type": "stream",
     "text": [
      " 88%|██████████████████████████████████████▌     | 1255/1431 [03:21<00:24,  7.08it/s]"
     ]
    },
    {
     "name": "stdout",
     "output_type": "stream",
     "text": [
      "The size of tensor a (99) must match the size of tensor b (77) at non-singleton dimension 1\n"
     ]
    },
    {
     "name": "stderr",
     "output_type": "stream",
     "text": [
      " 88%|██████████████████████████████████████▊     | 1262/1431 [03:22<00:25,  6.72it/s]"
     ]
    },
    {
     "name": "stdout",
     "output_type": "stream",
     "text": [
      "The size of tensor a (86) must match the size of tensor b (77) at non-singleton dimension 1\n"
     ]
    },
    {
     "name": "stderr",
     "output_type": "stream",
     "text": [
      " 89%|███████████████████████████████████████▏    | 1274/1431 [03:24<00:23,  6.54it/s]"
     ]
    },
    {
     "name": "stdout",
     "output_type": "stream",
     "text": [
      "The size of tensor a (117) must match the size of tensor b (77) at non-singleton dimension 1\n"
     ]
    },
    {
     "name": "stderr",
     "output_type": "stream",
     "text": [
      "\r",
      " 89%|███████████████████████████████████████▏    | 1276/1431 [03:24<00:22,  6.94it/s]"
     ]
    },
    {
     "name": "stdout",
     "output_type": "stream",
     "text": [
      "The size of tensor a (78) must match the size of tensor b (77) at non-singleton dimension 1\n"
     ]
    },
    {
     "name": "stderr",
     "output_type": "stream",
     "text": [
      " 90%|███████████████████████████████████████▌    | 1285/1431 [03:26<00:22,  6.57it/s]"
     ]
    },
    {
     "name": "stdout",
     "output_type": "stream",
     "text": [
      "The size of tensor a (99) must match the size of tensor b (77) at non-singleton dimension 1\n"
     ]
    },
    {
     "name": "stderr",
     "output_type": "stream",
     "text": [
      " 90%|███████████████████████████████████████▌    | 1288/1431 [03:26<00:20,  6.84it/s]"
     ]
    },
    {
     "name": "stdout",
     "output_type": "stream",
     "text": [
      "The size of tensor a (88) must match the size of tensor b (77) at non-singleton dimension 1\n"
     ]
    },
    {
     "name": "stderr",
     "output_type": "stream",
     "text": [
      " 90%|███████████████████████████████████████▋    | 1291/1431 [03:26<00:20,  6.95it/s]"
     ]
    },
    {
     "name": "stdout",
     "output_type": "stream",
     "text": [
      "The size of tensor a (86) must match the size of tensor b (77) at non-singleton dimension 1\n"
     ]
    },
    {
     "name": "stderr",
     "output_type": "stream",
     "text": [
      "\r",
      " 90%|███████████████████████████████████████▊    | 1293/1431 [03:27<00:19,  7.17it/s]"
     ]
    },
    {
     "name": "stdout",
     "output_type": "stream",
     "text": [
      "The size of tensor a (136) must match the size of tensor b (77) at non-singleton dimension 1\n"
     ]
    },
    {
     "name": "stderr",
     "output_type": "stream",
     "text": [
      " 91%|████████████████████████████████████████▏   | 1309/1431 [03:29<00:18,  6.56it/s]"
     ]
    },
    {
     "name": "stdout",
     "output_type": "stream",
     "text": [
      "The size of tensor a (99) must match the size of tensor b (77) at non-singleton dimension 1\n"
     ]
    },
    {
     "name": "stderr",
     "output_type": "stream",
     "text": [
      " 92%|████████████████████████████████████████▍   | 1314/1431 [03:30<00:17,  6.76it/s]"
     ]
    },
    {
     "name": "stdout",
     "output_type": "stream",
     "text": [
      "The size of tensor a (109) must match the size of tensor b (77) at non-singleton dimension 1\n"
     ]
    },
    {
     "name": "stderr",
     "output_type": "stream",
     "text": [
      " 93%|████████████████████████████████████████▊   | 1329/1431 [03:33<00:15,  6.54it/s]"
     ]
    },
    {
     "name": "stdout",
     "output_type": "stream",
     "text": [
      "The size of tensor a (82) must match the size of tensor b (77) at non-singleton dimension 1\n"
     ]
    },
    {
     "name": "stderr",
     "output_type": "stream",
     "text": [
      " 93%|████████████████████████████████████████▉   | 1332/1431 [03:33<00:14,  6.84it/s]"
     ]
    },
    {
     "name": "stdout",
     "output_type": "stream",
     "text": [
      "The size of tensor a (110) must match the size of tensor b (77) at non-singleton dimension 1\n"
     ]
    },
    {
     "name": "stderr",
     "output_type": "stream",
     "text": [
      " 95%|█████████████████████████████████████████▊  | 1359/1431 [03:37<00:11,  6.50it/s]"
     ]
    },
    {
     "name": "stdout",
     "output_type": "stream",
     "text": [
      "The size of tensor a (82) must match the size of tensor b (77) at non-singleton dimension 1\n"
     ]
    },
    {
     "name": "stderr",
     "output_type": "stream",
     "text": [
      " 96%|██████████████████████████████████████████▎ | 1376/1431 [03:40<00:08,  6.56it/s]"
     ]
    },
    {
     "name": "stdout",
     "output_type": "stream",
     "text": [
      "The size of tensor a (117) must match the size of tensor b (77) at non-singleton dimension 1\n"
     ]
    },
    {
     "name": "stderr",
     "output_type": "stream",
     "text": [
      " 97%|██████████████████████████████████████████▍ | 1381/1431 [03:41<00:07,  6.66it/s]"
     ]
    },
    {
     "name": "stdout",
     "output_type": "stream",
     "text": [
      "The size of tensor a (78) must match the size of tensor b (77) at non-singleton dimension 1\n"
     ]
    },
    {
     "name": "stderr",
     "output_type": "stream",
     "text": [
      " 97%|██████████████████████████████████████████▊ | 1394/1431 [03:43<00:05,  6.57it/s]"
     ]
    },
    {
     "name": "stdout",
     "output_type": "stream",
     "text": [
      "The size of tensor a (86) must match the size of tensor b (77) at non-singleton dimension 1\n"
     ]
    },
    {
     "name": "stderr",
     "output_type": "stream",
     "text": [
      " 98%|███████████████████████████████████████████ | 1401/1431 [03:44<00:04,  6.64it/s]"
     ]
    },
    {
     "name": "stdout",
     "output_type": "stream",
     "text": [
      "The size of tensor a (90) must match the size of tensor b (77) at non-singleton dimension 1\n"
     ]
    },
    {
     "name": "stderr",
     "output_type": "stream",
     "text": [
      " 99%|███████████████████████████████████████████▎| 1410/1431 [03:46<00:03,  6.62it/s]"
     ]
    },
    {
     "name": "stdout",
     "output_type": "stream",
     "text": [
      "The size of tensor a (78) must match the size of tensor b (77) at non-singleton dimension 1\n"
     ]
    },
    {
     "name": "stderr",
     "output_type": "stream",
     "text": [
      "\r",
      " 99%|███████████████████████████████████████████▍| 1412/1431 [03:46<00:02,  6.97it/s]"
     ]
    },
    {
     "name": "stdout",
     "output_type": "stream",
     "text": [
      "The size of tensor a (79) must match the size of tensor b (77) at non-singleton dimension 1\n"
     ]
    },
    {
     "name": "stderr",
     "output_type": "stream",
     "text": [
      "100%|███████████████████████████████████████████▊| 1424/1431 [03:48<00:01,  6.62it/s]"
     ]
    },
    {
     "name": "stdout",
     "output_type": "stream",
     "text": [
      "The size of tensor a (82) must match the size of tensor b (77) at non-singleton dimension 1\n"
     ]
    },
    {
     "name": "stderr",
     "output_type": "stream",
     "text": [
      "\r",
      "100%|███████████████████████████████████████████▊| 1426/1431 [03:48<00:00,  6.98it/s]"
     ]
    },
    {
     "name": "stdout",
     "output_type": "stream",
     "text": [
      "The size of tensor a (83) must match the size of tensor b (77) at non-singleton dimension 1\n"
     ]
    },
    {
     "name": "stderr",
     "output_type": "stream",
     "text": [
      "100%|███████████████████████████████████████████▉| 1430/1431 [03:49<00:00,  7.72it/s]"
     ]
    },
    {
     "name": "stdout",
     "output_type": "stream",
     "text": [
      "The size of tensor a (82) must match the size of tensor b (77) at non-singleton dimension 1\n",
      "The size of tensor a (84) must match the size of tensor b (77) at non-singleton dimension 1\n"
     ]
    },
    {
     "name": "stderr",
     "output_type": "stream",
     "text": [
      "100%|████████████████████████████████████████████| 1431/1431 [03:49<00:00,  6.24it/s]\n"
     ]
    }
   ],
   "source": [
    "clip_scores = []\n",
    "for idx, row in tqdm(df.iterrows(), total=len(df)):\n",
    "    try:\n",
    "        img = PIL.Image.open(row[\"image\"])\n",
    "        img = img.convert('RGB')\n",
    "        np_img = np.array(img)\n",
    "        clip_score = metric(torch.Tensor(np_img).to(\"cuda\"), row[\"prompt\"]).detach().cpu().numpy()\n",
    "        img.close()\n",
    "        clip_scores.append(clip_score)\n",
    "    except Exception as e:\n",
    "        print(e)\n",
    "        clip_scores.append(np.nan)"
   ]
  },
  {
   "cell_type": "code",
   "execution_count": 10,
   "id": "f60830a0",
   "metadata": {},
   "outputs": [],
   "source": [
    "scored_df = pd.concat((df, pd.DataFrame(data={\"clip_score\": clip_scores})), axis=1)"
   ]
  },
  {
   "cell_type": "code",
   "execution_count": 11,
   "id": "b3d3dbf2",
   "metadata": {},
   "outputs": [],
   "source": [
    "scored_df = scored_df.dropna()"
   ]
  },
  {
   "cell_type": "code",
   "execution_count": 13,
   "id": "267f4fb7",
   "metadata": {},
   "outputs": [],
   "source": [
    "scored_df[\"prompt\"] = scored_df[\"prompt\"].astype(\"str\")"
   ]
  },
  {
   "cell_type": "code",
   "execution_count": 20,
   "id": "0a28cb35",
   "metadata": {},
   "outputs": [],
   "source": [
    "scored_df.to_json(\"sd_dataset_scored.json\", orient=\"records\")"
   ]
  },
  {
   "cell_type": "markdown",
   "id": "98c68259",
   "metadata": {},
   "source": [
    "# Step 3: Precompute CLIP embeddings for the image text pairs"
   ]
  },
  {
   "cell_type": "code",
   "execution_count": 51,
   "id": "128bf63c",
   "metadata": {},
   "outputs": [],
   "source": [
    "from tqdm import tqdm\n",
    "import pandas as pd\n",
    "import torch\n",
    "from transformers import CLIPProcessor, CLIPModel\n",
    "from PIL import Image"
   ]
  },
  {
   "cell_type": "code",
   "execution_count": 41,
   "id": "195220af",
   "metadata": {},
   "outputs": [],
   "source": [
    "# Load data\n",
    "df = pd.read_json(\"sd_dataset_scored.json\")"
   ]
  },
  {
   "cell_type": "code",
   "execution_count": 42,
   "id": "44e7137b",
   "metadata": {},
   "outputs": [
    {
     "name": "stderr",
     "output_type": "stream",
     "text": [
      "`text_config_dict` is provided which will be used to initialize `CLIPTextConfig`. The value `text_config[\"id2label\"]` will be overriden.\n"
     ]
    }
   ],
   "source": [
    "device = \"cuda\" if torch.cuda.is_available() else \"cpu\"\n",
    "model = CLIPModel.from_pretrained(\"openai/clip-vit-large-patch14\", output_hidden_states=True).to(device)\n",
    "processor = CLIPProcessor.from_pretrained(\"openai/clip-vit-large-patch14\")"
   ]
  },
  {
   "cell_type": "code",
   "execution_count": 52,
   "id": "2e50825f",
   "metadata": {},
   "outputs": [
    {
     "name": "stderr",
     "output_type": "stream",
     "text": [
      "100%|███████████████████████████████████████| 1250/1250 [01:31<00:00, 13.70it/s]\n"
     ]
    }
   ],
   "source": [
    "clip_image_embeddings = []\n",
    "clip_text_embeddings = []\n",
    "for idx, row in tqdm(df.iterrows(), total=len(df)):\n",
    "    with Image.open(row[\"image\"]) as img:\n",
    "        inputs = processor(text=[row[\"prompt\"]], images=[img], return_tensors=\"pt\", padding=True).to(device)\n",
    "        with torch.no_grad():\n",
    "            outputs = model(**inputs)\n",
    "            image_embedding = outputs[\"image_embeds\"].detach().cpu().numpy()[0]\n",
    "            text_embedding = outputs[\"text_embeds\"].detach().cpu().numpy()[0]\n",
    "    clip_image_embeddings.append(image_embedding)\n",
    "    clip_text_embeddings.append(text_embedding)"
   ]
  },
  {
   "cell_type": "code",
   "execution_count": 53,
   "id": "e8397048",
   "metadata": {},
   "outputs": [],
   "source": [
    "df[\"clip_text_embedding\"] = [e.tolist() for e in clip_text_embeddingsxt_embeddings]\n",
    "df[\"clip_image_embedding\"] = [e.tolist() for e in clip_image_embeddings]"
   ]
  },
  {
   "cell_type": "code",
   "execution_count": 54,
   "id": "88e898c5",
   "metadata": {},
   "outputs": [],
   "source": [
    "df.to_json(\"sd_dataset_scored_embedded.json\")"
   ]
  },
  {
   "cell_type": "markdown",
   "id": "a2531e5b",
   "metadata": {},
   "source": [
    "# Step 4: Selection of especially appealing images according to CLIP"
   ]
  },
  {
   "cell_type": "code",
   "execution_count": 1,
   "id": "4087b83d",
   "metadata": {},
   "outputs": [],
   "source": [
    "import pandas as pd\n",
    "import numpy as np\n",
    "from sliceguard import SliceGuard\n",
    "from renumics import spotlight\n",
    "from renumics.spotlight import Image, Embedding"
   ]
  },
  {
   "cell_type": "code",
   "execution_count": 2,
   "id": "7e1a7f34",
   "metadata": {},
   "outputs": [],
   "source": [
    "df = pd.read_json(\"sd_dataset_scored_embedded.json\")"
   ]
  },
  {
   "cell_type": "code",
   "execution_count": 7,
   "id": "a01d6948",
   "metadata": {},
   "outputs": [],
   "source": [
    "clip_text_embeddings = np.vstack(df[\"clip_text_embedding\"])\n",
    "clip_image_embeddings = np.vstack(df[\"clip_image_embedding\"])"
   ]
  },
  {
   "cell_type": "markdown",
   "id": "01b53744",
   "metadata": {},
   "source": [
    "## Global selection"
   ]
  },
  {
   "cell_type": "code",
   "execution_count": 9,
   "id": "9031dd26",
   "metadata": {},
   "outputs": [],
   "source": [
    "def return_precomputed_metric(y, y_pred):\n",
    "    return y.mean(0)"
   ]
  },
  {
   "cell_type": "code",
   "execution_count": 27,
   "id": "acbd62f1",
   "metadata": {},
   "outputs": [
    {
     "name": "stdout",
     "output_type": "stream",
     "text": [
      "The overall metric value is 31.099600642394634\n",
      "Using 2 as minimum support for determining problematic clusters.\n",
      "Using 6.0 as minimum drop for determining problematic clusters.\n",
      "Identified 1 problematic slices.\n"
     ]
    },
    {
     "data": {
      "text/html": [
       "<div>\n",
       "<style scoped>\n",
       "    .dataframe tbody tr th:only-of-type {\n",
       "        vertical-align: middle;\n",
       "    }\n",
       "\n",
       "    .dataframe tbody tr th {\n",
       "        vertical-align: top;\n",
       "    }\n",
       "\n",
       "    .dataframe thead th {\n",
       "        text-align: right;\n",
       "    }\n",
       "</style>\n",
       "<table border=\"1\" class=\"dataframe\">\n",
       "  <thead>\n",
       "    <tr style=\"text-align: right;\">\n",
       "      <th></th>\n",
       "      <th>issue</th>\n",
       "      <th>issue_metric</th>\n",
       "      <th>issue_explanation</th>\n",
       "    </tr>\n",
       "  </thead>\n",
       "  <tbody>\n",
       "    <tr>\n",
       "      <th>0</th>\n",
       "      <td>-1</td>\n",
       "      <td>NaN</td>\n",
       "      <td></td>\n",
       "    </tr>\n",
       "    <tr>\n",
       "      <th>1</th>\n",
       "      <td>-1</td>\n",
       "      <td>NaN</td>\n",
       "      <td></td>\n",
       "    </tr>\n",
       "    <tr>\n",
       "      <th>2</th>\n",
       "      <td>-1</td>\n",
       "      <td>NaN</td>\n",
       "      <td></td>\n",
       "    </tr>\n",
       "    <tr>\n",
       "      <th>3</th>\n",
       "      <td>-1</td>\n",
       "      <td>NaN</td>\n",
       "      <td></td>\n",
       "    </tr>\n",
       "    <tr>\n",
       "      <th>4</th>\n",
       "      <td>-1</td>\n",
       "      <td>NaN</td>\n",
       "      <td></td>\n",
       "    </tr>\n",
       "    <tr>\n",
       "      <th>...</th>\n",
       "      <td>...</td>\n",
       "      <td>...</td>\n",
       "      <td>...</td>\n",
       "    </tr>\n",
       "    <tr>\n",
       "      <th>1245</th>\n",
       "      <td>-1</td>\n",
       "      <td>NaN</td>\n",
       "      <td></td>\n",
       "    </tr>\n",
       "    <tr>\n",
       "      <th>1246</th>\n",
       "      <td>-1</td>\n",
       "      <td>NaN</td>\n",
       "      <td></td>\n",
       "    </tr>\n",
       "    <tr>\n",
       "      <th>1247</th>\n",
       "      <td>-1</td>\n",
       "      <td>NaN</td>\n",
       "      <td></td>\n",
       "    </tr>\n",
       "    <tr>\n",
       "      <th>1248</th>\n",
       "      <td>-1</td>\n",
       "      <td>NaN</td>\n",
       "      <td></td>\n",
       "    </tr>\n",
       "    <tr>\n",
       "      <th>1249</th>\n",
       "      <td>-1</td>\n",
       "      <td>NaN</td>\n",
       "      <td></td>\n",
       "    </tr>\n",
       "  </tbody>\n",
       "</table>\n",
       "<p>1250 rows × 3 columns</p>\n",
       "</div>"
      ],
      "text/plain": [
       "      issue  issue_metric issue_explanation\n",
       "0        -1           NaN                  \n",
       "1        -1           NaN                  \n",
       "2        -1           NaN                  \n",
       "3        -1           NaN                  \n",
       "4        -1           NaN                  \n",
       "...     ...           ...               ...\n",
       "1245     -1           NaN                  \n",
       "1246     -1           NaN                  \n",
       "1247     -1           NaN                  \n",
       "1248     -1           NaN                  \n",
       "1249     -1           NaN                  \n",
       "\n",
       "[1250 rows x 3 columns]"
      ]
     },
     "execution_count": 27,
     "metadata": {},
     "output_type": "execute_result"
    }
   ],
   "source": [
    "sg = SliceGuard()\n",
    "sg.find_issues(df, [\"clip_image_embedding\"],\n",
    "               \"clip_score\",\n",
    "               \"clip_score\",\n",
    "               return_precomputed_metric,\n",
    "               metric_mode=\"min\",\n",
    "               min_support=2,\n",
    "               min_drop=6.0,\n",
    "              precomputed_embeddings={\"clip_image_embedding\": clip_image_embeddings})\n",
    "\n",
    "# Note: There is no explicit interface for using a precomputed metric, however just supply the metric column\n",
    "# for y and y_pred and return y mean in your metric function"
   ]
  },
  {
   "cell_type": "code",
   "execution_count": 28,
   "id": "1bb0deee",
   "metadata": {},
   "outputs": [
    {
     "data": {
      "text/html": [
       "<div>\n",
       "<style scoped>\n",
       "    .dataframe tbody tr th:only-of-type {\n",
       "        vertical-align: middle;\n",
       "    }\n",
       "\n",
       "    .dataframe tbody tr th {\n",
       "        vertical-align: top;\n",
       "    }\n",
       "\n",
       "    .dataframe thead th {\n",
       "        text-align: right;\n",
       "    }\n",
       "</style>\n",
       "<table border=\"1\" class=\"dataframe\">\n",
       "  <thead>\n",
       "    <tr style=\"text-align: right;\">\n",
       "      <th></th>\n",
       "      <th>image</th>\n",
       "      <th>prompt</th>\n",
       "      <th>clip_score</th>\n",
       "      <th>clip_text_embedding</th>\n",
       "      <th>clip_image_embedding</th>\n",
       "      <th>issue</th>\n",
       "      <th>issue_metric</th>\n",
       "      <th>issue_explanation</th>\n",
       "      <th>sg_emb_clip_image_embedding</th>\n",
       "    </tr>\n",
       "  </thead>\n",
       "  <tbody>\n",
       "    <tr>\n",
       "      <th>0</th>\n",
       "      <td>images/56477cc5-64d0-4ba6-971a-72c719460235.png</td>\n",
       "      <td>steampunk market interior, colorful, 3 d scene...</td>\n",
       "      <td>26.963913</td>\n",
       "      <td>[-0.039592452300000004, -0.0147153912, 0.02259...</td>\n",
       "      <td>[0.042762961200000005, -0.0210433938, 0.045792...</td>\n",
       "      <td>-1</td>\n",
       "      <td>NaN</td>\n",
       "      <td></td>\n",
       "      <td>[0.042762961200000005, -0.0210433938, 0.045792...</td>\n",
       "    </tr>\n",
       "    <tr>\n",
       "      <th>1</th>\n",
       "      <td>images/bd09826a-796e-4142-862d-1dacdeb3c4f5.png</td>\n",
       "      <td>“A portrait of a cyborg in a golden suit, D&amp;D ...</td>\n",
       "      <td>29.205557</td>\n",
       "      <td>[-0.0020829607000000003, 0.0192637891, -0.0362...</td>\n",
       "      <td>[0.018390106, -0.0414507277, 0.0406149887, -0....</td>\n",
       "      <td>-1</td>\n",
       "      <td>NaN</td>\n",
       "      <td></td>\n",
       "      <td>[0.018390106, -0.0414507277, 0.0406149887, -0....</td>\n",
       "    </tr>\n",
       "    <tr>\n",
       "      <th>2</th>\n",
       "      <td>images/8fe45789-ed16-4260-bdad-048485ab90e4.png</td>\n",
       "      <td>A full portrait of a beautiful post apocalypti...</td>\n",
       "      <td>30.058372</td>\n",
       "      <td>[0.0062153996, 0.021728647900000002, -0.046727...</td>\n",
       "      <td>[0.0483528748, -0.050396055, 0.034902714200000...</td>\n",
       "      <td>-1</td>\n",
       "      <td>NaN</td>\n",
       "      <td></td>\n",
       "      <td>[0.0483528748, -0.050396055, 0.034902714200000...</td>\n",
       "    </tr>\n",
       "    <tr>\n",
       "      <th>3</th>\n",
       "      <td>images/aa0ac4e2-38f2-4ce7-8a2c-69890b3f7173.png</td>\n",
       "      <td>beautiful victorian raven digital painting, ar...</td>\n",
       "      <td>33.178711</td>\n",
       "      <td>[0.0280955508, -0.0245218761, -0.0008252721000...</td>\n",
       "      <td>[0.0324550271, -0.0018246276, 0.0379409231, -0...</td>\n",
       "      <td>-1</td>\n",
       "      <td>NaN</td>\n",
       "      <td></td>\n",
       "      <td>[0.0324550271, -0.0018246276, 0.0379409231, -0...</td>\n",
       "    </tr>\n",
       "    <tr>\n",
       "      <th>4</th>\n",
       "      <td>images/fc8fdc82-9bd2-4015-b434-b6958f9f0d80.png</td>\n",
       "      <td>ilya kuvshinov with long sky blue hair, gold e...</td>\n",
       "      <td>31.954140</td>\n",
       "      <td>[0.032235581400000005, -0.0244684052, -0.04714...</td>\n",
       "      <td>[0.0431220941, -0.0332533978, 0.02237399850000...</td>\n",
       "      <td>-1</td>\n",
       "      <td>NaN</td>\n",
       "      <td></td>\n",
       "      <td>[0.0431220941, -0.0332533978, 0.02237399850000...</td>\n",
       "    </tr>\n",
       "    <tr>\n",
       "      <th>...</th>\n",
       "      <td>...</td>\n",
       "      <td>...</td>\n",
       "      <td>...</td>\n",
       "      <td>...</td>\n",
       "      <td>...</td>\n",
       "      <td>...</td>\n",
       "      <td>...</td>\n",
       "      <td>...</td>\n",
       "      <td>...</td>\n",
       "    </tr>\n",
       "    <tr>\n",
       "      <th>1245</th>\n",
       "      <td>images/9e3b26ab-b737-472e-815f-7c13389dd2f0.png</td>\n",
       "      <td>amazing lifelike award winning pencil illustra...</td>\n",
       "      <td>32.023315</td>\n",
       "      <td>[-0.0161065459, 0.0105979368, 0.040526025, -0....</td>\n",
       "      <td>[0.0670162812, 0.02718102, 0.0588702112, -0.04...</td>\n",
       "      <td>-1</td>\n",
       "      <td>NaN</td>\n",
       "      <td></td>\n",
       "      <td>[0.0670162812, 0.02718102, 0.0588702112, -0.04...</td>\n",
       "    </tr>\n",
       "    <tr>\n",
       "      <th>1246</th>\n",
       "      <td>images/4c3264ab-da87-4ff5-93fb-0a12bb5ed64e.png</td>\n",
       "      <td>A castle made out of white stone burning from ...</td>\n",
       "      <td>26.541388</td>\n",
       "      <td>[-0.0453475416, 0.0172001105, -0.0454900749000...</td>\n",
       "      <td>[-0.0132969152, -0.0348297916, -0.0372253507, ...</td>\n",
       "      <td>-1</td>\n",
       "      <td>NaN</td>\n",
       "      <td></td>\n",
       "      <td>[-0.0132969152, -0.0348297916, -0.0372253507, ...</td>\n",
       "    </tr>\n",
       "    <tr>\n",
       "      <th>1247</th>\n",
       "      <td>images/bace5279-aba0-499c-8c78-f3dbaeae50f8.png</td>\n",
       "      <td>You keep on creepin', let the night be scary</td>\n",
       "      <td>23.000858</td>\n",
       "      <td>[-0.024687962600000002, 0.018290622200000002, ...</td>\n",
       "      <td>[0.0080016209, 0.0243713874, 0.0124144787, -0....</td>\n",
       "      <td>-1</td>\n",
       "      <td>NaN</td>\n",
       "      <td></td>\n",
       "      <td>[0.0080016209, 0.0243713874, 0.0124144787, -0....</td>\n",
       "    </tr>\n",
       "    <tr>\n",
       "      <th>1248</th>\n",
       "      <td>images/3d58bdd1-f6e3-455a-b0ee-0db53b14a4f1.png</td>\n",
       "      <td>photo, young female meth producer, meth lab, c...</td>\n",
       "      <td>24.982887</td>\n",
       "      <td>[0.0028408652, 0.0373360664, -0.00086677050000...</td>\n",
       "      <td>[0.0246292036, 0.054845836, 0.0172184352, -0.0...</td>\n",
       "      <td>-1</td>\n",
       "      <td>NaN</td>\n",
       "      <td></td>\n",
       "      <td>[0.0246292036, 0.054845836, 0.0172184352, -0.0...</td>\n",
       "    </tr>\n",
       "    <tr>\n",
       "      <th>1249</th>\n",
       "      <td>images/c21bed77-94fa-4eff-9f3c-028a9c9954bd.png</td>\n",
       "      <td>an art deco city of the future, painted by was...</td>\n",
       "      <td>33.667477</td>\n",
       "      <td>[-0.011421502600000001, -0.0352302492, -0.0647...</td>\n",
       "      <td>[0.0158583838, -0.050750598300000005, 0.002674...</td>\n",
       "      <td>-1</td>\n",
       "      <td>NaN</td>\n",
       "      <td></td>\n",
       "      <td>[0.0158583838, -0.050750598300000005, 0.002674...</td>\n",
       "    </tr>\n",
       "  </tbody>\n",
       "</table>\n",
       "<p>1250 rows × 9 columns</p>\n",
       "</div>"
      ],
      "text/plain": [
       "                                                image  \\\n",
       "0     images/56477cc5-64d0-4ba6-971a-72c719460235.png   \n",
       "1     images/bd09826a-796e-4142-862d-1dacdeb3c4f5.png   \n",
       "2     images/8fe45789-ed16-4260-bdad-048485ab90e4.png   \n",
       "3     images/aa0ac4e2-38f2-4ce7-8a2c-69890b3f7173.png   \n",
       "4     images/fc8fdc82-9bd2-4015-b434-b6958f9f0d80.png   \n",
       "...                                               ...   \n",
       "1245  images/9e3b26ab-b737-472e-815f-7c13389dd2f0.png   \n",
       "1246  images/4c3264ab-da87-4ff5-93fb-0a12bb5ed64e.png   \n",
       "1247  images/bace5279-aba0-499c-8c78-f3dbaeae50f8.png   \n",
       "1248  images/3d58bdd1-f6e3-455a-b0ee-0db53b14a4f1.png   \n",
       "1249  images/c21bed77-94fa-4eff-9f3c-028a9c9954bd.png   \n",
       "\n",
       "                                                 prompt  clip_score  \\\n",
       "0     steampunk market interior, colorful, 3 d scene...   26.963913   \n",
       "1     “A portrait of a cyborg in a golden suit, D&D ...   29.205557   \n",
       "2     A full portrait of a beautiful post apocalypti...   30.058372   \n",
       "3     beautiful victorian raven digital painting, ar...   33.178711   \n",
       "4     ilya kuvshinov with long sky blue hair, gold e...   31.954140   \n",
       "...                                                 ...         ...   \n",
       "1245  amazing lifelike award winning pencil illustra...   32.023315   \n",
       "1246  A castle made out of white stone burning from ...   26.541388   \n",
       "1247       You keep on creepin', let the night be scary   23.000858   \n",
       "1248  photo, young female meth producer, meth lab, c...   24.982887   \n",
       "1249  an art deco city of the future, painted by was...   33.667477   \n",
       "\n",
       "                                    clip_text_embedding  \\\n",
       "0     [-0.039592452300000004, -0.0147153912, 0.02259...   \n",
       "1     [-0.0020829607000000003, 0.0192637891, -0.0362...   \n",
       "2     [0.0062153996, 0.021728647900000002, -0.046727...   \n",
       "3     [0.0280955508, -0.0245218761, -0.0008252721000...   \n",
       "4     [0.032235581400000005, -0.0244684052, -0.04714...   \n",
       "...                                                 ...   \n",
       "1245  [-0.0161065459, 0.0105979368, 0.040526025, -0....   \n",
       "1246  [-0.0453475416, 0.0172001105, -0.0454900749000...   \n",
       "1247  [-0.024687962600000002, 0.018290622200000002, ...   \n",
       "1248  [0.0028408652, 0.0373360664, -0.00086677050000...   \n",
       "1249  [-0.011421502600000001, -0.0352302492, -0.0647...   \n",
       "\n",
       "                                   clip_image_embedding  issue  issue_metric  \\\n",
       "0     [0.042762961200000005, -0.0210433938, 0.045792...     -1           NaN   \n",
       "1     [0.018390106, -0.0414507277, 0.0406149887, -0....     -1           NaN   \n",
       "2     [0.0483528748, -0.050396055, 0.034902714200000...     -1           NaN   \n",
       "3     [0.0324550271, -0.0018246276, 0.0379409231, -0...     -1           NaN   \n",
       "4     [0.0431220941, -0.0332533978, 0.02237399850000...     -1           NaN   \n",
       "...                                                 ...    ...           ...   \n",
       "1245  [0.0670162812, 0.02718102, 0.0588702112, -0.04...     -1           NaN   \n",
       "1246  [-0.0132969152, -0.0348297916, -0.0372253507, ...     -1           NaN   \n",
       "1247  [0.0080016209, 0.0243713874, 0.0124144787, -0....     -1           NaN   \n",
       "1248  [0.0246292036, 0.054845836, 0.0172184352, -0.0...     -1           NaN   \n",
       "1249  [0.0158583838, -0.050750598300000005, 0.002674...     -1           NaN   \n",
       "\n",
       "     issue_explanation                        sg_emb_clip_image_embedding  \n",
       "0                       [0.042762961200000005, -0.0210433938, 0.045792...  \n",
       "1                       [0.018390106, -0.0414507277, 0.0406149887, -0....  \n",
       "2                       [0.0483528748, -0.050396055, 0.034902714200000...  \n",
       "3                       [0.0324550271, -0.0018246276, 0.0379409231, -0...  \n",
       "4                       [0.0431220941, -0.0332533978, 0.02237399850000...  \n",
       "...                ...                                                ...  \n",
       "1245                    [0.0670162812, 0.02718102, 0.0588702112, -0.04...  \n",
       "1246                    [-0.0132969152, -0.0348297916, -0.0372253507, ...  \n",
       "1247                    [0.0080016209, 0.0243713874, 0.0124144787, -0....  \n",
       "1248                    [0.0246292036, 0.054845836, 0.0172184352, -0.0...  \n",
       "1249                    [0.0158583838, -0.050750598300000005, 0.002674...  \n",
       "\n",
       "[1250 rows x 9 columns]"
      ]
     },
     "execution_count": 28,
     "metadata": {},
     "output_type": "execute_result"
    }
   ],
   "source": [
    "sg.report(spotlight_dtype={\"image\": Image, \"clip_image_embedding\": Embedding})"
   ]
  },
  {
   "cell_type": "markdown",
   "id": "8f934c23",
   "metadata": {},
   "source": [
    "## Category-wise, adaptive selection"
   ]
  },
  {
   "cell_type": "code",
   "execution_count": 30,
   "id": "0e3f69a5",
   "metadata": {},
   "outputs": [],
   "source": [
    "from hnne import HNNE"
   ]
  },
  {
   "cell_type": "code",
   "execution_count": 31,
   "id": "8638530f",
   "metadata": {},
   "outputs": [],
   "source": [
    "hnne = HNNE(metric=\"euclidean\")"
   ]
  },
  {
   "cell_type": "code",
   "execution_count": null,
   "id": "2181fe8d",
   "metadata": {},
   "outputs": [],
   "source": []
  },
  {
   "cell_type": "markdown",
   "id": "e68b4bb6",
   "metadata": {},
   "source": [
    "**Visualization idea: Cluster map with clip score and images, animated over best slices probably stratified according to clustering**"
   ]
  },
  {
   "cell_type": "markdown",
   "id": "1f8db10d",
   "metadata": {},
   "source": [
    "# Detect Biases in Stable Diffusion and CLIP Score Metric"
   ]
  },
  {
   "cell_type": "code",
   "execution_count": null,
   "id": "77367bff",
   "metadata": {},
   "outputs": [],
   "source": []
  }
 ],
 "metadata": {
  "kernelspec": {
   "display_name": "Python 3 (ipykernel)",
   "language": "python",
   "name": "python3"
  },
  "language_info": {
   "codemirror_mode": {
    "name": "ipython",
    "version": 3
   },
   "file_extension": ".py",
   "mimetype": "text/x-python",
   "name": "python",
   "nbconvert_exporter": "python",
   "pygments_lexer": "ipython3",
   "version": "3.8.17"
  }
 },
 "nbformat": 4,
 "nbformat_minor": 5
}
