{
 "cells": [
  {
   "cell_type": "code",
   "execution_count": 1,
   "id": "9eacf518",
   "metadata": {},
   "outputs": [],
   "source": [
    "from renumics import spotlight\n",
    "from renumics.spotlight import Image\n",
    "import pandas as pd"
   ]
  },
  {
   "cell_type": "code",
   "execution_count": null,
   "id": "908538d0",
   "metadata": {},
   "outputs": [
    {
     "name": "stdout",
     "output_type": "stream",
     "text": [
      "Spotlight running on http://127.0.0.1:41217/\n"
     ]
    }
   ],
   "source": [
    "df = pd.read_json(\"sd_dataset_scored.json\")\n",
    "spotlight.show(df, dtype={\"image\": Image}, wait=True)"
   ]
  },
  {
   "cell_type": "code",
   "execution_count": null,
   "id": "5a9d7f92",
   "metadata": {},
   "outputs": [],
   "source": [
    "indexes_to_remove = [3, 11, 14, 22, 31, 98, 111, 118, 120, 141,\n",
    "                    153, 156, 157, 162, 163, 171, 173, 174, 196,\n",
    "                    200, 209, 220, 221, 222, 243, 251, 254,\n",
    "                    269, 270, 271, 275, 285, 289, 298, 312,\n",
    "                    316, 327, 329, 336, 345, 354, 355, 376,\n",
    "                    377, 391, 424, 457, 458, 460, 480, 486,\n",
    "                    494, 502, 517, 540, 545, 546, 548, 562,\n",
    "                    570, 575, 585, 596, 607, 611, 616, 639,\n",
    "                    640, 650, 663, 671, 720, 729, 734, 735,\n",
    "                    737, 741, 746, 750, 758, 765, 776, 780,\n",
    "                    783, 798, 804, 827, 829, 836, 846, 851,\n",
    "                    864, 867, 877, 883, 895, 906, 915, 928,\n",
    "                    940, 941, 957, 965, 969, 973, 974, 976,\n",
    "                    983, 997, 1002, 1007, 1019, 1026, 1033,\n",
    "                    1034, 1035, 1038, 1039, 1041, 1054, 1065, 1071,\n",
    "                    1079, 1080, 1084, 1086, 1087, 1092, 1094,\n",
    "                    1099, 1104, 1110, 1111, 1120, 1126, 1129,\n",
    "                    1137, 1148, 1154, 1155, 1159, 1165, 1168,\n",
    "                    1170, 1182, 1196, 1197, 1221, 1227, 1230,\n",
    "                    1239, 1244]"
   ]
  },
  {
   "cell_type": "code",
   "execution_count": null,
   "id": "32791ce6",
   "metadata": {},
   "outputs": [],
   "source": []
  }
 ],
 "metadata": {
  "kernelspec": {
   "display_name": "Python 3 (ipykernel)",
   "language": "python",
   "name": "python3"
  },
  "language_info": {
   "codemirror_mode": {
    "name": "ipython",
    "version": 3
   },
   "file_extension": ".py",
   "mimetype": "text/x-python",
   "name": "python",
   "nbconvert_exporter": "python",
   "pygments_lexer": "ipython3",
   "version": "3.8.17"
  }
 },
 "nbformat": 4,
 "nbformat_minor": 5
}
