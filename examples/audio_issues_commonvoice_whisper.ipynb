{
 "cells": [
  {
   "cell_type": "markdown",
   "id": "3dc29882",
   "metadata": {},
   "source": [
    "# Detecting audio issues in the Common Voice dataset\n",
    "This notebook aims at showing how you can leverage sliceguard to detect issues in audio datasets, using the commonvoice dataset as an example. Focus will be on the basic workflow, as well as showing how to leverage different embedding models from the huggingface hub."
   ]
  },
  {
   "cell_type": "markdown",
   "id": "ada14102",
   "metadata": {},
   "source": [
    "In order to run this example you will need some **dependencies**. Install them as follows."
   ]
  },
  {
   "cell_type": "code",
   "execution_count": 32,
   "id": "3999c7a1",
   "metadata": {},
   "outputs": [
    {
     "name": "stdout",
     "output_type": "stream",
     "text": [
      "Requirement already satisfied: sliceguard in /home/daniel/code/sliceguard/.venv/lib/python3.8/site-packages (0.0.3)\n",
      "Requirement already satisfied: librosa in /home/daniel/code/sliceguard/.venv/lib/python3.8/site-packages (0.10.0.post2)\n",
      "Requirement already satisfied: soundfile in /home/daniel/code/sliceguard/.venv/lib/python3.8/site-packages (0.12.1)\n",
      "Requirement already satisfied: datasets in /home/daniel/code/sliceguard/.venv/lib/python3.8/site-packages (2.13.1)\n",
      "Requirement already satisfied: tqdm in /home/daniel/code/sliceguard/.venv/lib/python3.8/site-packages (4.65.0)\n",
      "Requirement already satisfied: jiwer in /home/daniel/code/sliceguard/.venv/lib/python3.8/site-packages (3.0.2)\n",
      "Requirement already satisfied: Pillow>=9.5.0 in /home/daniel/code/sliceguard/.venv/lib/python3.8/site-packages (from sliceguard) (10.0.0)\n",
      "Requirement already satisfied: fairlearn>=0.8.0 in /home/daniel/code/sliceguard/.venv/lib/python3.8/site-packages (from sliceguard) (0.8.0)\n",
      "Requirement already satisfied: numpy>=1.17.2 in /home/daniel/code/sliceguard/.venv/lib/python3.8/site-packages (from sliceguard) (1.22.4)\n",
      "Requirement already satisfied: renumics-spotlight>=1.3.0rc1 in /home/daniel/code/sliceguard/.venv/lib/python3.8/site-packages (from sliceguard) (1.3.0rc2)\n",
      "Requirement already satisfied: torchaudio>=2.0.2 in /home/daniel/code/sliceguard/.venv/lib/python3.8/site-packages (from sliceguard) (2.0.2)\n",
      "Requirement already satisfied: torch>=2.0.1 in /home/daniel/code/sliceguard/.venv/lib/python3.8/site-packages (from sliceguard) (2.0.1)\n",
      "Requirement already satisfied: sentence-transformers>=2.2.1 in /home/daniel/code/sliceguard/.venv/lib/python3.8/site-packages (from sliceguard) (2.2.2)\n",
      "Requirement already satisfied: umap-learn>=0.5.3 in /home/daniel/code/sliceguard/.venv/lib/python3.8/site-packages (from sliceguard) (0.5.3)\n",
      "Requirement already satisfied: hnne>=0.1.8 in /home/daniel/code/sliceguard/.venv/lib/python3.8/site-packages (from sliceguard) (0.1.9)\n",
      "Requirement already satisfied: scikit-learn>=1.2.2 in /home/daniel/code/sliceguard/.venv/lib/python3.8/site-packages (from sliceguard) (1.3.0)\n",
      "Requirement already satisfied: pandas>=2.0.0 in /home/daniel/code/sliceguard/.venv/lib/python3.8/site-packages (from sliceguard) (2.0.3)\n",
      "Requirement already satisfied: transformers>=4.30.2 in /home/daniel/code/sliceguard/.venv/lib/python3.8/site-packages (from sliceguard) (4.30.2)\n",
      "Requirement already satisfied: scipy>=1.2.0 in /home/daniel/code/sliceguard/.venv/lib/python3.8/site-packages (from librosa) (1.10.1)\n",
      "Requirement already satisfied: lazy-loader>=0.1 in /home/daniel/code/sliceguard/.venv/lib/python3.8/site-packages (from librosa) (0.3)\n",
      "Requirement already satisfied: typing-extensions>=4.1.1 in /home/daniel/code/sliceguard/.venv/lib/python3.8/site-packages (from librosa) (4.7.1)\n",
      "Requirement already satisfied: decorator>=4.3.0 in /home/daniel/code/sliceguard/.venv/lib/python3.8/site-packages (from librosa) (5.1.1)\n",
      "Requirement already satisfied: msgpack>=1.0 in /home/daniel/code/sliceguard/.venv/lib/python3.8/site-packages (from librosa) (1.0.5)\n",
      "Requirement already satisfied: pooch<1.7,>=1.0 in /home/daniel/code/sliceguard/.venv/lib/python3.8/site-packages (from librosa) (1.6.0)\n",
      "Requirement already satisfied: joblib>=0.14 in /home/daniel/code/sliceguard/.venv/lib/python3.8/site-packages (from librosa) (1.3.1)\n",
      "Requirement already satisfied: audioread>=2.1.9 in /home/daniel/code/sliceguard/.venv/lib/python3.8/site-packages (from librosa) (3.0.0)\n",
      "Requirement already satisfied: numba>=0.51.0 in /home/daniel/code/sliceguard/.venv/lib/python3.8/site-packages (from librosa) (0.57.1)\n",
      "Requirement already satisfied: soxr>=0.3.2 in /home/daniel/code/sliceguard/.venv/lib/python3.8/site-packages (from librosa) (0.3.5)\n",
      "Requirement already satisfied: cffi>=1.0 in /home/daniel/code/sliceguard/.venv/lib/python3.8/site-packages (from soundfile) (1.15.1)\n",
      "Requirement already satisfied: fsspec[http]>=2021.11.1 in /home/daniel/code/sliceguard/.venv/lib/python3.8/site-packages (from datasets) (2023.6.0)\n",
      "Requirement already satisfied: huggingface-hub<1.0.0,>=0.11.0 in /home/daniel/code/sliceguard/.venv/lib/python3.8/site-packages (from datasets) (0.15.1)\n",
      "Requirement already satisfied: multiprocess in /home/daniel/code/sliceguard/.venv/lib/python3.8/site-packages (from datasets) (0.70.14)\n",
      "Requirement already satisfied: packaging in /home/daniel/code/sliceguard/.venv/lib/python3.8/site-packages (from datasets) (23.1)\n",
      "Requirement already satisfied: dill<0.3.7,>=0.3.0 in /home/daniel/code/sliceguard/.venv/lib/python3.8/site-packages (from datasets) (0.3.6)\n",
      "Requirement already satisfied: pyyaml>=5.1 in /home/daniel/code/sliceguard/.venv/lib/python3.8/site-packages (from datasets) (6.0)\n",
      "Requirement already satisfied: requests>=2.19.0 in /home/daniel/code/sliceguard/.venv/lib/python3.8/site-packages (from datasets) (2.31.0)\n",
      "Requirement already satisfied: aiohttp in /home/daniel/code/sliceguard/.venv/lib/python3.8/site-packages (from datasets) (3.8.4)\n",
      "Requirement already satisfied: pyarrow>=8.0.0 in /home/daniel/code/sliceguard/.venv/lib/python3.8/site-packages (from datasets) (12.0.1)\n",
      "Requirement already satisfied: xxhash in /home/daniel/code/sliceguard/.venv/lib/python3.8/site-packages (from datasets) (3.2.0)\n",
      "Requirement already satisfied: click<9.0.0,>=8.1.3 in /home/daniel/code/sliceguard/.venv/lib/python3.8/site-packages (from jiwer) (8.1.3)\n",
      "Requirement already satisfied: rapidfuzz==2.13.7 in /home/daniel/code/sliceguard/.venv/lib/python3.8/site-packages (from jiwer) (2.13.7)\n",
      "Requirement already satisfied: pycparser in /home/daniel/code/sliceguard/.venv/lib/python3.8/site-packages (from cffi>=1.0->soundfile) (2.21)\n",
      "Requirement already satisfied: charset-normalizer<4.0,>=2.0 in /home/daniel/code/sliceguard/.venv/lib/python3.8/site-packages (from aiohttp->datasets) (3.1.0)\n",
      "Requirement already satisfied: yarl<2.0,>=1.0 in /home/daniel/code/sliceguard/.venv/lib/python3.8/site-packages (from aiohttp->datasets) (1.9.2)\n",
      "Requirement already satisfied: multidict<7.0,>=4.5 in /home/daniel/code/sliceguard/.venv/lib/python3.8/site-packages (from aiohttp->datasets) (6.0.4)\n",
      "Requirement already satisfied: frozenlist>=1.1.1 in /home/daniel/code/sliceguard/.venv/lib/python3.8/site-packages (from aiohttp->datasets) (1.3.3)\n",
      "Requirement already satisfied: aiosignal>=1.1.2 in /home/daniel/code/sliceguard/.venv/lib/python3.8/site-packages (from aiohttp->datasets) (1.3.1)\n",
      "Requirement already satisfied: async-timeout<5.0,>=4.0.0a3 in /home/daniel/code/sliceguard/.venv/lib/python3.8/site-packages (from aiohttp->datasets) (4.0.2)\n",
      "Requirement already satisfied: attrs>=17.3.0 in /home/daniel/code/sliceguard/.venv/lib/python3.8/site-packages (from aiohttp->datasets) (23.1.0)\n",
      "Requirement already satisfied: pynndescent in /home/daniel/code/sliceguard/.venv/lib/python3.8/site-packages (from hnne>=0.1.8->sliceguard) (0.5.10)\n",
      "Requirement already satisfied: cython in /home/daniel/code/sliceguard/.venv/lib/python3.8/site-packages (from hnne>=0.1.8->sliceguard) (0.29.36)\n",
      "Requirement already satisfied: typer in /home/daniel/code/sliceguard/.venv/lib/python3.8/site-packages (from hnne>=0.1.8->sliceguard) (0.9.0)\n",
      "Requirement already satisfied: filelock in /home/daniel/code/sliceguard/.venv/lib/python3.8/site-packages (from huggingface-hub<1.0.0,>=0.11.0->datasets) (3.12.2)\n",
      "Requirement already satisfied: importlib-metadata in /home/daniel/code/sliceguard/.venv/lib/python3.8/site-packages (from numba>=0.51.0->librosa) (6.7.0)\n",
      "Requirement already satisfied: llvmlite<0.41,>=0.40.0dev0 in /home/daniel/code/sliceguard/.venv/lib/python3.8/site-packages (from numba>=0.51.0->librosa) (0.40.1)\n",
      "Requirement already satisfied: pytz>=2020.1 in /home/daniel/code/sliceguard/.venv/lib/python3.8/site-packages (from pandas>=2.0.0->sliceguard) (2023.3)\n",
      "Requirement already satisfied: python-dateutil>=2.8.2 in /home/daniel/code/sliceguard/.venv/lib/python3.8/site-packages (from pandas>=2.0.0->sliceguard) (2.8.2)\n",
      "Requirement already satisfied: tzdata>=2022.1 in /home/daniel/code/sliceguard/.venv/lib/python3.8/site-packages (from pandas>=2.0.0->sliceguard) (2023.3)\n",
      "Requirement already satisfied: appdirs>=1.3.0 in /home/daniel/code/sliceguard/.venv/lib/python3.8/site-packages (from pooch<1.7,>=1.0->librosa) (1.4.4)\n"
     ]
    },
    {
     "name": "stdout",
     "output_type": "stream",
     "text": [
      "Requirement already satisfied: py-machineid<0.4.0,>=0.3.0 in /home/daniel/code/sliceguard/.venv/lib/python3.8/site-packages (from renumics-spotlight>=1.3.0rc1->sliceguard) (0.3.0)\n",
      "Requirement already satisfied: loguru in /home/daniel/code/sliceguard/.venv/lib/python3.8/site-packages (from renumics-spotlight>=1.3.0rc1->sliceguard) (0.7.0)\n",
      "Requirement already satisfied: filetype<2.0.0,>=1.2.0 in /home/daniel/code/sliceguard/.venv/lib/python3.8/site-packages (from renumics-spotlight>=1.3.0rc1->sliceguard) (1.2.0)\n",
      "Requirement already satisfied: pygltflib>=1.15.1 in /home/daniel/code/sliceguard/.venv/lib/python3.8/site-packages (from renumics-spotlight>=1.3.0rc1->sliceguard) (1.15.6)\n",
      "Requirement already satisfied: aiofiles in /home/daniel/code/sliceguard/.venv/lib/python3.8/site-packages (from renumics-spotlight>=1.3.0rc1->sliceguard) (23.1.0)\n",
      "Requirement already satisfied: importlib_resources<5.8.0 in /home/daniel/code/sliceguard/.venv/lib/python3.8/site-packages (from renumics-spotlight>=1.3.0rc1->sliceguard) (5.7.1)\n",
      "Requirement already satisfied: uvloop>=0.17.0 in /home/daniel/code/sliceguard/.venv/lib/python3.8/site-packages (from renumics-spotlight>=1.3.0rc1->sliceguard) (0.17.0)\n",
      "Requirement already satisfied: fastapi>=0.65.2 in /home/daniel/code/sliceguard/.venv/lib/python3.8/site-packages (from renumics-spotlight>=1.3.0rc1->sliceguard) (0.99.1)\n",
      "Requirement already satisfied: cleanvision<0.4.0,>=0.3.0 in /home/daniel/code/sliceguard/.venv/lib/python3.8/site-packages (from renumics-spotlight>=1.3.0rc1->sliceguard) (0.3.0)\n",
      "Requirement already satisfied: notebook in /home/daniel/code/sliceguard/.venv/lib/python3.8/site-packages (from renumics-spotlight>=1.3.0rc1->sliceguard) (6.5.4)\n",
      "Requirement already satisfied: ipywidgets in /home/daniel/code/sliceguard/.venv/lib/python3.8/site-packages (from renumics-spotlight>=1.3.0rc1->sliceguard) (8.0.7)\n",
      "Requirement already satisfied: pydantic in /home/daniel/code/sliceguard/.venv/lib/python3.8/site-packages (from renumics-spotlight>=1.3.0rc1->sliceguard) (1.10.11)\n",
      "Requirement already satisfied: httptools in /home/daniel/code/sliceguard/.venv/lib/python3.8/site-packages (from renumics-spotlight>=1.3.0rc1->sliceguard) (0.5.0)\n",
      "Requirement already satisfied: toml<0.11.0,>=0.10.2 in /home/daniel/code/sliceguard/.venv/lib/python3.8/site-packages (from renumics-spotlight>=1.3.0rc1->sliceguard) (0.10.2)\n",
      "Requirement already satisfied: databases[aiosqlite] in /home/daniel/code/sliceguard/.venv/lib/python3.8/site-packages (from renumics-spotlight>=1.3.0rc1->sliceguard) (0.7.0)\n",
      "Requirement already satisfied: jinja2<4.0.0,>=3.1.2 in /home/daniel/code/sliceguard/.venv/lib/python3.8/site-packages (from renumics-spotlight>=1.3.0rc1->sliceguard) (3.1.2)\n",
      "Requirement already satisfied: imageio>=2.18.0 in /home/daniel/code/sliceguard/.venv/lib/python3.8/site-packages (from renumics-spotlight>=1.3.0rc1->sliceguard) (2.31.1)\n",
      "Requirement already satisfied: websockets<12.0.0,>=11.0.3 in /home/daniel/code/sliceguard/.venv/lib/python3.8/site-packages (from renumics-spotlight>=1.3.0rc1->sliceguard) (11.0.3)\n",
      "Requirement already satisfied: diskcache in /home/daniel/code/sliceguard/.venv/lib/python3.8/site-packages (from renumics-spotlight>=1.3.0rc1->sliceguard) (5.6.1)\n",
      "Requirement already satisfied: imagecodecs in /home/daniel/code/sliceguard/.venv/lib/python3.8/site-packages (from renumics-spotlight>=1.3.0rc1->sliceguard) (2023.3.16)\n",
      "Requirement already satisfied: orjson in /home/daniel/code/sliceguard/.venv/lib/python3.8/site-packages (from renumics-spotlight>=1.3.0rc1->sliceguard) (3.9.1)\n",
      "Requirement already satisfied: rsa in /home/daniel/code/sliceguard/.venv/lib/python3.8/site-packages (from renumics-spotlight>=1.3.0rc1->sliceguard) (4.9)\n",
      "Requirement already satisfied: validators in /home/daniel/code/sliceguard/.venv/lib/python3.8/site-packages (from renumics-spotlight>=1.3.0rc1->sliceguard) (0.20.0)\n",
      "Requirement already satisfied: pycatch22 in /home/daniel/code/sliceguard/.venv/lib/python3.8/site-packages (from renumics-spotlight>=1.3.0rc1->sliceguard) (0.4.2)\n",
      "Requirement already satisfied: av in /home/daniel/code/sliceguard/.venv/lib/python3.8/site-packages (from renumics-spotlight>=1.3.0rc1->sliceguard) (10.0.0)\n",
      "Requirement already satisfied: uvicorn in /home/daniel/code/sliceguard/.venv/lib/python3.8/site-packages (from renumics-spotlight>=1.3.0rc1->sliceguard) (0.22.0)\n",
      "Requirement already satisfied: cleanlab<3.0.0,>=2.4.0 in /home/daniel/code/sliceguard/.venv/lib/python3.8/site-packages (from renumics-spotlight>=1.3.0rc1->sliceguard) (2.4.0)\n",
      "Requirement already satisfied: scikit-image in /home/daniel/code/sliceguard/.venv/lib/python3.8/site-packages (from renumics-spotlight>=1.3.0rc1->sliceguard) (0.21.0)\n",
      "Requirement already satisfied: h5py>3.0 in /home/daniel/code/sliceguard/.venv/lib/python3.8/site-packages (from renumics-spotlight>=1.3.0rc1->sliceguard) (3.9.0)\n",
      "Requirement already satisfied: prettytable in /home/daniel/code/sliceguard/.venv/lib/python3.8/site-packages (from renumics-spotlight>=1.3.0rc1->sliceguard) (3.8.0)\n",
      "Requirement already satisfied: trimesh in /home/daniel/code/sliceguard/.venv/lib/python3.8/site-packages (from renumics-spotlight>=1.3.0rc1->sliceguard) (3.22.3)\n",
      "Requirement already satisfied: networkx in /home/daniel/code/sliceguard/.venv/lib/python3.8/site-packages (from renumics-spotlight>=1.3.0rc1->sliceguard) (3.1)\n",
      "Requirement already satisfied: urllib3<3,>=1.21.1 in /home/daniel/code/sliceguard/.venv/lib/python3.8/site-packages (from requests>=2.19.0->datasets) (2.0.3)\n",
      "Requirement already satisfied: certifi>=2017.4.17 in /home/daniel/code/sliceguard/.venv/lib/python3.8/site-packages (from requests>=2.19.0->datasets) (2023.5.7)\n",
      "Requirement already satisfied: idna<4,>=2.5 in /home/daniel/code/sliceguard/.venv/lib/python3.8/site-packages (from requests>=2.19.0->datasets) (3.4)\n",
      "Requirement already satisfied: threadpoolctl>=2.0.0 in /home/daniel/code/sliceguard/.venv/lib/python3.8/site-packages (from scikit-learn>=1.2.2->sliceguard) (3.1.0)\n",
      "Requirement already satisfied: sentencepiece in /home/daniel/code/sliceguard/.venv/lib/python3.8/site-packages (from sentence-transformers>=2.2.1->sliceguard) (0.1.99)\n",
      "Requirement already satisfied: torchvision in /home/daniel/code/sliceguard/.venv/lib/python3.8/site-packages (from sentence-transformers>=2.2.1->sliceguard) (0.15.2)\n",
      "Requirement already satisfied: nltk in /home/daniel/code/sliceguard/.venv/lib/python3.8/site-packages (from sentence-transformers>=2.2.1->sliceguard) (3.8.1)\n",
      "Requirement already satisfied: nvidia-cuda-runtime-cu11==11.7.99 in /home/daniel/code/sliceguard/.venv/lib/python3.8/site-packages (from torch>=2.0.1->sliceguard) (11.7.99)\n",
      "Requirement already satisfied: nvidia-cufft-cu11==10.9.0.58 in /home/daniel/code/sliceguard/.venv/lib/python3.8/site-packages (from torch>=2.0.1->sliceguard) (10.9.0.58)\n",
      "Requirement already satisfied: sympy in /home/daniel/code/sliceguard/.venv/lib/python3.8/site-packages (from torch>=2.0.1->sliceguard) (1.12)\n",
      "Requirement already satisfied: nvidia-cuda-nvrtc-cu11==11.7.99 in /home/daniel/code/sliceguard/.venv/lib/python3.8/site-packages (from torch>=2.0.1->sliceguard) (11.7.99)\n",
      "Requirement already satisfied: nvidia-curand-cu11==10.2.10.91 in /home/daniel/code/sliceguard/.venv/lib/python3.8/site-packages (from torch>=2.0.1->sliceguard) (10.2.10.91)\n",
      "Requirement already satisfied: nvidia-cusolver-cu11==11.4.0.1 in /home/daniel/code/sliceguard/.venv/lib/python3.8/site-packages (from torch>=2.0.1->sliceguard) (11.4.0.1)\n",
      "Requirement already satisfied: nvidia-nvtx-cu11==11.7.91 in /home/daniel/code/sliceguard/.venv/lib/python3.8/site-packages (from torch>=2.0.1->sliceguard) (11.7.91)\n",
      "Requirement already satisfied: triton==2.0.0 in /home/daniel/code/sliceguard/.venv/lib/python3.8/site-packages (from torch>=2.0.1->sliceguard) (2.0.0)\n",
      "Requirement already satisfied: nvidia-cublas-cu11==11.10.3.66 in /home/daniel/code/sliceguard/.venv/lib/python3.8/site-packages (from torch>=2.0.1->sliceguard) (11.10.3.66)\n",
      "Requirement already satisfied: nvidia-cudnn-cu11==8.5.0.96 in /home/daniel/code/sliceguard/.venv/lib/python3.8/site-packages (from torch>=2.0.1->sliceguard) (8.5.0.96)\n",
      "Requirement already satisfied: nvidia-nccl-cu11==2.14.3 in /home/daniel/code/sliceguard/.venv/lib/python3.8/site-packages (from torch>=2.0.1->sliceguard) (2.14.3)\n",
      "Requirement already satisfied: nvidia-cusparse-cu11==11.7.4.91 in /home/daniel/code/sliceguard/.venv/lib/python3.8/site-packages (from torch>=2.0.1->sliceguard) (11.7.4.91)\n",
      "Requirement already satisfied: nvidia-cuda-cupti-cu11==11.7.101 in /home/daniel/code/sliceguard/.venv/lib/python3.8/site-packages (from torch>=2.0.1->sliceguard) (11.7.101)\n",
      "Requirement already satisfied: wheel in /home/daniel/code/sliceguard/.venv/lib/python3.8/site-packages (from nvidia-cublas-cu11==11.10.3.66->torch>=2.0.1->sliceguard) (0.40.0)\n",
      "Requirement already satisfied: setuptools in /home/daniel/code/sliceguard/.venv/lib/python3.8/site-packages (from nvidia-cublas-cu11==11.10.3.66->torch>=2.0.1->sliceguard) (56.0.0)\n"
     ]
    },
    {
     "name": "stdout",
     "output_type": "stream",
     "text": [
      "Requirement already satisfied: cmake in /home/daniel/code/sliceguard/.venv/lib/python3.8/site-packages (from triton==2.0.0->torch>=2.0.1->sliceguard) (3.26.4)\n",
      "Requirement already satisfied: lit in /home/daniel/code/sliceguard/.venv/lib/python3.8/site-packages (from triton==2.0.0->torch>=2.0.1->sliceguard) (16.0.6)\n",
      "Requirement already satisfied: tokenizers!=0.11.3,<0.14,>=0.11.1 in /home/daniel/code/sliceguard/.venv/lib/python3.8/site-packages (from transformers>=4.30.2->sliceguard) (0.13.3)\n",
      "Requirement already satisfied: safetensors>=0.3.1 in /home/daniel/code/sliceguard/.venv/lib/python3.8/site-packages (from transformers>=4.30.2->sliceguard) (0.3.1)\n",
      "Requirement already satisfied: regex!=2019.12.17 in /home/daniel/code/sliceguard/.venv/lib/python3.8/site-packages (from transformers>=4.30.2->sliceguard) (2023.6.3)\n",
      "Requirement already satisfied: termcolor>=2.0.0 in /home/daniel/code/sliceguard/.venv/lib/python3.8/site-packages (from cleanlab<3.0.0,>=2.4.0->renumics-spotlight>=1.3.0rc1->sliceguard) (2.3.0)\n",
      "Requirement already satisfied: matplotlib>=3.4 in /home/daniel/code/sliceguard/.venv/lib/python3.8/site-packages (from cleanvision<0.4.0,>=0.3.0->renumics-spotlight>=1.3.0rc1->sliceguard) (3.7.1)\n",
      "Requirement already satisfied: tabulate>=0.8.3 in /home/daniel/code/sliceguard/.venv/lib/python3.8/site-packages (from cleanvision<0.4.0,>=0.3.0->renumics-spotlight>=1.3.0rc1->sliceguard) (0.9.0)\n",
      "Requirement already satisfied: imagehash>=4.2.0 in /home/daniel/code/sliceguard/.venv/lib/python3.8/site-packages (from cleanvision<0.4.0,>=0.3.0->renumics-spotlight>=1.3.0rc1->sliceguard) (4.3.1)\n",
      "Requirement already satisfied: starlette<0.28.0,>=0.27.0 in /home/daniel/code/sliceguard/.venv/lib/python3.8/site-packages (from fastapi>=0.65.2->renumics-spotlight>=1.3.0rc1->sliceguard) (0.27.0)\n",
      "Requirement already satisfied: zipp>=3.1.0 in /home/daniel/code/sliceguard/.venv/lib/python3.8/site-packages (from importlib_resources<5.8.0->renumics-spotlight>=1.3.0rc1->sliceguard) (3.15.0)\n",
      "Requirement already satisfied: MarkupSafe>=2.0 in /home/daniel/code/sliceguard/.venv/lib/python3.8/site-packages (from jinja2<4.0.0,>=3.1.2->renumics-spotlight>=1.3.0rc1->sliceguard) (2.1.3)\n",
      "Requirement already satisfied: winregistry in /home/daniel/code/sliceguard/.venv/lib/python3.8/site-packages (from py-machineid<0.4.0,>=0.3.0->renumics-spotlight>=1.3.0rc1->sliceguard) (1.1.1)\n",
      "Requirement already satisfied: deprecated in /home/daniel/code/sliceguard/.venv/lib/python3.8/site-packages (from pygltflib>=1.15.1->renumics-spotlight>=1.3.0rc1->sliceguard) (1.2.14)\n",
      "Requirement already satisfied: dataclasses-json>=0.0.25 in /home/daniel/code/sliceguard/.venv/lib/python3.8/site-packages (from pygltflib>=1.15.1->renumics-spotlight>=1.3.0rc1->sliceguard) (0.5.9)\n",
      "Requirement already satisfied: six>=1.5 in /home/daniel/code/sliceguard/.venv/lib/python3.8/site-packages (from python-dateutil>=2.8.2->pandas>=2.0.0->sliceguard) (1.16.0)\n",
      "Requirement already satisfied: sqlalchemy<1.5,>=1.4.42 in /home/daniel/code/sliceguard/.venv/lib/python3.8/site-packages (from databases[aiosqlite]->renumics-spotlight>=1.3.0rc1->sliceguard) (1.4.48)\n",
      "Requirement already satisfied: aiosqlite in /home/daniel/code/sliceguard/.venv/lib/python3.8/site-packages (from databases[aiosqlite]->renumics-spotlight>=1.3.0rc1->sliceguard) (0.19.0)\n",
      "Requirement already satisfied: traitlets>=4.3.1 in /home/daniel/code/sliceguard/.venv/lib/python3.8/site-packages (from ipywidgets->renumics-spotlight>=1.3.0rc1->sliceguard) (5.9.0)\n",
      "Requirement already satisfied: ipykernel>=4.5.1 in /home/daniel/code/sliceguard/.venv/lib/python3.8/site-packages (from ipywidgets->renumics-spotlight>=1.3.0rc1->sliceguard) (6.24.0)\n",
      "Requirement already satisfied: widgetsnbextension~=4.0.7 in /home/daniel/code/sliceguard/.venv/lib/python3.8/site-packages (from ipywidgets->renumics-spotlight>=1.3.0rc1->sliceguard) (4.0.8)\n",
      "Requirement already satisfied: ipython>=6.1.0 in /home/daniel/code/sliceguard/.venv/lib/python3.8/site-packages (from ipywidgets->renumics-spotlight>=1.3.0rc1->sliceguard) (8.12.2)\n",
      "Requirement already satisfied: jupyterlab-widgets~=3.0.7 in /home/daniel/code/sliceguard/.venv/lib/python3.8/site-packages (from ipywidgets->renumics-spotlight>=1.3.0rc1->sliceguard) (3.0.8)\n",
      "Requirement already satisfied: nbclassic>=0.4.7 in /home/daniel/code/sliceguard/.venv/lib/python3.8/site-packages (from notebook->renumics-spotlight>=1.3.0rc1->sliceguard) (1.0.0)\n",
      "Requirement already satisfied: nbformat in /home/daniel/code/sliceguard/.venv/lib/python3.8/site-packages (from notebook->renumics-spotlight>=1.3.0rc1->sliceguard) (5.9.0)\n",
      "Requirement already satisfied: ipython-genutils in /home/daniel/code/sliceguard/.venv/lib/python3.8/site-packages (from notebook->renumics-spotlight>=1.3.0rc1->sliceguard) (0.2.0)\n",
      "Requirement already satisfied: nbconvert>=5 in /home/daniel/code/sliceguard/.venv/lib/python3.8/site-packages (from notebook->renumics-spotlight>=1.3.0rc1->sliceguard) (7.6.0)\n",
      "Requirement already satisfied: tornado>=6.1 in /home/daniel/code/sliceguard/.venv/lib/python3.8/site-packages (from notebook->renumics-spotlight>=1.3.0rc1->sliceguard) (6.3.2)\n",
      "Requirement already satisfied: jupyter-client>=5.3.4 in /home/daniel/code/sliceguard/.venv/lib/python3.8/site-packages (from notebook->renumics-spotlight>=1.3.0rc1->sliceguard) (8.3.0)\n",
      "Requirement already satisfied: jupyter-core>=4.6.1 in /home/daniel/code/sliceguard/.venv/lib/python3.8/site-packages (from notebook->renumics-spotlight>=1.3.0rc1->sliceguard) (5.3.1)\n",
      "Requirement already satisfied: terminado>=0.8.3 in /home/daniel/code/sliceguard/.venv/lib/python3.8/site-packages (from notebook->renumics-spotlight>=1.3.0rc1->sliceguard) (0.17.1)\n",
      "Requirement already satisfied: pyzmq>=17 in /home/daniel/code/sliceguard/.venv/lib/python3.8/site-packages (from notebook->renumics-spotlight>=1.3.0rc1->sliceguard) (25.1.0)\n",
      "Requirement already satisfied: nest-asyncio>=1.5 in /home/daniel/code/sliceguard/.venv/lib/python3.8/site-packages (from notebook->renumics-spotlight>=1.3.0rc1->sliceguard) (1.5.6)\n",
      "Requirement already satisfied: Send2Trash>=1.8.0 in /home/daniel/code/sliceguard/.venv/lib/python3.8/site-packages (from notebook->renumics-spotlight>=1.3.0rc1->sliceguard) (1.8.2)\n",
      "Requirement already satisfied: prometheus-client in /home/daniel/code/sliceguard/.venv/lib/python3.8/site-packages (from notebook->renumics-spotlight>=1.3.0rc1->sliceguard) (0.17.0)\n",
      "Requirement already satisfied: argon2-cffi in /home/daniel/code/sliceguard/.venv/lib/python3.8/site-packages (from notebook->renumics-spotlight>=1.3.0rc1->sliceguard) (21.3.0)\n",
      "Requirement already satisfied: wcwidth in /home/daniel/code/sliceguard/.venv/lib/python3.8/site-packages (from prettytable->renumics-spotlight>=1.3.0rc1->sliceguard) (0.2.6)\n",
      "Requirement already satisfied: pyasn1>=0.1.3 in /home/daniel/code/sliceguard/.venv/lib/python3.8/site-packages (from rsa->renumics-spotlight>=1.3.0rc1->sliceguard) (0.5.0)\n",
      "Requirement already satisfied: tifffile>=2022.8.12 in /home/daniel/code/sliceguard/.venv/lib/python3.8/site-packages (from scikit-image->renumics-spotlight>=1.3.0rc1->sliceguard) (2023.7.4)\n",
      "Requirement already satisfied: PyWavelets>=1.1.1 in /home/daniel/code/sliceguard/.venv/lib/python3.8/site-packages (from scikit-image->renumics-spotlight>=1.3.0rc1->sliceguard) (1.4.1)\n",
      "Requirement already satisfied: mpmath>=0.19 in /home/daniel/code/sliceguard/.venv/lib/python3.8/site-packages (from sympy->torch>=2.0.1->sliceguard) (1.3.0)\n",
      "Requirement already satisfied: h11>=0.8 in /home/daniel/code/sliceguard/.venv/lib/python3.8/site-packages (from uvicorn->renumics-spotlight>=1.3.0rc1->sliceguard) (0.14.0)\n",
      "Requirement already satisfied: marshmallow-enum<2.0.0,>=1.5.1 in /home/daniel/code/sliceguard/.venv/lib/python3.8/site-packages (from dataclasses-json>=0.0.25->pygltflib>=1.15.1->renumics-spotlight>=1.3.0rc1->sliceguard) (1.5.1)\n",
      "Requirement already satisfied: marshmallow<4.0.0,>=3.3.0 in /home/daniel/code/sliceguard/.venv/lib/python3.8/site-packages (from dataclasses-json>=0.0.25->pygltflib>=1.15.1->renumics-spotlight>=1.3.0rc1->sliceguard) (3.19.0)\n",
      "Requirement already satisfied: typing-inspect>=0.4.0 in /home/daniel/code/sliceguard/.venv/lib/python3.8/site-packages (from dataclasses-json>=0.0.25->pygltflib>=1.15.1->renumics-spotlight>=1.3.0rc1->sliceguard) (0.9.0)\n",
      "Requirement already satisfied: matplotlib-inline>=0.1 in /home/daniel/code/sliceguard/.venv/lib/python3.8/site-packages (from ipykernel>=4.5.1->ipywidgets->renumics-spotlight>=1.3.0rc1->sliceguard) (0.1.6)\n",
      "Requirement already satisfied: psutil in /home/daniel/code/sliceguard/.venv/lib/python3.8/site-packages (from ipykernel>=4.5.1->ipywidgets->renumics-spotlight>=1.3.0rc1->sliceguard) (5.9.5)\n",
      "Requirement already satisfied: comm>=0.1.1 in /home/daniel/code/sliceguard/.venv/lib/python3.8/site-packages (from ipykernel>=4.5.1->ipywidgets->renumics-spotlight>=1.3.0rc1->sliceguard) (0.1.3)\n",
      "Requirement already satisfied: debugpy>=1.6.5 in /home/daniel/code/sliceguard/.venv/lib/python3.8/site-packages (from ipykernel>=4.5.1->ipywidgets->renumics-spotlight>=1.3.0rc1->sliceguard) (1.6.7)\n"
     ]
    },
    {
     "name": "stdout",
     "output_type": "stream",
     "text": [
      "Requirement already satisfied: pexpect>4.3 in /home/daniel/code/sliceguard/.venv/lib/python3.8/site-packages (from ipython>=6.1.0->ipywidgets->renumics-spotlight>=1.3.0rc1->sliceguard) (4.8.0)\n",
      "Requirement already satisfied: pygments>=2.4.0 in /home/daniel/code/sliceguard/.venv/lib/python3.8/site-packages (from ipython>=6.1.0->ipywidgets->renumics-spotlight>=1.3.0rc1->sliceguard) (2.15.1)\n",
      "Requirement already satisfied: backcall in /home/daniel/code/sliceguard/.venv/lib/python3.8/site-packages (from ipython>=6.1.0->ipywidgets->renumics-spotlight>=1.3.0rc1->sliceguard) (0.2.0)\n",
      "Requirement already satisfied: stack-data in /home/daniel/code/sliceguard/.venv/lib/python3.8/site-packages (from ipython>=6.1.0->ipywidgets->renumics-spotlight>=1.3.0rc1->sliceguard) (0.6.2)\n",
      "Requirement already satisfied: prompt-toolkit!=3.0.37,<3.1.0,>=3.0.30 in /home/daniel/code/sliceguard/.venv/lib/python3.8/site-packages (from ipython>=6.1.0->ipywidgets->renumics-spotlight>=1.3.0rc1->sliceguard) (3.0.39)\n",
      "Requirement already satisfied: pickleshare in /home/daniel/code/sliceguard/.venv/lib/python3.8/site-packages (from ipython>=6.1.0->ipywidgets->renumics-spotlight>=1.3.0rc1->sliceguard) (0.7.5)\n",
      "Requirement already satisfied: jedi>=0.16 in /home/daniel/code/sliceguard/.venv/lib/python3.8/site-packages (from ipython>=6.1.0->ipywidgets->renumics-spotlight>=1.3.0rc1->sliceguard) (0.18.2)\n",
      "Requirement already satisfied: platformdirs>=2.5 in /home/daniel/code/sliceguard/.venv/lib/python3.8/site-packages (from jupyter-core>=4.6.1->notebook->renumics-spotlight>=1.3.0rc1->sliceguard) (3.8.0)\n",
      "Requirement already satisfied: cycler>=0.10 in /home/daniel/code/sliceguard/.venv/lib/python3.8/site-packages (from matplotlib>=3.4->cleanvision<0.4.0,>=0.3.0->renumics-spotlight>=1.3.0rc1->sliceguard) (0.11.0)\n",
      "Requirement already satisfied: kiwisolver>=1.0.1 in /home/daniel/code/sliceguard/.venv/lib/python3.8/site-packages (from matplotlib>=3.4->cleanvision<0.4.0,>=0.3.0->renumics-spotlight>=1.3.0rc1->sliceguard) (1.4.4)\n",
      "Requirement already satisfied: pyparsing>=2.3.1 in /home/daniel/code/sliceguard/.venv/lib/python3.8/site-packages (from matplotlib>=3.4->cleanvision<0.4.0,>=0.3.0->renumics-spotlight>=1.3.0rc1->sliceguard) (3.1.0)\n",
      "Requirement already satisfied: fonttools>=4.22.0 in /home/daniel/code/sliceguard/.venv/lib/python3.8/site-packages (from matplotlib>=3.4->cleanvision<0.4.0,>=0.3.0->renumics-spotlight>=1.3.0rc1->sliceguard) (4.40.0)\n",
      "Requirement already satisfied: contourpy>=1.0.1 in /home/daniel/code/sliceguard/.venv/lib/python3.8/site-packages (from matplotlib>=3.4->cleanvision<0.4.0,>=0.3.0->renumics-spotlight>=1.3.0rc1->sliceguard) (1.1.0)\n",
      "Requirement already satisfied: jupyter-server>=1.8 in /home/daniel/code/sliceguard/.venv/lib/python3.8/site-packages (from nbclassic>=0.4.7->notebook->renumics-spotlight>=1.3.0rc1->sliceguard) (2.7.0)\n",
      "Requirement already satisfied: notebook-shim>=0.2.3 in /home/daniel/code/sliceguard/.venv/lib/python3.8/site-packages (from nbclassic>=0.4.7->notebook->renumics-spotlight>=1.3.0rc1->sliceguard) (0.2.3)\n",
      "Requirement already satisfied: defusedxml in /home/daniel/code/sliceguard/.venv/lib/python3.8/site-packages (from nbconvert>=5->notebook->renumics-spotlight>=1.3.0rc1->sliceguard) (0.7.1)\n",
      "Requirement already satisfied: jupyterlab-pygments in /home/daniel/code/sliceguard/.venv/lib/python3.8/site-packages (from nbconvert>=5->notebook->renumics-spotlight>=1.3.0rc1->sliceguard) (0.2.2)\n",
      "Requirement already satisfied: nbclient>=0.5.0 in /home/daniel/code/sliceguard/.venv/lib/python3.8/site-packages (from nbconvert>=5->notebook->renumics-spotlight>=1.3.0rc1->sliceguard) (0.8.0)\n",
      "Requirement already satisfied: tinycss2 in /home/daniel/code/sliceguard/.venv/lib/python3.8/site-packages (from nbconvert>=5->notebook->renumics-spotlight>=1.3.0rc1->sliceguard) (1.2.1)\n",
      "Requirement already satisfied: bleach!=5.0.0 in /home/daniel/code/sliceguard/.venv/lib/python3.8/site-packages (from nbconvert>=5->notebook->renumics-spotlight>=1.3.0rc1->sliceguard) (6.0.0)\n",
      "Requirement already satisfied: pandocfilters>=1.4.1 in /home/daniel/code/sliceguard/.venv/lib/python3.8/site-packages (from nbconvert>=5->notebook->renumics-spotlight>=1.3.0rc1->sliceguard) (1.5.0)\n",
      "Requirement already satisfied: mistune<4,>=2.0.3 in /home/daniel/code/sliceguard/.venv/lib/python3.8/site-packages (from nbconvert>=5->notebook->renumics-spotlight>=1.3.0rc1->sliceguard) (3.0.1)\n",
      "Requirement already satisfied: beautifulsoup4 in /home/daniel/code/sliceguard/.venv/lib/python3.8/site-packages (from nbconvert>=5->notebook->renumics-spotlight>=1.3.0rc1->sliceguard) (4.12.2)\n",
      "Requirement already satisfied: jsonschema>=2.6 in /home/daniel/code/sliceguard/.venv/lib/python3.8/site-packages (from nbformat->notebook->renumics-spotlight>=1.3.0rc1->sliceguard) (4.17.3)\n",
      "Requirement already satisfied: fastjsonschema in /home/daniel/code/sliceguard/.venv/lib/python3.8/site-packages (from nbformat->notebook->renumics-spotlight>=1.3.0rc1->sliceguard) (2.17.1)\n",
      "Requirement already satisfied: greenlet!=0.4.17 in /home/daniel/code/sliceguard/.venv/lib/python3.8/site-packages (from sqlalchemy<1.5,>=1.4.42->databases[aiosqlite]->renumics-spotlight>=1.3.0rc1->sliceguard) (2.0.2)\n",
      "Requirement already satisfied: anyio<5,>=3.4.0 in /home/daniel/code/sliceguard/.venv/lib/python3.8/site-packages (from starlette<0.28.0,>=0.27.0->fastapi>=0.65.2->renumics-spotlight>=1.3.0rc1->sliceguard) (3.7.0)\n",
      "Requirement already satisfied: ptyprocess in /home/daniel/code/sliceguard/.venv/lib/python3.8/site-packages (from terminado>=0.8.3->notebook->renumics-spotlight>=1.3.0rc1->sliceguard) (0.7.0)\n",
      "Requirement already satisfied: argon2-cffi-bindings in /home/daniel/code/sliceguard/.venv/lib/python3.8/site-packages (from argon2-cffi->notebook->renumics-spotlight>=1.3.0rc1->sliceguard) (21.2.0)\n",
      "Requirement already satisfied: wrapt<2,>=1.10 in /home/daniel/code/sliceguard/.venv/lib/python3.8/site-packages (from deprecated->pygltflib>=1.15.1->renumics-spotlight>=1.3.0rc1->sliceguard) (1.15.0)\n",
      "Requirement already satisfied: sniffio>=1.1 in /home/daniel/code/sliceguard/.venv/lib/python3.8/site-packages (from anyio<5,>=3.4.0->starlette<0.28.0,>=0.27.0->fastapi>=0.65.2->renumics-spotlight>=1.3.0rc1->sliceguard) (1.3.0)\n",
      "Requirement already satisfied: exceptiongroup in /home/daniel/code/sliceguard/.venv/lib/python3.8/site-packages (from anyio<5,>=3.4.0->starlette<0.28.0,>=0.27.0->fastapi>=0.65.2->renumics-spotlight>=1.3.0rc1->sliceguard) (1.1.2)\n",
      "Requirement already satisfied: webencodings in /home/daniel/code/sliceguard/.venv/lib/python3.8/site-packages (from bleach!=5.0.0->nbconvert>=5->notebook->renumics-spotlight>=1.3.0rc1->sliceguard) (0.5.1)\n",
      "Requirement already satisfied: parso<0.9.0,>=0.8.0 in /home/daniel/code/sliceguard/.venv/lib/python3.8/site-packages (from jedi>=0.16->ipython>=6.1.0->ipywidgets->renumics-spotlight>=1.3.0rc1->sliceguard) (0.8.3)\n",
      "Requirement already satisfied: pkgutil-resolve-name>=1.3.10 in /home/daniel/code/sliceguard/.venv/lib/python3.8/site-packages (from jsonschema>=2.6->nbformat->notebook->renumics-spotlight>=1.3.0rc1->sliceguard) (1.3.10)\n",
      "Requirement already satisfied: pyrsistent!=0.17.0,!=0.17.1,!=0.17.2,>=0.14.0 in /home/daniel/code/sliceguard/.venv/lib/python3.8/site-packages (from jsonschema>=2.6->nbformat->notebook->renumics-spotlight>=1.3.0rc1->sliceguard) (0.19.3)\n",
      "Requirement already satisfied: websocket-client in /home/daniel/code/sliceguard/.venv/lib/python3.8/site-packages (from jupyter-server>=1.8->nbclassic>=0.4.7->notebook->renumics-spotlight>=1.3.0rc1->sliceguard) (1.6.1)\n",
      "Requirement already satisfied: jupyter-events>=0.6.0 in /home/daniel/code/sliceguard/.venv/lib/python3.8/site-packages (from jupyter-server>=1.8->nbclassic>=0.4.7->notebook->renumics-spotlight>=1.3.0rc1->sliceguard) (0.6.3)\n",
      "Requirement already satisfied: overrides in /home/daniel/code/sliceguard/.venv/lib/python3.8/site-packages (from jupyter-server>=1.8->nbclassic>=0.4.7->notebook->renumics-spotlight>=1.3.0rc1->sliceguard) (7.3.1)\n",
      "Requirement already satisfied: jupyter-server-terminals in /home/daniel/code/sliceguard/.venv/lib/python3.8/site-packages (from jupyter-server>=1.8->nbclassic>=0.4.7->notebook->renumics-spotlight>=1.3.0rc1->sliceguard) (0.4.4)\n"
     ]
    },
    {
     "name": "stdout",
     "output_type": "stream",
     "text": [
      "Requirement already satisfied: mypy-extensions>=0.3.0 in /home/daniel/code/sliceguard/.venv/lib/python3.8/site-packages (from typing-inspect>=0.4.0->dataclasses-json>=0.0.25->pygltflib>=1.15.1->renumics-spotlight>=1.3.0rc1->sliceguard) (1.0.0)\n",
      "Requirement already satisfied: soupsieve>1.2 in /home/daniel/code/sliceguard/.venv/lib/python3.8/site-packages (from beautifulsoup4->nbconvert>=5->notebook->renumics-spotlight>=1.3.0rc1->sliceguard) (2.4.1)\n",
      "Requirement already satisfied: executing>=1.2.0 in /home/daniel/code/sliceguard/.venv/lib/python3.8/site-packages (from stack-data->ipython>=6.1.0->ipywidgets->renumics-spotlight>=1.3.0rc1->sliceguard) (1.2.0)\n",
      "Requirement already satisfied: pure-eval in /home/daniel/code/sliceguard/.venv/lib/python3.8/site-packages (from stack-data->ipython>=6.1.0->ipywidgets->renumics-spotlight>=1.3.0rc1->sliceguard) (0.2.2)\n",
      "Requirement already satisfied: asttokens>=2.1.0 in /home/daniel/code/sliceguard/.venv/lib/python3.8/site-packages (from stack-data->ipython>=6.1.0->ipywidgets->renumics-spotlight>=1.3.0rc1->sliceguard) (2.2.1)\n",
      "Requirement already satisfied: rfc3339-validator in /home/daniel/code/sliceguard/.venv/lib/python3.8/site-packages (from jupyter-events>=0.6.0->jupyter-server>=1.8->nbclassic>=0.4.7->notebook->renumics-spotlight>=1.3.0rc1->sliceguard) (0.1.4)\n",
      "Requirement already satisfied: python-json-logger>=2.0.4 in /home/daniel/code/sliceguard/.venv/lib/python3.8/site-packages (from jupyter-events>=0.6.0->jupyter-server>=1.8->nbclassic>=0.4.7->notebook->renumics-spotlight>=1.3.0rc1->sliceguard) (2.0.7)\n",
      "Requirement already satisfied: rfc3986-validator>=0.1.1 in /home/daniel/code/sliceguard/.venv/lib/python3.8/site-packages (from jupyter-events>=0.6.0->jupyter-server>=1.8->nbclassic>=0.4.7->notebook->renumics-spotlight>=1.3.0rc1->sliceguard) (0.1.1)\n",
      "Requirement already satisfied: isoduration in /home/daniel/code/sliceguard/.venv/lib/python3.8/site-packages (from jsonschema>=2.6->nbformat->notebook->renumics-spotlight>=1.3.0rc1->sliceguard) (20.11.0)\n",
      "Requirement already satisfied: uri-template in /home/daniel/code/sliceguard/.venv/lib/python3.8/site-packages (from jsonschema>=2.6->nbformat->notebook->renumics-spotlight>=1.3.0rc1->sliceguard) (1.3.0)\n",
      "Requirement already satisfied: webcolors>=1.11 in /home/daniel/code/sliceguard/.venv/lib/python3.8/site-packages (from jsonschema>=2.6->nbformat->notebook->renumics-spotlight>=1.3.0rc1->sliceguard) (1.13)\n",
      "Requirement already satisfied: jsonpointer>1.13 in /home/daniel/code/sliceguard/.venv/lib/python3.8/site-packages (from jsonschema>=2.6->nbformat->notebook->renumics-spotlight>=1.3.0rc1->sliceguard) (2.4)\n",
      "Requirement already satisfied: fqdn in /home/daniel/code/sliceguard/.venv/lib/python3.8/site-packages (from jsonschema>=2.6->nbformat->notebook->renumics-spotlight>=1.3.0rc1->sliceguard) (1.5.1)\n",
      "Requirement already satisfied: arrow>=0.15.0 in /home/daniel/code/sliceguard/.venv/lib/python3.8/site-packages (from isoduration->jsonschema>=2.6->nbformat->notebook->renumics-spotlight>=1.3.0rc1->sliceguard) (1.2.3)\n",
      "\u001b[33mWARNING: You are using pip version 22.0.4; however, version 23.1.2 is available.\n",
      "You should consider upgrading via the '/home/daniel/code/sliceguard/.venv/bin/python -m pip install --upgrade pip' command.\u001b[0m\u001b[33m\n",
      "\u001b[0m"
     ]
    }
   ],
   "source": [
    "!pip install sliceguard librosa soundfile datasets tqdm jiwer"
   ]
  },
  {
   "cell_type": "markdown",
   "id": "d8385885",
   "metadata": {},
   "source": [
    "## Step 1: Generate predictions for the Common Voice dataset"
   ]
  },
  {
   "cell_type": "markdown",
   "id": "ced433ff",
   "metadata": {},
   "source": [
    "**IMPORTANT NOTE**: In order to access the commonvoice dataset you have to accept certain terms and conditions. To do this, create a huggingface account and accept the terms and conditions [HERE](https://huggingface.co/datasets/mozilla-foundation/common_voice_13_0). You then need to **create an access token** to access your datasets programmatically. Follow the steps for configuring one [HERE](https://huggingface.co/docs/hub/security-tokens). It is just a matter of few minutes. Just paste your access token into a file called **access_token.txt** and place it in the same directory as this notebook."
   ]
  },
  {
   "cell_type": "code",
   "execution_count": 1,
   "id": "d9478724",
   "metadata": {},
   "outputs": [],
   "source": [
    "# Configure this example here.\n",
    "# Like this it is optimized for fast execution only using whisper tiny.\n",
    "HF_MODEL = \"openai/whisper-tiny\"\n",
    "ACCESS_TOKEN_FILE = \"access_token.txt\"\n",
    "AUDIO_SAVE_DIR = \"audios\"\n",
    "NUM_SAMPLES = 2000"
   ]
  },
  {
   "cell_type": "code",
   "execution_count": 2,
   "id": "00dc6079",
   "metadata": {},
   "outputs": [],
   "source": [
    "# Some imports your will need to execute this\n",
    "import uuid\n",
    "import shutil\n",
    "from pathlib import Path\n",
    "import pandas as pd\n",
    "from tqdm import tqdm\n",
    "import torch\n",
    "import librosa\n",
    "import soundfile as sf\n",
    "from jiwer import wer\n",
    "from datasets import load_dataset, Audio\n",
    "from transformers import pipeline\n",
    "from transformers import WhisperProcessor, WhisperFeatureExtractor, WhisperTokenizer, WhisperForConditionalGeneration"
   ]
  },
  {
   "cell_type": "code",
   "execution_count": 3,
   "id": "15373734",
   "metadata": {},
   "outputs": [],
   "source": [
    "# Read the acces token for downloading the dataset\n",
    "access_token = Path(ACCESS_TOKEN_FILE).read_text()\n",
    "cv_13 = load_dataset(\"mozilla-foundation/common_voice_13_0\", \"en\", use_auth_token=access_token, streaming=True)"
   ]
  },
  {
   "cell_type": "code",
   "execution_count": 4,
   "id": "254cd94c",
   "metadata": {},
   "outputs": [],
   "source": [
    "# Instantiate an ASR pipeline with the configured model\n",
    "device = \"cuda:0\" if torch.cuda.is_available() else \"cpu\"\n",
    "\n",
    "feature_extractor = WhisperFeatureExtractor.from_pretrained(HF_MODEL)\n",
    "tokenizer = WhisperTokenizer.from_pretrained(HF_MODEL, language=\"en\", task=\"transcribe\")\n",
    "model = WhisperForConditionalGeneration.from_pretrained(HF_MODEL).to(device)\n",
    "\n",
    "model.config.forced_decoder_ids = tokenizer.get_decoder_prompt_ids() # Specify the task as we always want to use german and transcribe\n",
    "model.config.language = \"<|en|>\"\n",
    "model.config.task = \"transcribe\"\n",
    "\n",
    "pipe = pipeline(\"automatic-speech-recognition\", model=model, tokenizer=tokenizer, feature_extractor=feature_extractor, device=device)"
   ]
  },
  {
   "cell_type": "code",
   "execution_count": 5,
   "id": "7af43e84",
   "metadata": {},
   "outputs": [
    {
     "name": "stderr",
     "output_type": "stream",
     "text": [
      "  0%|                                                 | 0/2000 [00:00<?, ?it/s]\n",
      "Reading metadata...: 0it [00:00, ?it/s]\u001b[A\n",
      "Reading metadata...: 1it [00:01,  1.68s/it]\u001b[A\n",
      "Reading metadata...: 22068it [00:03, 8017.60it/s]\u001b[A\n",
      "Reading metadata...: 22891it [00:03, 6430.01it/s]\u001b[A\n",
      "Reading metadata...: 43987it [00:05, 9166.01it/s]\u001b[A\n",
      "Reading metadata...: 65891it [00:07, 10854.95it/s]\u001b[A\n",
      "Reading metadata...: 87679it [00:08, 11906.11it/s]\u001b[A\n",
      "Reading metadata...: 109202it [00:10, 11952.33it/s]\u001b[A\n",
      "Reading metadata...: 130629it [00:12, 12475.19it/s]\u001b[A\n",
      "Reading metadata...: 151838it [00:12, 18010.87it/s]\u001b[A\n",
      "Reading metadata...: 159303it [00:13, 13138.15it/s]\u001b[A\n",
      "Reading metadata...: 172914it [00:15, 11057.68it/s]\u001b[A\n",
      "Reading metadata...: 193788it [00:15, 17035.31it/s]\u001b[A\n",
      "Reading metadata...: 202868it [00:18, 9979.08it/s] \u001b[A\n",
      "Reading metadata...: 214827it [00:19, 9327.82it/s]\u001b[A\n",
      "Reading metadata...: 235814it [00:21, 10136.95it/s]\u001b[A\n",
      "Reading metadata...: 256646it [00:23, 11144.02it/s]\u001b[A\n",
      "Reading metadata...: 277374it [00:24, 11797.52it/s]\u001b[A\n",
      "Reading metadata...: 298001it [00:26, 11863.18it/s]\u001b[A\n",
      "Reading metadata...: 318433it [00:26, 16860.86it/s]\u001b[A\n",
      "Reading metadata...: 326033it [00:28, 12000.24it/s]\u001b[A\n",
      "Reading metadata...: 339251it [00:29, 10412.24it/s]\u001b[A\n",
      "Reading metadata...: 359197it [00:30, 15836.54it/s]\u001b[A\n",
      "Reading metadata...: 368012it [00:31, 11996.43it/s]\u001b[A\n",
      "Reading metadata...: 380133it [00:33, 10120.03it/s]\u001b[A\n",
      "Reading metadata...: 400471it [00:34, 11011.61it/s]\u001b[A\n",
      "Reading metadata...: 420910it [00:36, 11724.68it/s]\u001b[A\n",
      "Reading metadata...: 441177it [00:42, 6105.32it/s] \u001b[A\n",
      "Reading metadata...: 461316it [00:44, 7212.85it/s]\u001b[A\n",
      "Reading metadata...: 481495it [00:46, 8346.96it/s]\u001b[A\n",
      "Reading metadata...: 501749it [00:47, 9385.98it/s]\u001b[A\n",
      "Reading metadata...: 521836it [00:47, 13264.45it/s]\u001b[A\n",
      "Reading metadata...: 528957it [00:49, 10638.38it/s]\u001b[A\n",
      "Reading metadata...: 542606it [00:51, 9722.86it/s] \u001b[A\n",
      "Reading metadata...: 562807it [00:52, 10224.77it/s]\u001b[A\n",
      "Reading metadata...: 583309it [00:54, 10945.25it/s]\u001b[A\n",
      "Reading metadata...: 603316it [00:56, 11410.69it/s]\u001b[A\n",
      "Reading metadata...: 623105it [00:57, 11432.91it/s]\u001b[A\n",
      "Reading metadata...: 643438it [00:59, 11938.55it/s]\u001b[A\n",
      "Reading metadata...: 663514it [01:04, 7628.26it/s] \u001b[A\n",
      "Reading metadata...: 683919it [01:05, 8545.03it/s]\u001b[A\n",
      "Reading metadata...: 701624it [01:05, 11604.49it/s]\u001b[A\n",
      "Reading metadata...: 707817it [01:07, 8836.55it/s] \u001b[A\n",
      "Reading metadata...: 723878it [01:11, 6874.32it/s]\u001b[A\n",
      "Reading metadata...: 743723it [01:12, 8191.44it/s]\u001b[A\n",
      "Reading metadata...: 763579it [01:14, 9262.15it/s]\u001b[A\n",
      "Reading metadata...: 782814it [01:15, 10424.12it/s]\u001b[A\n",
      "Reading metadata...: 802101it [01:17, 10798.18it/s]\u001b[A\n",
      "Reading metadata...: 822227it [01:19, 10846.21it/s]\u001b[A\n",
      "Reading metadata...: 842810it [01:20, 11538.10it/s]\u001b[A\n",
      "Reading metadata...: 861426it [01:22, 11142.57it/s]\u001b[A\n",
      "Reading metadata...: 881166it [01:24, 11075.88it/s]\u001b[A\n",
      "Reading metadata...: 901724it [01:26, 11671.82it/s]\u001b[A\n",
      "Reading metadata...: 922547it [01:27, 12217.85it/s]\u001b[A\n",
      "Reading metadata...: 942272it [01:32, 7401.68it/s] \u001b[A\n",
      "Reading metadata...: 962459it [01:38, 5717.77it/s]\u001b[A\n",
      "Reading metadata...: 981676it [01:39, 6617.35it/s]\u001b[A\n",
      "Reading metadata...: 1013968it [01:41, 9997.55it/s]\u001b[A\n",
      "/home/daniel/code/sliceguard/.venv/lib/python3.8/site-packages/transformers/generation/utils.py:1353: UserWarning: Using `max_length`'s default (448) to control the generation length. This behaviour is deprecated and will be removed from the config in v5 of Transformers -- we recommend using `max_new_tokens` to control the maximum length of the generation.\n",
      "  warnings.warn(\n",
      "  0%|▏                                       | 10/2000 [01:50<49:25,  1.49s/it]/home/daniel/code/sliceguard/.venv/lib/python3.8/site-packages/transformers/pipelines/base.py:1081: UserWarning: You seem to be using the pipelines sequentially on GPU. In order to maximize efficiency please use a dataset\n",
      "  warnings.warn(\n",
      "100%|██████████████████████████████████████| 2000/2000 [06:40<00:00,  5.00it/s]\n"
     ]
    }
   ],
   "source": [
    "keys_to_save = [\"sentence\", \"up_votes\", \"down_votes\", \"age\", \"gender\", \"accent\", \"locale\", \"segment\", \"variant\"]\n",
    "\n",
    "audio_save_dir = Path(AUDIO_SAVE_DIR)\n",
    "if  not audio_save_dir.is_dir():\n",
    "    audio_save_dir.mkdir()\n",
    "else:\n",
    "    shutil.rmtree(audio_save_dir)\n",
    "    audio_save_dir.mkdir()\n",
    "\n",
    "num_samples = 0\n",
    "data = []\n",
    "for sample in tqdm(cv_13[\"train\"], total=NUM_SAMPLES):\n",
    "    new_audio = librosa.resample(sample[\"audio\"][\"array\"], orig_sr=sample[\"audio\"][\"sampling_rate\"], target_sr=16000)\n",
    "    file_stem = str(uuid.uuid4())\n",
    "    cur_data = {}\n",
    "    for k in keys_to_save:\n",
    "        cur_data[k] = sample[k]\n",
    "    prediction = pipe(new_audio)[\"text\"]\n",
    "    cur_data[\"prediction\"] = prediction\n",
    "    \n",
    "    sample_wer = wer(sample[\"sentence\"], prediction)\n",
    "    cur_data[\"wer\"] = sample_wer\n",
    "    \n",
    "    target_path = audio_save_dir / (file_stem + \".wav\")\n",
    "    cur_data[\"audio\"] = target_path\n",
    "    sf.write(target_path, new_audio, 16000)\n",
    "    data.append(cur_data)\n",
    "    num_samples += 1\n",
    "    if num_samples > NUM_SAMPLES:\n",
    "        break"
   ]
  },
  {
   "cell_type": "code",
   "execution_count": 6,
   "id": "c5d9d684",
   "metadata": {},
   "outputs": [],
   "source": [
    "df = pd.DataFrame(data)\n",
    "df[\"audio\"] = df[\"audio\"].astype(\"string\") # otherwise overflow in serializing json\n",
    "df.to_json(\"dataset.json\", orient=\"records\")"
   ]
  },
  {
   "cell_type": "markdown",
   "id": "deab58d8",
   "metadata": {},
   "source": [
    "## Step 2: Detect issues caused by environmental noise\n",
    "First check we want to do is checking wether there are audio recordings that are somehow so different from the rest of the data that they cannot be properly transcribed. Here we mostly target **general audio properties and environmental noise** such as background noises.\n",
    "\n",
    "In order to do this, we leverage **general purpose audio embeddings** of a model trained on Audioset."
   ]
  },
  {
   "cell_type": "code",
   "execution_count": 7,
   "id": "9ddc05d0",
   "metadata": {},
   "outputs": [],
   "source": [
    "# Some imports you will need for this step\n",
    "import pandas as pd\n",
    "import numpy as np\n",
    "from jiwer import wer\n",
    "from sliceguard import SliceGuard\n",
    "from renumics.spotlight import Audio"
   ]
  },
  {
   "cell_type": "code",
   "execution_count": 8,
   "id": "1a41fbff",
   "metadata": {},
   "outputs": [],
   "source": [
    "# Read the generated dataset including the predictions\n",
    "df = pd.read_json(\"dataset.json\")"
   ]
  },
  {
   "cell_type": "code",
   "execution_count": 9,
   "id": "13fe8c32",
   "metadata": {},
   "outputs": [],
   "source": [
    "# Define the metric function\n",
    "def wer_metric(y_true, y_pred):\n",
    "    return np.mean([wer(s_y, s_pred) for s_y, s_pred in zip(y_true, y_pred)])"
   ]
  },
  {
   "cell_type": "code",
   "execution_count": 33,
   "id": "8b131b55",
   "metadata": {},
   "outputs": [
    {
     "name": "stdout",
     "output_type": "stream",
     "text": [
      "Feature audio was inferred as referring to raw data. If this is not the case, please specify in feature_types!\n"
     ]
    },
    {
     "name": "stderr",
     "output_type": "stream",
     "text": [
      "Some weights of the model checkpoint at MIT/ast-finetuned-audioset-10-10-0.4593 were not used when initializing ASTModel: ['classifier.dense.bias', 'classifier.layernorm.weight', 'classifier.layernorm.bias', 'classifier.dense.weight']\n",
      "- This IS expected if you are initializing ASTModel from the checkpoint of a model trained on another task or with another architecture (e.g. initializing a BertForSequenceClassification model from a BertForPreTraining model).\n",
      "- This IS NOT expected if you are initializing ASTModel from the checkpoint of a model that you expect to be exactly identical (initializing a BertForSequenceClassification model from a BertForSequenceClassification model).\n",
      "100%|██████████████████████████████████████| 2001/2001 [02:01<00:00, 16.43it/s]\n"
     ]
    },
    {
     "name": "stdout",
     "output_type": "stream",
     "text": [
      "The overall metric value is 0.3165315929558808\n",
      "Using 5 as minimum support for determining problematic clusters.\n",
      "Using 0.2 as minimum drop for determining problematic clusters.\n",
      "Identified 7 problematic slices.\n"
     ]
    }
   ],
   "source": [
    "# Perform an initial detection aiming for relatively small clusters of minimum 5 similar samples\n",
    "sg = SliceGuard()\n",
    "issue_df = sg.find_issues(\n",
    "        df,\n",
    "        [\"audio\"],\n",
    "        \"sentence\",\n",
    "        \"prediction\",\n",
    "        wer_metric,\n",
    "        metric_mode=\"min\",\n",
    "        embedding_models={\"audio\": \"MIT/ast-finetuned-audioset-10-10-0.4593\"},\n",
    "        min_support=5,\n",
    "        min_drop=0.2,\n",
    "    )"
   ]
  },
  {
   "cell_type": "code",
   "execution_count": 34,
   "id": "4462ee73",
   "metadata": {},
   "outputs": [],
   "source": [
    "# Report the issues using Renumics Spotlight\n",
    "sg.report(spotlight_dtype={\"audio\": Audio})"
   ]
  },
  {
   "cell_type": "code",
   "execution_count": 35,
   "id": "ba55979a",
   "metadata": {},
   "outputs": [],
   "source": [
    "# Of course if you want to run additional checks you don't need to recompute the embeddings all the time.\n",
    "# Just save them here, and supply the precomputed embeddings in the next call\n",
    "# where we will check for smaller clusters aka outliers.\n",
    "computed_embeddings = sg.embeddings"
   ]
  },
  {
   "cell_type": "code",
   "execution_count": 36,
   "id": "df13fff6",
   "metadata": {},
   "outputs": [
    {
     "name": "stdout",
     "output_type": "stream",
     "text": [
      "Feature audio was inferred as referring to raw data. If this is not the case, please specify in feature_types!\n",
      "The overall metric value is 0.3165315929558808\n",
      "Using 1 as minimum support for determining problematic clusters.\n",
      "Using 0.5 as minimum drop for determining problematic clusters.\n",
      "Identified 7 problematic slices.\n"
     ]
    }
   ],
   "source": [
    "# Perform an additional detection, targeting outliers with significant drops (see min_support and min_drop)\n",
    "# We even allow for clusters containing single samples here.\n",
    "sg = SliceGuard()\n",
    "issue_df = sg.find_issues(\n",
    "        df,\n",
    "        [\"audio\"],\n",
    "        \"sentence\",\n",
    "        \"prediction\",\n",
    "        wer_metric,\n",
    "        metric_mode=\"min\",\n",
    "        min_support=1,\n",
    "        min_drop=0.5,\n",
    "        precomputed_embeddings=computed_embeddings\n",
    "    )"
   ]
  },
  {
   "cell_type": "code",
   "execution_count": 37,
   "id": "4ab785bb",
   "metadata": {},
   "outputs": [],
   "source": [
    "# Report the issues using Renumics Spotlight\n",
    "sg.report(spotlight_dtype={\"audio\": Audio})"
   ]
  },
  {
   "cell_type": "markdown",
   "id": "e8b6d287",
   "metadata": {},
   "source": [
    "## Step 3: Detect issues caused by (uncommon) speakers\n",
    "While the previous detection example targeted finding general audio conditions that can cause issues, this is not always the criterion we want to check for. A way of defining other criterions is **changing the underlying embedding** to **capture different properties of the data**. In this case, we define the embedding model to be a model for **speaker identification**. This should allow us, to **detect uncommon speakers**, although they are note explicitely labeled."
   ]
  },
  {
   "cell_type": "code",
   "execution_count": 22,
   "id": "408a0fb7",
   "metadata": {},
   "outputs": [
    {
     "name": "stdout",
     "output_type": "stream",
     "text": [
      "Feature audio was inferred as referring to raw data. If this is not the case, please specify in feature_types!\n"
     ]
    },
    {
     "name": "stderr",
     "output_type": "stream",
     "text": [
      "/home/daniel/code/sliceguard/.venv/lib/python3.8/site-packages/transformers/configuration_utils.py:380: UserWarning: Passing `gradient_checkpointing` to a config initialization is deprecated and will be removed in v5 Transformers. Using `model.gradient_checkpointing_enable()` instead, or if you are using the `Trainer` API, pass `gradient_checkpointing=True` in your `TrainingArguments`.\n",
      "  warnings.warn(\n",
      "Some weights of the model checkpoint at superb/wav2vec2-base-superb-sid were not used when initializing Wav2Vec2Model: ['layer_weights', 'classifier.weight', 'classifier.bias', 'projector.weight', 'projector.bias']\n",
      "- This IS expected if you are initializing Wav2Vec2Model from the checkpoint of a model trained on another task or with another architecture (e.g. initializing a BertForSequenceClassification model from a BertForPreTraining model).\n",
      "- This IS NOT expected if you are initializing Wav2Vec2Model from the checkpoint of a model that you expect to be exactly identical (initializing a BertForSequenceClassification model from a BertForSequenceClassification model).\n",
      "100%|██████████████████████████████████████| 2001/2001 [00:42<00:00, 46.71it/s]\n"
     ]
    },
    {
     "name": "stdout",
     "output_type": "stream",
     "text": [
      "The overall metric value is 0.3165315929558808\n",
      "Using 3 as minimum support for determining problematic clusters.\n",
      "Using 0.4 as minimum drop for determining problematic clusters.\n",
      "Identified 4 problematic slices.\n"
     ]
    }
   ],
   "source": [
    "# Perform a detection using a speaker identification model for computing embeddings.\n",
    "# This will help to recover problematic speakers even though they are not explicitely labeled.\n",
    "sg = SliceGuard()\n",
    "issue_df = sg.find_issues(\n",
    "        df,\n",
    "        [\"audio\"],\n",
    "        \"sentence\",\n",
    "        \"prediction\",\n",
    "        wer_metric,\n",
    "        metric_mode=\"min\",\n",
    "        embedding_models={\"audio\": \"superb/wav2vec2-base-superb-sid\"},\n",
    "        min_support=3,\n",
    "        min_drop=0.4,\n",
    "    )"
   ]
  },
  {
   "cell_type": "code",
   "execution_count": 23,
   "id": "5faee9cf",
   "metadata": {},
   "outputs": [],
   "source": [
    "# Report the issues using Renumics Spotlight\n",
    "sg.report(spotlight_dtype={\"audio\": Audio})"
   ]
  }
 ],
 "metadata": {
  "kernelspec": {
   "display_name": "Python 3 (ipykernel)",
   "language": "python",
   "name": "python3"
  },
  "language_info": {
   "codemirror_mode": {
    "name": "ipython",
    "version": 3
   },
   "file_extension": ".py",
   "mimetype": "text/x-python",
   "name": "python",
   "nbconvert_exporter": "python",
   "pygments_lexer": "ipython3",
   "version": "3.8.17"
  }
 },
 "nbformat": 4,
 "nbformat_minor": 5
}
